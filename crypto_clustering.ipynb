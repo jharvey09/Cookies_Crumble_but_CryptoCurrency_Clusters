{
 "cells": [
  {
   "cell_type": "markdown",
   "metadata": {},
   "source": [
    "# Clustering Crypto"
   ]
  },
  {
   "cell_type": "code",
   "execution_count": 55,
   "metadata": {},
   "outputs": [],
   "source": [
    "# Initial imports\n",
    "import requests\n",
    "import pandas as pd\n",
    "import matplotlib.pyplot as plt\n",
    "import hvplot.pandas\n",
    "import plotly.express as px\n",
    "from sklearn.preprocessing import StandardScaler, MinMaxScaler\n",
    "from sklearn.decomposition import PCA\n",
    "from sklearn.cluster import KMeans\n",
    "from pathlib import Path"
   ]
  },
  {
   "cell_type": "markdown",
   "metadata": {},
   "source": [
    "### Fetching Cryptocurrency Data"
   ]
  },
  {
   "cell_type": "code",
   "execution_count": 56,
   "metadata": {},
   "outputs": [],
   "source": [
    "# Use the following endpoint to fetch json data\n",
    "url = \"https://min-api.cryptocompare.com/data/all/coinlist\""
   ]
  },
  {
   "cell_type": "code",
   "execution_count": 57,
   "metadata": {},
   "outputs": [
    {
     "data": {
      "text/html": [
       "<div>\n",
       "<style scoped>\n",
       "    .dataframe tbody tr th:only-of-type {\n",
       "        vertical-align: middle;\n",
       "    }\n",
       "\n",
       "    .dataframe tbody tr th {\n",
       "        vertical-align: top;\n",
       "    }\n",
       "\n",
       "    .dataframe thead th {\n",
       "        text-align: right;\n",
       "    }\n",
       "</style>\n",
       "<table border=\"1\" class=\"dataframe\">\n",
       "  <thead>\n",
       "    <tr style=\"text-align: right;\">\n",
       "      <th></th>\n",
       "      <th>CoinName</th>\n",
       "      <th>Algorithm</th>\n",
       "      <th>IsTrading</th>\n",
       "      <th>ProofType</th>\n",
       "      <th>TotalCoinsMined</th>\n",
       "      <th>TotalCoinSupply</th>\n",
       "    </tr>\n",
       "  </thead>\n",
       "  <tbody>\n",
       "    <tr>\n",
       "      <th>0</th>\n",
       "      <td>42 Coin</td>\n",
       "      <td>Scrypt</td>\n",
       "      <td>True</td>\n",
       "      <td>PoW/PoS</td>\n",
       "      <td>4.199995e+01</td>\n",
       "      <td>42</td>\n",
       "    </tr>\n",
       "    <tr>\n",
       "      <th>1</th>\n",
       "      <td>365Coin</td>\n",
       "      <td>X11</td>\n",
       "      <td>True</td>\n",
       "      <td>PoW/PoS</td>\n",
       "      <td>NaN</td>\n",
       "      <td>2300000000</td>\n",
       "    </tr>\n",
       "    <tr>\n",
       "      <th>2</th>\n",
       "      <td>404Coin</td>\n",
       "      <td>Scrypt</td>\n",
       "      <td>True</td>\n",
       "      <td>PoW/PoS</td>\n",
       "      <td>1.055185e+09</td>\n",
       "      <td>532000000</td>\n",
       "    </tr>\n",
       "    <tr>\n",
       "      <th>3</th>\n",
       "      <td>SixEleven</td>\n",
       "      <td>SHA-256</td>\n",
       "      <td>True</td>\n",
       "      <td>PoW</td>\n",
       "      <td>NaN</td>\n",
       "      <td>611000</td>\n",
       "    </tr>\n",
       "    <tr>\n",
       "      <th>4</th>\n",
       "      <td>808</td>\n",
       "      <td>SHA-256</td>\n",
       "      <td>True</td>\n",
       "      <td>PoW/PoS</td>\n",
       "      <td>0.000000e+00</td>\n",
       "      <td>0</td>\n",
       "    </tr>\n",
       "    <tr>\n",
       "      <th>5</th>\n",
       "      <td>EliteCoin</td>\n",
       "      <td>X13</td>\n",
       "      <td>True</td>\n",
       "      <td>PoW/PoS</td>\n",
       "      <td>2.927942e+10</td>\n",
       "      <td>314159265359</td>\n",
       "    </tr>\n",
       "    <tr>\n",
       "      <th>6</th>\n",
       "      <td>2015 coin</td>\n",
       "      <td>X11</td>\n",
       "      <td>True</td>\n",
       "      <td>PoW/PoS</td>\n",
       "      <td>NaN</td>\n",
       "      <td>0</td>\n",
       "    </tr>\n",
       "    <tr>\n",
       "      <th>7</th>\n",
       "      <td>Bitcoin</td>\n",
       "      <td>SHA-256</td>\n",
       "      <td>True</td>\n",
       "      <td>PoW</td>\n",
       "      <td>1.792718e+07</td>\n",
       "      <td>21000000</td>\n",
       "    </tr>\n",
       "    <tr>\n",
       "      <th>8</th>\n",
       "      <td>Ethereum</td>\n",
       "      <td>Ethash</td>\n",
       "      <td>True</td>\n",
       "      <td>PoW</td>\n",
       "      <td>1.076842e+08</td>\n",
       "      <td>0</td>\n",
       "    </tr>\n",
       "    <tr>\n",
       "      <th>9</th>\n",
       "      <td>Litecoin</td>\n",
       "      <td>Scrypt</td>\n",
       "      <td>True</td>\n",
       "      <td>PoW</td>\n",
       "      <td>6.303924e+07</td>\n",
       "      <td>84000000</td>\n",
       "    </tr>\n",
       "  </tbody>\n",
       "</table>\n",
       "</div>"
      ],
      "text/plain": [
       "    CoinName Algorithm  IsTrading ProofType  TotalCoinsMined TotalCoinSupply\n",
       "0    42 Coin    Scrypt       True   PoW/PoS     4.199995e+01              42\n",
       "1    365Coin       X11       True   PoW/PoS              NaN      2300000000\n",
       "2    404Coin    Scrypt       True   PoW/PoS     1.055185e+09       532000000\n",
       "3  SixEleven   SHA-256       True       PoW              NaN          611000\n",
       "4        808   SHA-256       True   PoW/PoS     0.000000e+00               0\n",
       "5  EliteCoin       X13       True   PoW/PoS     2.927942e+10    314159265359\n",
       "6  2015 coin       X11       True   PoW/PoS              NaN               0\n",
       "7    Bitcoin   SHA-256       True       PoW     1.792718e+07        21000000\n",
       "8   Ethereum    Ethash       True       PoW     1.076842e+08               0\n",
       "9   Litecoin    Scrypt       True       PoW     6.303924e+07        84000000"
      ]
     },
     "execution_count": 57,
     "metadata": {},
     "output_type": "execute_result"
    }
   ],
   "source": [
    "# Loading data and create DataFrame with neccessary columns\n",
    "file_path = Path(\"./Resources/crypto_data.csv\")\n",
    "crypto_data_df = pd.read_csv(file_path)\n",
    "crypto_data_df = crypto_data_df.drop(columns=[\"Unnamed: 0\"])\n",
    "crypto_data_df.head(10)"
   ]
  },
  {
   "cell_type": "markdown",
   "metadata": {},
   "source": [
    "### Data Preprocessing"
   ]
  },
  {
   "cell_type": "code",
   "execution_count": 58,
   "metadata": {},
   "outputs": [
    {
     "data": {
      "text/html": [
       "<div>\n",
       "<style scoped>\n",
       "    .dataframe tbody tr th:only-of-type {\n",
       "        vertical-align: middle;\n",
       "    }\n",
       "\n",
       "    .dataframe tbody tr th {\n",
       "        vertical-align: top;\n",
       "    }\n",
       "\n",
       "    .dataframe thead th {\n",
       "        text-align: right;\n",
       "    }\n",
       "</style>\n",
       "<table border=\"1\" class=\"dataframe\">\n",
       "  <thead>\n",
       "    <tr style=\"text-align: right;\">\n",
       "      <th></th>\n",
       "      <th>CoinName</th>\n",
       "      <th>Algorithm</th>\n",
       "      <th>IsTrading</th>\n",
       "      <th>ProofType</th>\n",
       "      <th>TotalCoinsMined</th>\n",
       "      <th>TotalCoinSupply</th>\n",
       "    </tr>\n",
       "  </thead>\n",
       "  <tbody>\n",
       "    <tr>\n",
       "      <th>0</th>\n",
       "      <td>42 Coin</td>\n",
       "      <td>Scrypt</td>\n",
       "      <td>True</td>\n",
       "      <td>PoW/PoS</td>\n",
       "      <td>4.199995e+01</td>\n",
       "      <td>42</td>\n",
       "    </tr>\n",
       "    <tr>\n",
       "      <th>1</th>\n",
       "      <td>365Coin</td>\n",
       "      <td>X11</td>\n",
       "      <td>True</td>\n",
       "      <td>PoW/PoS</td>\n",
       "      <td>NaN</td>\n",
       "      <td>2300000000</td>\n",
       "    </tr>\n",
       "    <tr>\n",
       "      <th>2</th>\n",
       "      <td>404Coin</td>\n",
       "      <td>Scrypt</td>\n",
       "      <td>True</td>\n",
       "      <td>PoW/PoS</td>\n",
       "      <td>1.055185e+09</td>\n",
       "      <td>532000000</td>\n",
       "    </tr>\n",
       "    <tr>\n",
       "      <th>3</th>\n",
       "      <td>SixEleven</td>\n",
       "      <td>SHA-256</td>\n",
       "      <td>True</td>\n",
       "      <td>PoW</td>\n",
       "      <td>NaN</td>\n",
       "      <td>611000</td>\n",
       "    </tr>\n",
       "    <tr>\n",
       "      <th>4</th>\n",
       "      <td>808</td>\n",
       "      <td>SHA-256</td>\n",
       "      <td>True</td>\n",
       "      <td>PoW/PoS</td>\n",
       "      <td>0.000000e+00</td>\n",
       "      <td>0</td>\n",
       "    </tr>\n",
       "    <tr>\n",
       "      <th>5</th>\n",
       "      <td>EliteCoin</td>\n",
       "      <td>X13</td>\n",
       "      <td>True</td>\n",
       "      <td>PoW/PoS</td>\n",
       "      <td>2.927942e+10</td>\n",
       "      <td>314159265359</td>\n",
       "    </tr>\n",
       "    <tr>\n",
       "      <th>6</th>\n",
       "      <td>2015 coin</td>\n",
       "      <td>X11</td>\n",
       "      <td>True</td>\n",
       "      <td>PoW/PoS</td>\n",
       "      <td>NaN</td>\n",
       "      <td>0</td>\n",
       "    </tr>\n",
       "    <tr>\n",
       "      <th>7</th>\n",
       "      <td>Bitcoin</td>\n",
       "      <td>SHA-256</td>\n",
       "      <td>True</td>\n",
       "      <td>PoW</td>\n",
       "      <td>1.792718e+07</td>\n",
       "      <td>21000000</td>\n",
       "    </tr>\n",
       "    <tr>\n",
       "      <th>8</th>\n",
       "      <td>Ethereum</td>\n",
       "      <td>Ethash</td>\n",
       "      <td>True</td>\n",
       "      <td>PoW</td>\n",
       "      <td>1.076842e+08</td>\n",
       "      <td>0</td>\n",
       "    </tr>\n",
       "    <tr>\n",
       "      <th>9</th>\n",
       "      <td>Litecoin</td>\n",
       "      <td>Scrypt</td>\n",
       "      <td>True</td>\n",
       "      <td>PoW</td>\n",
       "      <td>6.303924e+07</td>\n",
       "      <td>84000000</td>\n",
       "    </tr>\n",
       "    <tr>\n",
       "      <th>10</th>\n",
       "      <td>Dash</td>\n",
       "      <td>X11</td>\n",
       "      <td>True</td>\n",
       "      <td>PoW/PoS</td>\n",
       "      <td>9.031294e+06</td>\n",
       "      <td>22000000</td>\n",
       "    </tr>\n",
       "    <tr>\n",
       "      <th>11</th>\n",
       "      <td>Monero</td>\n",
       "      <td>CryptoNight-V7</td>\n",
       "      <td>True</td>\n",
       "      <td>PoW</td>\n",
       "      <td>1.720114e+07</td>\n",
       "      <td>0</td>\n",
       "    </tr>\n",
       "    <tr>\n",
       "      <th>12</th>\n",
       "      <td>Ethereum Classic</td>\n",
       "      <td>Ethash</td>\n",
       "      <td>True</td>\n",
       "      <td>PoW</td>\n",
       "      <td>1.133597e+08</td>\n",
       "      <td>210000000</td>\n",
       "    </tr>\n",
       "    <tr>\n",
       "      <th>13</th>\n",
       "      <td>ZCash</td>\n",
       "      <td>Equihash</td>\n",
       "      <td>True</td>\n",
       "      <td>PoW</td>\n",
       "      <td>7.383056e+06</td>\n",
       "      <td>21000000</td>\n",
       "    </tr>\n",
       "    <tr>\n",
       "      <th>14</th>\n",
       "      <td>Bitshares</td>\n",
       "      <td>SHA-512</td>\n",
       "      <td>True</td>\n",
       "      <td>PoS</td>\n",
       "      <td>2.741570e+09</td>\n",
       "      <td>3600570502</td>\n",
       "    </tr>\n",
       "  </tbody>\n",
       "</table>\n",
       "</div>"
      ],
      "text/plain": [
       "            CoinName       Algorithm  IsTrading ProofType  TotalCoinsMined  \\\n",
       "0            42 Coin          Scrypt       True   PoW/PoS     4.199995e+01   \n",
       "1            365Coin             X11       True   PoW/PoS              NaN   \n",
       "2            404Coin          Scrypt       True   PoW/PoS     1.055185e+09   \n",
       "3          SixEleven         SHA-256       True       PoW              NaN   \n",
       "4                808         SHA-256       True   PoW/PoS     0.000000e+00   \n",
       "5          EliteCoin             X13       True   PoW/PoS     2.927942e+10   \n",
       "6          2015 coin             X11       True   PoW/PoS              NaN   \n",
       "7            Bitcoin         SHA-256       True       PoW     1.792718e+07   \n",
       "8           Ethereum          Ethash       True       PoW     1.076842e+08   \n",
       "9           Litecoin          Scrypt       True       PoW     6.303924e+07   \n",
       "10              Dash             X11       True   PoW/PoS     9.031294e+06   \n",
       "11            Monero  CryptoNight-V7       True       PoW     1.720114e+07   \n",
       "12  Ethereum Classic          Ethash       True       PoW     1.133597e+08   \n",
       "13             ZCash        Equihash       True       PoW     7.383056e+06   \n",
       "14         Bitshares         SHA-512       True       PoS     2.741570e+09   \n",
       "\n",
       "   TotalCoinSupply  \n",
       "0               42  \n",
       "1       2300000000  \n",
       "2        532000000  \n",
       "3           611000  \n",
       "4                0  \n",
       "5     314159265359  \n",
       "6                0  \n",
       "7         21000000  \n",
       "8                0  \n",
       "9         84000000  \n",
       "10        22000000  \n",
       "11               0  \n",
       "12       210000000  \n",
       "13        21000000  \n",
       "14      3600570502  "
      ]
     },
     "execution_count": 58,
     "metadata": {},
     "output_type": "execute_result"
    }
   ],
   "source": [
    "# Keep only cryptocurrencies that are trading\n",
    "crypto_data_df = crypto_data_df.loc[crypto_data_df[\"IsTrading\"] == True]\n",
    "crypto_data_df.head(15)"
   ]
  },
  {
   "cell_type": "code",
   "execution_count": 59,
   "metadata": {},
   "outputs": [
    {
     "data": {
      "text/html": [
       "<div>\n",
       "<style scoped>\n",
       "    .dataframe tbody tr th:only-of-type {\n",
       "        vertical-align: middle;\n",
       "    }\n",
       "\n",
       "    .dataframe tbody tr th {\n",
       "        vertical-align: top;\n",
       "    }\n",
       "\n",
       "    .dataframe thead th {\n",
       "        text-align: right;\n",
       "    }\n",
       "</style>\n",
       "<table border=\"1\" class=\"dataframe\">\n",
       "  <thead>\n",
       "    <tr style=\"text-align: right;\">\n",
       "      <th></th>\n",
       "      <th>CoinName</th>\n",
       "      <th>Algorithm</th>\n",
       "      <th>IsTrading</th>\n",
       "      <th>ProofType</th>\n",
       "      <th>TotalCoinsMined</th>\n",
       "      <th>TotalCoinSupply</th>\n",
       "    </tr>\n",
       "  </thead>\n",
       "  <tbody>\n",
       "    <tr>\n",
       "      <th>0</th>\n",
       "      <td>42 Coin</td>\n",
       "      <td>Scrypt</td>\n",
       "      <td>True</td>\n",
       "      <td>PoW/PoS</td>\n",
       "      <td>4.199995e+01</td>\n",
       "      <td>42</td>\n",
       "    </tr>\n",
       "    <tr>\n",
       "      <th>1</th>\n",
       "      <td>365Coin</td>\n",
       "      <td>X11</td>\n",
       "      <td>True</td>\n",
       "      <td>PoW/PoS</td>\n",
       "      <td>NaN</td>\n",
       "      <td>2300000000</td>\n",
       "    </tr>\n",
       "    <tr>\n",
       "      <th>2</th>\n",
       "      <td>404Coin</td>\n",
       "      <td>Scrypt</td>\n",
       "      <td>True</td>\n",
       "      <td>PoW/PoS</td>\n",
       "      <td>1.055185e+09</td>\n",
       "      <td>532000000</td>\n",
       "    </tr>\n",
       "    <tr>\n",
       "      <th>3</th>\n",
       "      <td>SixEleven</td>\n",
       "      <td>SHA-256</td>\n",
       "      <td>True</td>\n",
       "      <td>PoW</td>\n",
       "      <td>NaN</td>\n",
       "      <td>611000</td>\n",
       "    </tr>\n",
       "    <tr>\n",
       "      <th>4</th>\n",
       "      <td>808</td>\n",
       "      <td>SHA-256</td>\n",
       "      <td>True</td>\n",
       "      <td>PoW/PoS</td>\n",
       "      <td>0.000000e+00</td>\n",
       "      <td>0</td>\n",
       "    </tr>\n",
       "    <tr>\n",
       "      <th>5</th>\n",
       "      <td>EliteCoin</td>\n",
       "      <td>X13</td>\n",
       "      <td>True</td>\n",
       "      <td>PoW/PoS</td>\n",
       "      <td>2.927942e+10</td>\n",
       "      <td>314159265359</td>\n",
       "    </tr>\n",
       "    <tr>\n",
       "      <th>6</th>\n",
       "      <td>2015 coin</td>\n",
       "      <td>X11</td>\n",
       "      <td>True</td>\n",
       "      <td>PoW/PoS</td>\n",
       "      <td>NaN</td>\n",
       "      <td>0</td>\n",
       "    </tr>\n",
       "    <tr>\n",
       "      <th>7</th>\n",
       "      <td>Bitcoin</td>\n",
       "      <td>SHA-256</td>\n",
       "      <td>True</td>\n",
       "      <td>PoW</td>\n",
       "      <td>1.792718e+07</td>\n",
       "      <td>21000000</td>\n",
       "    </tr>\n",
       "    <tr>\n",
       "      <th>8</th>\n",
       "      <td>Ethereum</td>\n",
       "      <td>Ethash</td>\n",
       "      <td>True</td>\n",
       "      <td>PoW</td>\n",
       "      <td>1.076842e+08</td>\n",
       "      <td>0</td>\n",
       "    </tr>\n",
       "    <tr>\n",
       "      <th>9</th>\n",
       "      <td>Litecoin</td>\n",
       "      <td>Scrypt</td>\n",
       "      <td>True</td>\n",
       "      <td>PoW</td>\n",
       "      <td>6.303924e+07</td>\n",
       "      <td>84000000</td>\n",
       "    </tr>\n",
       "    <tr>\n",
       "      <th>10</th>\n",
       "      <td>Dash</td>\n",
       "      <td>X11</td>\n",
       "      <td>True</td>\n",
       "      <td>PoW/PoS</td>\n",
       "      <td>9.031294e+06</td>\n",
       "      <td>22000000</td>\n",
       "    </tr>\n",
       "    <tr>\n",
       "      <th>11</th>\n",
       "      <td>Monero</td>\n",
       "      <td>CryptoNight-V7</td>\n",
       "      <td>True</td>\n",
       "      <td>PoW</td>\n",
       "      <td>1.720114e+07</td>\n",
       "      <td>0</td>\n",
       "    </tr>\n",
       "    <tr>\n",
       "      <th>12</th>\n",
       "      <td>Ethereum Classic</td>\n",
       "      <td>Ethash</td>\n",
       "      <td>True</td>\n",
       "      <td>PoW</td>\n",
       "      <td>1.133597e+08</td>\n",
       "      <td>210000000</td>\n",
       "    </tr>\n",
       "    <tr>\n",
       "      <th>13</th>\n",
       "      <td>ZCash</td>\n",
       "      <td>Equihash</td>\n",
       "      <td>True</td>\n",
       "      <td>PoW</td>\n",
       "      <td>7.383056e+06</td>\n",
       "      <td>21000000</td>\n",
       "    </tr>\n",
       "    <tr>\n",
       "      <th>14</th>\n",
       "      <td>Bitshares</td>\n",
       "      <td>SHA-512</td>\n",
       "      <td>True</td>\n",
       "      <td>PoS</td>\n",
       "      <td>2.741570e+09</td>\n",
       "      <td>3600570502</td>\n",
       "    </tr>\n",
       "  </tbody>\n",
       "</table>\n",
       "</div>"
      ],
      "text/plain": [
       "            CoinName       Algorithm  IsTrading ProofType  TotalCoinsMined  \\\n",
       "0            42 Coin          Scrypt       True   PoW/PoS     4.199995e+01   \n",
       "1            365Coin             X11       True   PoW/PoS              NaN   \n",
       "2            404Coin          Scrypt       True   PoW/PoS     1.055185e+09   \n",
       "3          SixEleven         SHA-256       True       PoW              NaN   \n",
       "4                808         SHA-256       True   PoW/PoS     0.000000e+00   \n",
       "5          EliteCoin             X13       True   PoW/PoS     2.927942e+10   \n",
       "6          2015 coin             X11       True   PoW/PoS              NaN   \n",
       "7            Bitcoin         SHA-256       True       PoW     1.792718e+07   \n",
       "8           Ethereum          Ethash       True       PoW     1.076842e+08   \n",
       "9           Litecoin          Scrypt       True       PoW     6.303924e+07   \n",
       "10              Dash             X11       True   PoW/PoS     9.031294e+06   \n",
       "11            Monero  CryptoNight-V7       True       PoW     1.720114e+07   \n",
       "12  Ethereum Classic          Ethash       True       PoW     1.133597e+08   \n",
       "13             ZCash        Equihash       True       PoW     7.383056e+06   \n",
       "14         Bitshares         SHA-512       True       PoS     2.741570e+09   \n",
       "\n",
       "   TotalCoinSupply  \n",
       "0               42  \n",
       "1       2300000000  \n",
       "2        532000000  \n",
       "3           611000  \n",
       "4                0  \n",
       "5     314159265359  \n",
       "6                0  \n",
       "7         21000000  \n",
       "8                0  \n",
       "9         84000000  \n",
       "10        22000000  \n",
       "11               0  \n",
       "12       210000000  \n",
       "13        21000000  \n",
       "14      3600570502  "
      ]
     },
     "execution_count": 59,
     "metadata": {},
     "output_type": "execute_result"
    }
   ],
   "source": [
    "# Keep only cryptocurrencies with a working algorithm\n",
    "crypto_data_df = crypto_data_df.loc[crypto_data_df[\"Algorithm\"] != \"N/A\"]\n",
    "crypto_data_df.head(15)"
   ]
  },
  {
   "cell_type": "code",
   "execution_count": 60,
   "metadata": {},
   "outputs": [
    {
     "data": {
      "text/html": [
       "<div>\n",
       "<style scoped>\n",
       "    .dataframe tbody tr th:only-of-type {\n",
       "        vertical-align: middle;\n",
       "    }\n",
       "\n",
       "    .dataframe tbody tr th {\n",
       "        vertical-align: top;\n",
       "    }\n",
       "\n",
       "    .dataframe thead th {\n",
       "        text-align: right;\n",
       "    }\n",
       "</style>\n",
       "<table border=\"1\" class=\"dataframe\">\n",
       "  <thead>\n",
       "    <tr style=\"text-align: right;\">\n",
       "      <th></th>\n",
       "      <th>CoinName</th>\n",
       "      <th>Algorithm</th>\n",
       "      <th>ProofType</th>\n",
       "      <th>TotalCoinsMined</th>\n",
       "      <th>TotalCoinSupply</th>\n",
       "    </tr>\n",
       "  </thead>\n",
       "  <tbody>\n",
       "    <tr>\n",
       "      <th>0</th>\n",
       "      <td>42 Coin</td>\n",
       "      <td>Scrypt</td>\n",
       "      <td>PoW/PoS</td>\n",
       "      <td>4.199995e+01</td>\n",
       "      <td>42</td>\n",
       "    </tr>\n",
       "    <tr>\n",
       "      <th>1</th>\n",
       "      <td>365Coin</td>\n",
       "      <td>X11</td>\n",
       "      <td>PoW/PoS</td>\n",
       "      <td>NaN</td>\n",
       "      <td>2300000000</td>\n",
       "    </tr>\n",
       "    <tr>\n",
       "      <th>2</th>\n",
       "      <td>404Coin</td>\n",
       "      <td>Scrypt</td>\n",
       "      <td>PoW/PoS</td>\n",
       "      <td>1.055185e+09</td>\n",
       "      <td>532000000</td>\n",
       "    </tr>\n",
       "    <tr>\n",
       "      <th>3</th>\n",
       "      <td>SixEleven</td>\n",
       "      <td>SHA-256</td>\n",
       "      <td>PoW</td>\n",
       "      <td>NaN</td>\n",
       "      <td>611000</td>\n",
       "    </tr>\n",
       "    <tr>\n",
       "      <th>4</th>\n",
       "      <td>808</td>\n",
       "      <td>SHA-256</td>\n",
       "      <td>PoW/PoS</td>\n",
       "      <td>0.000000e+00</td>\n",
       "      <td>0</td>\n",
       "    </tr>\n",
       "  </tbody>\n",
       "</table>\n",
       "</div>"
      ],
      "text/plain": [
       "    CoinName Algorithm ProofType  TotalCoinsMined TotalCoinSupply\n",
       "0    42 Coin    Scrypt   PoW/PoS     4.199995e+01              42\n",
       "1    365Coin       X11   PoW/PoS              NaN      2300000000\n",
       "2    404Coin    Scrypt   PoW/PoS     1.055185e+09       532000000\n",
       "3  SixEleven   SHA-256       PoW              NaN          611000\n",
       "4        808   SHA-256   PoW/PoS     0.000000e+00               0"
      ]
     },
     "execution_count": 60,
     "metadata": {},
     "output_type": "execute_result"
    }
   ],
   "source": [
    "# Remove the \"IsTrading\" column\n",
    "crypto_data_df = crypto_data_df.drop(columns=[\"IsTrading\"])\n",
    "crypto_data_df.head()"
   ]
  },
  {
   "cell_type": "code",
   "execution_count": 61,
   "metadata": {},
   "outputs": [
    {
     "data": {
      "text/html": [
       "<div>\n",
       "<style scoped>\n",
       "    .dataframe tbody tr th:only-of-type {\n",
       "        vertical-align: middle;\n",
       "    }\n",
       "\n",
       "    .dataframe tbody tr th {\n",
       "        vertical-align: top;\n",
       "    }\n",
       "\n",
       "    .dataframe thead th {\n",
       "        text-align: right;\n",
       "    }\n",
       "</style>\n",
       "<table border=\"1\" class=\"dataframe\">\n",
       "  <thead>\n",
       "    <tr style=\"text-align: right;\">\n",
       "      <th></th>\n",
       "      <th>CoinName</th>\n",
       "      <th>Algorithm</th>\n",
       "      <th>ProofType</th>\n",
       "      <th>TotalCoinsMined</th>\n",
       "      <th>TotalCoinSupply</th>\n",
       "    </tr>\n",
       "  </thead>\n",
       "  <tbody>\n",
       "    <tr>\n",
       "      <th>0</th>\n",
       "      <td>42 Coin</td>\n",
       "      <td>Scrypt</td>\n",
       "      <td>PoW/PoS</td>\n",
       "      <td>4.199995e+01</td>\n",
       "      <td>42</td>\n",
       "    </tr>\n",
       "    <tr>\n",
       "      <th>2</th>\n",
       "      <td>404Coin</td>\n",
       "      <td>Scrypt</td>\n",
       "      <td>PoW/PoS</td>\n",
       "      <td>1.055185e+09</td>\n",
       "      <td>532000000</td>\n",
       "    </tr>\n",
       "    <tr>\n",
       "      <th>4</th>\n",
       "      <td>808</td>\n",
       "      <td>SHA-256</td>\n",
       "      <td>PoW/PoS</td>\n",
       "      <td>0.000000e+00</td>\n",
       "      <td>0</td>\n",
       "    </tr>\n",
       "    <tr>\n",
       "      <th>5</th>\n",
       "      <td>EliteCoin</td>\n",
       "      <td>X13</td>\n",
       "      <td>PoW/PoS</td>\n",
       "      <td>2.927942e+10</td>\n",
       "      <td>314159265359</td>\n",
       "    </tr>\n",
       "    <tr>\n",
       "      <th>7</th>\n",
       "      <td>Bitcoin</td>\n",
       "      <td>SHA-256</td>\n",
       "      <td>PoW</td>\n",
       "      <td>1.792718e+07</td>\n",
       "      <td>21000000</td>\n",
       "    </tr>\n",
       "    <tr>\n",
       "      <th>8</th>\n",
       "      <td>Ethereum</td>\n",
       "      <td>Ethash</td>\n",
       "      <td>PoW</td>\n",
       "      <td>1.076842e+08</td>\n",
       "      <td>0</td>\n",
       "    </tr>\n",
       "    <tr>\n",
       "      <th>9</th>\n",
       "      <td>Litecoin</td>\n",
       "      <td>Scrypt</td>\n",
       "      <td>PoW</td>\n",
       "      <td>6.303924e+07</td>\n",
       "      <td>84000000</td>\n",
       "    </tr>\n",
       "    <tr>\n",
       "      <th>10</th>\n",
       "      <td>Dash</td>\n",
       "      <td>X11</td>\n",
       "      <td>PoW/PoS</td>\n",
       "      <td>9.031294e+06</td>\n",
       "      <td>22000000</td>\n",
       "    </tr>\n",
       "    <tr>\n",
       "      <th>11</th>\n",
       "      <td>Monero</td>\n",
       "      <td>CryptoNight-V7</td>\n",
       "      <td>PoW</td>\n",
       "      <td>1.720114e+07</td>\n",
       "      <td>0</td>\n",
       "    </tr>\n",
       "    <tr>\n",
       "      <th>12</th>\n",
       "      <td>Ethereum Classic</td>\n",
       "      <td>Ethash</td>\n",
       "      <td>PoW</td>\n",
       "      <td>1.133597e+08</td>\n",
       "      <td>210000000</td>\n",
       "    </tr>\n",
       "    <tr>\n",
       "      <th>13</th>\n",
       "      <td>ZCash</td>\n",
       "      <td>Equihash</td>\n",
       "      <td>PoW</td>\n",
       "      <td>7.383056e+06</td>\n",
       "      <td>21000000</td>\n",
       "    </tr>\n",
       "    <tr>\n",
       "      <th>14</th>\n",
       "      <td>Bitshares</td>\n",
       "      <td>SHA-512</td>\n",
       "      <td>PoS</td>\n",
       "      <td>2.741570e+09</td>\n",
       "      <td>3600570502</td>\n",
       "    </tr>\n",
       "    <tr>\n",
       "      <th>15</th>\n",
       "      <td>DigiByte</td>\n",
       "      <td>Multiple</td>\n",
       "      <td>PoW</td>\n",
       "      <td>1.140622e+10</td>\n",
       "      <td>21000000000</td>\n",
       "    </tr>\n",
       "    <tr>\n",
       "      <th>16</th>\n",
       "      <td>BitcoinDark</td>\n",
       "      <td>SHA-256</td>\n",
       "      <td>PoW/PoS</td>\n",
       "      <td>1.288862e+06</td>\n",
       "      <td>22000000</td>\n",
       "    </tr>\n",
       "    <tr>\n",
       "      <th>18</th>\n",
       "      <td>Bitstake</td>\n",
       "      <td>X11</td>\n",
       "      <td>PoW/PoS</td>\n",
       "      <td>0.000000e+00</td>\n",
       "      <td>1300000</td>\n",
       "    </tr>\n",
       "  </tbody>\n",
       "</table>\n",
       "</div>"
      ],
      "text/plain": [
       "            CoinName       Algorithm ProofType  TotalCoinsMined  \\\n",
       "0            42 Coin          Scrypt   PoW/PoS     4.199995e+01   \n",
       "2            404Coin          Scrypt   PoW/PoS     1.055185e+09   \n",
       "4                808         SHA-256   PoW/PoS     0.000000e+00   \n",
       "5          EliteCoin             X13   PoW/PoS     2.927942e+10   \n",
       "7            Bitcoin         SHA-256       PoW     1.792718e+07   \n",
       "8           Ethereum          Ethash       PoW     1.076842e+08   \n",
       "9           Litecoin          Scrypt       PoW     6.303924e+07   \n",
       "10              Dash             X11   PoW/PoS     9.031294e+06   \n",
       "11            Monero  CryptoNight-V7       PoW     1.720114e+07   \n",
       "12  Ethereum Classic          Ethash       PoW     1.133597e+08   \n",
       "13             ZCash        Equihash       PoW     7.383056e+06   \n",
       "14         Bitshares         SHA-512       PoS     2.741570e+09   \n",
       "15          DigiByte        Multiple       PoW     1.140622e+10   \n",
       "16       BitcoinDark         SHA-256   PoW/PoS     1.288862e+06   \n",
       "18          Bitstake             X11   PoW/PoS     0.000000e+00   \n",
       "\n",
       "   TotalCoinSupply  \n",
       "0               42  \n",
       "2        532000000  \n",
       "4                0  \n",
       "5     314159265359  \n",
       "7         21000000  \n",
       "8                0  \n",
       "9         84000000  \n",
       "10        22000000  \n",
       "11               0  \n",
       "12       210000000  \n",
       "13        21000000  \n",
       "14      3600570502  \n",
       "15     21000000000  \n",
       "16        22000000  \n",
       "18         1300000  "
      ]
     },
     "execution_count": 61,
     "metadata": {},
     "output_type": "execute_result"
    }
   ],
   "source": [
    "# Remove rows with at least 1 null value\n",
    "crypto_data_df = crypto_data_df.dropna()\n",
    "crypto_data_df.head(15)"
   ]
  },
  {
   "cell_type": "code",
   "execution_count": 62,
   "metadata": {},
   "outputs": [
    {
     "data": {
      "text/html": [
       "<div>\n",
       "<style scoped>\n",
       "    .dataframe tbody tr th:only-of-type {\n",
       "        vertical-align: middle;\n",
       "    }\n",
       "\n",
       "    .dataframe tbody tr th {\n",
       "        vertical-align: top;\n",
       "    }\n",
       "\n",
       "    .dataframe thead th {\n",
       "        text-align: right;\n",
       "    }\n",
       "</style>\n",
       "<table border=\"1\" class=\"dataframe\">\n",
       "  <thead>\n",
       "    <tr style=\"text-align: right;\">\n",
       "      <th></th>\n",
       "      <th>CoinName</th>\n",
       "      <th>Algorithm</th>\n",
       "      <th>ProofType</th>\n",
       "      <th>TotalCoinsMined</th>\n",
       "      <th>TotalCoinSupply</th>\n",
       "    </tr>\n",
       "  </thead>\n",
       "  <tbody>\n",
       "    <tr>\n",
       "      <th>0</th>\n",
       "      <td>42 Coin</td>\n",
       "      <td>Scrypt</td>\n",
       "      <td>PoW/PoS</td>\n",
       "      <td>4.199995e+01</td>\n",
       "      <td>42</td>\n",
       "    </tr>\n",
       "    <tr>\n",
       "      <th>2</th>\n",
       "      <td>404Coin</td>\n",
       "      <td>Scrypt</td>\n",
       "      <td>PoW/PoS</td>\n",
       "      <td>1.055185e+09</td>\n",
       "      <td>532000000</td>\n",
       "    </tr>\n",
       "    <tr>\n",
       "      <th>5</th>\n",
       "      <td>EliteCoin</td>\n",
       "      <td>X13</td>\n",
       "      <td>PoW/PoS</td>\n",
       "      <td>2.927942e+10</td>\n",
       "      <td>314159265359</td>\n",
       "    </tr>\n",
       "    <tr>\n",
       "      <th>7</th>\n",
       "      <td>Bitcoin</td>\n",
       "      <td>SHA-256</td>\n",
       "      <td>PoW</td>\n",
       "      <td>1.792718e+07</td>\n",
       "      <td>21000000</td>\n",
       "    </tr>\n",
       "    <tr>\n",
       "      <th>8</th>\n",
       "      <td>Ethereum</td>\n",
       "      <td>Ethash</td>\n",
       "      <td>PoW</td>\n",
       "      <td>1.076842e+08</td>\n",
       "      <td>0</td>\n",
       "    </tr>\n",
       "    <tr>\n",
       "      <th>9</th>\n",
       "      <td>Litecoin</td>\n",
       "      <td>Scrypt</td>\n",
       "      <td>PoW</td>\n",
       "      <td>6.303924e+07</td>\n",
       "      <td>84000000</td>\n",
       "    </tr>\n",
       "    <tr>\n",
       "      <th>10</th>\n",
       "      <td>Dash</td>\n",
       "      <td>X11</td>\n",
       "      <td>PoW/PoS</td>\n",
       "      <td>9.031294e+06</td>\n",
       "      <td>22000000</td>\n",
       "    </tr>\n",
       "    <tr>\n",
       "      <th>11</th>\n",
       "      <td>Monero</td>\n",
       "      <td>CryptoNight-V7</td>\n",
       "      <td>PoW</td>\n",
       "      <td>1.720114e+07</td>\n",
       "      <td>0</td>\n",
       "    </tr>\n",
       "    <tr>\n",
       "      <th>12</th>\n",
       "      <td>Ethereum Classic</td>\n",
       "      <td>Ethash</td>\n",
       "      <td>PoW</td>\n",
       "      <td>1.133597e+08</td>\n",
       "      <td>210000000</td>\n",
       "    </tr>\n",
       "    <tr>\n",
       "      <th>13</th>\n",
       "      <td>ZCash</td>\n",
       "      <td>Equihash</td>\n",
       "      <td>PoW</td>\n",
       "      <td>7.383056e+06</td>\n",
       "      <td>21000000</td>\n",
       "    </tr>\n",
       "    <tr>\n",
       "      <th>14</th>\n",
       "      <td>Bitshares</td>\n",
       "      <td>SHA-512</td>\n",
       "      <td>PoS</td>\n",
       "      <td>2.741570e+09</td>\n",
       "      <td>3600570502</td>\n",
       "    </tr>\n",
       "    <tr>\n",
       "      <th>15</th>\n",
       "      <td>DigiByte</td>\n",
       "      <td>Multiple</td>\n",
       "      <td>PoW</td>\n",
       "      <td>1.140622e+10</td>\n",
       "      <td>21000000000</td>\n",
       "    </tr>\n",
       "    <tr>\n",
       "      <th>16</th>\n",
       "      <td>BitcoinDark</td>\n",
       "      <td>SHA-256</td>\n",
       "      <td>PoW/PoS</td>\n",
       "      <td>1.288862e+06</td>\n",
       "      <td>22000000</td>\n",
       "    </tr>\n",
       "    <tr>\n",
       "      <th>19</th>\n",
       "      <td>PayCoin</td>\n",
       "      <td>SHA-256</td>\n",
       "      <td>PoS</td>\n",
       "      <td>1.199533e+07</td>\n",
       "      <td>12500000</td>\n",
       "    </tr>\n",
       "    <tr>\n",
       "      <th>20</th>\n",
       "      <td>ProsperCoin</td>\n",
       "      <td>Scrypt</td>\n",
       "      <td>PoW</td>\n",
       "      <td>5.768310e+06</td>\n",
       "      <td>21000000</td>\n",
       "    </tr>\n",
       "  </tbody>\n",
       "</table>\n",
       "</div>"
      ],
      "text/plain": [
       "            CoinName       Algorithm ProofType  TotalCoinsMined  \\\n",
       "0            42 Coin          Scrypt   PoW/PoS     4.199995e+01   \n",
       "2            404Coin          Scrypt   PoW/PoS     1.055185e+09   \n",
       "5          EliteCoin             X13   PoW/PoS     2.927942e+10   \n",
       "7            Bitcoin         SHA-256       PoW     1.792718e+07   \n",
       "8           Ethereum          Ethash       PoW     1.076842e+08   \n",
       "9           Litecoin          Scrypt       PoW     6.303924e+07   \n",
       "10              Dash             X11   PoW/PoS     9.031294e+06   \n",
       "11            Monero  CryptoNight-V7       PoW     1.720114e+07   \n",
       "12  Ethereum Classic          Ethash       PoW     1.133597e+08   \n",
       "13             ZCash        Equihash       PoW     7.383056e+06   \n",
       "14         Bitshares         SHA-512       PoS     2.741570e+09   \n",
       "15          DigiByte        Multiple       PoW     1.140622e+10   \n",
       "16       BitcoinDark         SHA-256   PoW/PoS     1.288862e+06   \n",
       "19           PayCoin         SHA-256       PoS     1.199533e+07   \n",
       "20       ProsperCoin          Scrypt       PoW     5.768310e+06   \n",
       "\n",
       "   TotalCoinSupply  \n",
       "0               42  \n",
       "2        532000000  \n",
       "5     314159265359  \n",
       "7         21000000  \n",
       "8                0  \n",
       "9         84000000  \n",
       "10        22000000  \n",
       "11               0  \n",
       "12       210000000  \n",
       "13        21000000  \n",
       "14      3600570502  \n",
       "15     21000000000  \n",
       "16        22000000  \n",
       "19        12500000  \n",
       "20        21000000  "
      ]
     },
     "execution_count": 62,
     "metadata": {},
     "output_type": "execute_result"
    }
   ],
   "source": [
    "# Remove rows with cryptocurrencies having no coins mined\n",
    "crypto_data_df = crypto_data_df.loc[crypto_data_df['TotalCoinsMined'] != 0]\n",
    "crypto_data_df.head(15)"
   ]
  },
  {
   "cell_type": "code",
   "execution_count": 63,
   "metadata": {},
   "outputs": [
    {
     "data": {
      "text/html": [
       "<div>\n",
       "<style scoped>\n",
       "    .dataframe tbody tr th:only-of-type {\n",
       "        vertical-align: middle;\n",
       "    }\n",
       "\n",
       "    .dataframe tbody tr th {\n",
       "        vertical-align: top;\n",
       "    }\n",
       "\n",
       "    .dataframe thead th {\n",
       "        text-align: right;\n",
       "    }\n",
       "</style>\n",
       "<table border=\"1\" class=\"dataframe\">\n",
       "  <thead>\n",
       "    <tr style=\"text-align: right;\">\n",
       "      <th></th>\n",
       "      <th>CoinName</th>\n",
       "      <th>Algorithm</th>\n",
       "      <th>ProofType</th>\n",
       "      <th>TotalCoinsMined</th>\n",
       "      <th>TotalCoinSupply</th>\n",
       "    </tr>\n",
       "  </thead>\n",
       "  <tbody>\n",
       "    <tr>\n",
       "      <th>0</th>\n",
       "      <td>42 Coin</td>\n",
       "      <td>Scrypt</td>\n",
       "      <td>PoW/PoS</td>\n",
       "      <td>4.199995e+01</td>\n",
       "      <td>42</td>\n",
       "    </tr>\n",
       "    <tr>\n",
       "      <th>2</th>\n",
       "      <td>404Coin</td>\n",
       "      <td>Scrypt</td>\n",
       "      <td>PoW/PoS</td>\n",
       "      <td>1.055185e+09</td>\n",
       "      <td>532000000</td>\n",
       "    </tr>\n",
       "    <tr>\n",
       "      <th>5</th>\n",
       "      <td>EliteCoin</td>\n",
       "      <td>X13</td>\n",
       "      <td>PoW/PoS</td>\n",
       "      <td>2.927942e+10</td>\n",
       "      <td>314159265359</td>\n",
       "    </tr>\n",
       "    <tr>\n",
       "      <th>7</th>\n",
       "      <td>Bitcoin</td>\n",
       "      <td>SHA-256</td>\n",
       "      <td>PoW</td>\n",
       "      <td>1.792718e+07</td>\n",
       "      <td>21000000</td>\n",
       "    </tr>\n",
       "    <tr>\n",
       "      <th>8</th>\n",
       "      <td>Ethereum</td>\n",
       "      <td>Ethash</td>\n",
       "      <td>PoW</td>\n",
       "      <td>1.076842e+08</td>\n",
       "      <td>0</td>\n",
       "    </tr>\n",
       "    <tr>\n",
       "      <th>9</th>\n",
       "      <td>Litecoin</td>\n",
       "      <td>Scrypt</td>\n",
       "      <td>PoW</td>\n",
       "      <td>6.303924e+07</td>\n",
       "      <td>84000000</td>\n",
       "    </tr>\n",
       "    <tr>\n",
       "      <th>10</th>\n",
       "      <td>Dash</td>\n",
       "      <td>X11</td>\n",
       "      <td>PoW/PoS</td>\n",
       "      <td>9.031294e+06</td>\n",
       "      <td>22000000</td>\n",
       "    </tr>\n",
       "    <tr>\n",
       "      <th>11</th>\n",
       "      <td>Monero</td>\n",
       "      <td>CryptoNight-V7</td>\n",
       "      <td>PoW</td>\n",
       "      <td>1.720114e+07</td>\n",
       "      <td>0</td>\n",
       "    </tr>\n",
       "    <tr>\n",
       "      <th>12</th>\n",
       "      <td>Ethereum Classic</td>\n",
       "      <td>Ethash</td>\n",
       "      <td>PoW</td>\n",
       "      <td>1.133597e+08</td>\n",
       "      <td>210000000</td>\n",
       "    </tr>\n",
       "    <tr>\n",
       "      <th>13</th>\n",
       "      <td>ZCash</td>\n",
       "      <td>Equihash</td>\n",
       "      <td>PoW</td>\n",
       "      <td>7.383056e+06</td>\n",
       "      <td>21000000</td>\n",
       "    </tr>\n",
       "    <tr>\n",
       "      <th>14</th>\n",
       "      <td>Bitshares</td>\n",
       "      <td>SHA-512</td>\n",
       "      <td>PoS</td>\n",
       "      <td>2.741570e+09</td>\n",
       "      <td>3600570502</td>\n",
       "    </tr>\n",
       "    <tr>\n",
       "      <th>15</th>\n",
       "      <td>DigiByte</td>\n",
       "      <td>Multiple</td>\n",
       "      <td>PoW</td>\n",
       "      <td>1.140622e+10</td>\n",
       "      <td>21000000000</td>\n",
       "    </tr>\n",
       "    <tr>\n",
       "      <th>16</th>\n",
       "      <td>BitcoinDark</td>\n",
       "      <td>SHA-256</td>\n",
       "      <td>PoW/PoS</td>\n",
       "      <td>1.288862e+06</td>\n",
       "      <td>22000000</td>\n",
       "    </tr>\n",
       "    <tr>\n",
       "      <th>19</th>\n",
       "      <td>PayCoin</td>\n",
       "      <td>SHA-256</td>\n",
       "      <td>PoS</td>\n",
       "      <td>1.199533e+07</td>\n",
       "      <td>12500000</td>\n",
       "    </tr>\n",
       "    <tr>\n",
       "      <th>20</th>\n",
       "      <td>ProsperCoin</td>\n",
       "      <td>Scrypt</td>\n",
       "      <td>PoW</td>\n",
       "      <td>5.768310e+06</td>\n",
       "      <td>21000000</td>\n",
       "    </tr>\n",
       "  </tbody>\n",
       "</table>\n",
       "</div>"
      ],
      "text/plain": [
       "            CoinName       Algorithm ProofType  TotalCoinsMined  \\\n",
       "0            42 Coin          Scrypt   PoW/PoS     4.199995e+01   \n",
       "2            404Coin          Scrypt   PoW/PoS     1.055185e+09   \n",
       "5          EliteCoin             X13   PoW/PoS     2.927942e+10   \n",
       "7            Bitcoin         SHA-256       PoW     1.792718e+07   \n",
       "8           Ethereum          Ethash       PoW     1.076842e+08   \n",
       "9           Litecoin          Scrypt       PoW     6.303924e+07   \n",
       "10              Dash             X11   PoW/PoS     9.031294e+06   \n",
       "11            Monero  CryptoNight-V7       PoW     1.720114e+07   \n",
       "12  Ethereum Classic          Ethash       PoW     1.133597e+08   \n",
       "13             ZCash        Equihash       PoW     7.383056e+06   \n",
       "14         Bitshares         SHA-512       PoS     2.741570e+09   \n",
       "15          DigiByte        Multiple       PoW     1.140622e+10   \n",
       "16       BitcoinDark         SHA-256   PoW/PoS     1.288862e+06   \n",
       "19           PayCoin         SHA-256       PoS     1.199533e+07   \n",
       "20       ProsperCoin          Scrypt       PoW     5.768310e+06   \n",
       "\n",
       "   TotalCoinSupply  \n",
       "0               42  \n",
       "2        532000000  \n",
       "5     314159265359  \n",
       "7         21000000  \n",
       "8                0  \n",
       "9         84000000  \n",
       "10        22000000  \n",
       "11               0  \n",
       "12       210000000  \n",
       "13        21000000  \n",
       "14      3600570502  \n",
       "15     21000000000  \n",
       "16        22000000  \n",
       "19        12500000  \n",
       "20        21000000  "
      ]
     },
     "execution_count": 63,
     "metadata": {},
     "output_type": "execute_result"
    }
   ],
   "source": [
    "# Drop rows where there are 'N/A' text values\n",
    "for column in crypto_data_df:\n",
    "    crypto_data_df = crypto_data_df.loc[crypto_data_df[column] != \"N/A\"]\n",
    "crypto_data_df.head(15)"
   ]
  },
  {
   "cell_type": "code",
   "execution_count": 64,
   "metadata": {},
   "outputs": [
    {
     "data": {
      "text/html": [
       "<div>\n",
       "<style scoped>\n",
       "    .dataframe tbody tr th:only-of-type {\n",
       "        vertical-align: middle;\n",
       "    }\n",
       "\n",
       "    .dataframe tbody tr th {\n",
       "        vertical-align: top;\n",
       "    }\n",
       "\n",
       "    .dataframe thead th {\n",
       "        text-align: right;\n",
       "    }\n",
       "</style>\n",
       "<table border=\"1\" class=\"dataframe\">\n",
       "  <thead>\n",
       "    <tr style=\"text-align: right;\">\n",
       "      <th></th>\n",
       "      <th>CoinName</th>\n",
       "    </tr>\n",
       "  </thead>\n",
       "  <tbody>\n",
       "    <tr>\n",
       "      <th>0</th>\n",
       "      <td>42 Coin</td>\n",
       "    </tr>\n",
       "    <tr>\n",
       "      <th>2</th>\n",
       "      <td>404Coin</td>\n",
       "    </tr>\n",
       "    <tr>\n",
       "      <th>5</th>\n",
       "      <td>EliteCoin</td>\n",
       "    </tr>\n",
       "    <tr>\n",
       "      <th>7</th>\n",
       "      <td>Bitcoin</td>\n",
       "    </tr>\n",
       "    <tr>\n",
       "      <th>8</th>\n",
       "      <td>Ethereum</td>\n",
       "    </tr>\n",
       "    <tr>\n",
       "      <th>9</th>\n",
       "      <td>Litecoin</td>\n",
       "    </tr>\n",
       "    <tr>\n",
       "      <th>10</th>\n",
       "      <td>Dash</td>\n",
       "    </tr>\n",
       "    <tr>\n",
       "      <th>11</th>\n",
       "      <td>Monero</td>\n",
       "    </tr>\n",
       "    <tr>\n",
       "      <th>12</th>\n",
       "      <td>Ethereum Classic</td>\n",
       "    </tr>\n",
       "    <tr>\n",
       "      <th>13</th>\n",
       "      <td>ZCash</td>\n",
       "    </tr>\n",
       "    <tr>\n",
       "      <th>14</th>\n",
       "      <td>Bitshares</td>\n",
       "    </tr>\n",
       "    <tr>\n",
       "      <th>15</th>\n",
       "      <td>DigiByte</td>\n",
       "    </tr>\n",
       "    <tr>\n",
       "      <th>16</th>\n",
       "      <td>BitcoinDark</td>\n",
       "    </tr>\n",
       "    <tr>\n",
       "      <th>19</th>\n",
       "      <td>PayCoin</td>\n",
       "    </tr>\n",
       "    <tr>\n",
       "      <th>20</th>\n",
       "      <td>ProsperCoin</td>\n",
       "    </tr>\n",
       "  </tbody>\n",
       "</table>\n",
       "</div>"
      ],
      "text/plain": [
       "            CoinName\n",
       "0            42 Coin\n",
       "2            404Coin\n",
       "5          EliteCoin\n",
       "7            Bitcoin\n",
       "8           Ethereum\n",
       "9           Litecoin\n",
       "10              Dash\n",
       "11            Monero\n",
       "12  Ethereum Classic\n",
       "13             ZCash\n",
       "14         Bitshares\n",
       "15          DigiByte\n",
       "16       BitcoinDark\n",
       "19           PayCoin\n",
       "20       ProsperCoin"
      ]
     },
     "execution_count": 64,
     "metadata": {},
     "output_type": "execute_result"
    }
   ],
   "source": [
    "# Store the 'CoinName'column in its own DataFrame prior to dropping it from crypto_df\n",
    "coin_name_df = crypto_data_df[[\"CoinName\"]]\n",
    "coin_name_df.head(15)"
   ]
  },
  {
   "cell_type": "code",
   "execution_count": 65,
   "metadata": {},
   "outputs": [
    {
     "data": {
      "text/html": [
       "<div>\n",
       "<style scoped>\n",
       "    .dataframe tbody tr th:only-of-type {\n",
       "        vertical-align: middle;\n",
       "    }\n",
       "\n",
       "    .dataframe tbody tr th {\n",
       "        vertical-align: top;\n",
       "    }\n",
       "\n",
       "    .dataframe thead th {\n",
       "        text-align: right;\n",
       "    }\n",
       "</style>\n",
       "<table border=\"1\" class=\"dataframe\">\n",
       "  <thead>\n",
       "    <tr style=\"text-align: right;\">\n",
       "      <th></th>\n",
       "      <th>Algorithm</th>\n",
       "      <th>ProofType</th>\n",
       "      <th>TotalCoinsMined</th>\n",
       "      <th>TotalCoinSupply</th>\n",
       "    </tr>\n",
       "  </thead>\n",
       "  <tbody>\n",
       "    <tr>\n",
       "      <th>0</th>\n",
       "      <td>Scrypt</td>\n",
       "      <td>PoW/PoS</td>\n",
       "      <td>4.199995e+01</td>\n",
       "      <td>42</td>\n",
       "    </tr>\n",
       "    <tr>\n",
       "      <th>2</th>\n",
       "      <td>Scrypt</td>\n",
       "      <td>PoW/PoS</td>\n",
       "      <td>1.055185e+09</td>\n",
       "      <td>532000000</td>\n",
       "    </tr>\n",
       "    <tr>\n",
       "      <th>5</th>\n",
       "      <td>X13</td>\n",
       "      <td>PoW/PoS</td>\n",
       "      <td>2.927942e+10</td>\n",
       "      <td>314159265359</td>\n",
       "    </tr>\n",
       "    <tr>\n",
       "      <th>7</th>\n",
       "      <td>SHA-256</td>\n",
       "      <td>PoW</td>\n",
       "      <td>1.792718e+07</td>\n",
       "      <td>21000000</td>\n",
       "    </tr>\n",
       "    <tr>\n",
       "      <th>8</th>\n",
       "      <td>Ethash</td>\n",
       "      <td>PoW</td>\n",
       "      <td>1.076842e+08</td>\n",
       "      <td>0</td>\n",
       "    </tr>\n",
       "    <tr>\n",
       "      <th>9</th>\n",
       "      <td>Scrypt</td>\n",
       "      <td>PoW</td>\n",
       "      <td>6.303924e+07</td>\n",
       "      <td>84000000</td>\n",
       "    </tr>\n",
       "    <tr>\n",
       "      <th>10</th>\n",
       "      <td>X11</td>\n",
       "      <td>PoW/PoS</td>\n",
       "      <td>9.031294e+06</td>\n",
       "      <td>22000000</td>\n",
       "    </tr>\n",
       "    <tr>\n",
       "      <th>11</th>\n",
       "      <td>CryptoNight-V7</td>\n",
       "      <td>PoW</td>\n",
       "      <td>1.720114e+07</td>\n",
       "      <td>0</td>\n",
       "    </tr>\n",
       "    <tr>\n",
       "      <th>12</th>\n",
       "      <td>Ethash</td>\n",
       "      <td>PoW</td>\n",
       "      <td>1.133597e+08</td>\n",
       "      <td>210000000</td>\n",
       "    </tr>\n",
       "    <tr>\n",
       "      <th>13</th>\n",
       "      <td>Equihash</td>\n",
       "      <td>PoW</td>\n",
       "      <td>7.383056e+06</td>\n",
       "      <td>21000000</td>\n",
       "    </tr>\n",
       "    <tr>\n",
       "      <th>14</th>\n",
       "      <td>SHA-512</td>\n",
       "      <td>PoS</td>\n",
       "      <td>2.741570e+09</td>\n",
       "      <td>3600570502</td>\n",
       "    </tr>\n",
       "    <tr>\n",
       "      <th>15</th>\n",
       "      <td>Multiple</td>\n",
       "      <td>PoW</td>\n",
       "      <td>1.140622e+10</td>\n",
       "      <td>21000000000</td>\n",
       "    </tr>\n",
       "    <tr>\n",
       "      <th>16</th>\n",
       "      <td>SHA-256</td>\n",
       "      <td>PoW/PoS</td>\n",
       "      <td>1.288862e+06</td>\n",
       "      <td>22000000</td>\n",
       "    </tr>\n",
       "    <tr>\n",
       "      <th>19</th>\n",
       "      <td>SHA-256</td>\n",
       "      <td>PoS</td>\n",
       "      <td>1.199533e+07</td>\n",
       "      <td>12500000</td>\n",
       "    </tr>\n",
       "    <tr>\n",
       "      <th>20</th>\n",
       "      <td>Scrypt</td>\n",
       "      <td>PoW</td>\n",
       "      <td>5.768310e+06</td>\n",
       "      <td>21000000</td>\n",
       "    </tr>\n",
       "  </tbody>\n",
       "</table>\n",
       "</div>"
      ],
      "text/plain": [
       "         Algorithm ProofType  TotalCoinsMined TotalCoinSupply\n",
       "0           Scrypt   PoW/PoS     4.199995e+01              42\n",
       "2           Scrypt   PoW/PoS     1.055185e+09       532000000\n",
       "5              X13   PoW/PoS     2.927942e+10    314159265359\n",
       "7          SHA-256       PoW     1.792718e+07        21000000\n",
       "8           Ethash       PoW     1.076842e+08               0\n",
       "9           Scrypt       PoW     6.303924e+07        84000000\n",
       "10             X11   PoW/PoS     9.031294e+06        22000000\n",
       "11  CryptoNight-V7       PoW     1.720114e+07               0\n",
       "12          Ethash       PoW     1.133597e+08       210000000\n",
       "13        Equihash       PoW     7.383056e+06        21000000\n",
       "14         SHA-512       PoS     2.741570e+09      3600570502\n",
       "15        Multiple       PoW     1.140622e+10     21000000000\n",
       "16         SHA-256   PoW/PoS     1.288862e+06        22000000\n",
       "19         SHA-256       PoS     1.199533e+07        12500000\n",
       "20          Scrypt       PoW     5.768310e+06        21000000"
      ]
     },
     "execution_count": 65,
     "metadata": {},
     "output_type": "execute_result"
    }
   ],
   "source": [
    "# Drop the 'CoinName' column since it's not going to be used on the clustering algorithm\n",
    "crypto_data_df = crypto_data_df.drop(columns=[\"CoinName\"])\n",
    "crypto_data_df.head(15)"
   ]
  },
  {
   "cell_type": "code",
   "execution_count": 66,
   "metadata": {},
   "outputs": [
    {
     "data": {
      "text/html": [
       "<div>\n",
       "<style scoped>\n",
       "    .dataframe tbody tr th:only-of-type {\n",
       "        vertical-align: middle;\n",
       "    }\n",
       "\n",
       "    .dataframe tbody tr th {\n",
       "        vertical-align: top;\n",
       "    }\n",
       "\n",
       "    .dataframe thead th {\n",
       "        text-align: right;\n",
       "    }\n",
       "</style>\n",
       "<table border=\"1\" class=\"dataframe\">\n",
       "  <thead>\n",
       "    <tr style=\"text-align: right;\">\n",
       "      <th></th>\n",
       "      <th>Algorithm</th>\n",
       "      <th>ProofType</th>\n",
       "      <th>TotalCoinsMined</th>\n",
       "      <th>TotalCoinSupply</th>\n",
       "    </tr>\n",
       "  </thead>\n",
       "  <tbody>\n",
       "    <tr>\n",
       "      <th>0</th>\n",
       "      <td>53</td>\n",
       "      <td>16</td>\n",
       "      <td>4.199995e+01</td>\n",
       "      <td>42</td>\n",
       "    </tr>\n",
       "    <tr>\n",
       "      <th>2</th>\n",
       "      <td>53</td>\n",
       "      <td>16</td>\n",
       "      <td>1.055185e+09</td>\n",
       "      <td>532000000</td>\n",
       "    </tr>\n",
       "    <tr>\n",
       "      <th>5</th>\n",
       "      <td>67</td>\n",
       "      <td>16</td>\n",
       "      <td>2.927942e+10</td>\n",
       "      <td>314159265359</td>\n",
       "    </tr>\n",
       "    <tr>\n",
       "      <th>7</th>\n",
       "      <td>47</td>\n",
       "      <td>13</td>\n",
       "      <td>1.792718e+07</td>\n",
       "      <td>21000000</td>\n",
       "    </tr>\n",
       "    <tr>\n",
       "      <th>8</th>\n",
       "      <td>20</td>\n",
       "      <td>13</td>\n",
       "      <td>1.076842e+08</td>\n",
       "      <td>0</td>\n",
       "    </tr>\n",
       "    <tr>\n",
       "      <th>9</th>\n",
       "      <td>53</td>\n",
       "      <td>13</td>\n",
       "      <td>6.303924e+07</td>\n",
       "      <td>84000000</td>\n",
       "    </tr>\n",
       "    <tr>\n",
       "      <th>10</th>\n",
       "      <td>65</td>\n",
       "      <td>16</td>\n",
       "      <td>9.031294e+06</td>\n",
       "      <td>22000000</td>\n",
       "    </tr>\n",
       "    <tr>\n",
       "      <th>11</th>\n",
       "      <td>12</td>\n",
       "      <td>13</td>\n",
       "      <td>1.720114e+07</td>\n",
       "      <td>0</td>\n",
       "    </tr>\n",
       "    <tr>\n",
       "      <th>12</th>\n",
       "      <td>20</td>\n",
       "      <td>13</td>\n",
       "      <td>1.133597e+08</td>\n",
       "      <td>210000000</td>\n",
       "    </tr>\n",
       "    <tr>\n",
       "      <th>13</th>\n",
       "      <td>18</td>\n",
       "      <td>13</td>\n",
       "      <td>7.383056e+06</td>\n",
       "      <td>21000000</td>\n",
       "    </tr>\n",
       "    <tr>\n",
       "      <th>14</th>\n",
       "      <td>50</td>\n",
       "      <td>8</td>\n",
       "      <td>2.741570e+09</td>\n",
       "      <td>3600570502</td>\n",
       "    </tr>\n",
       "    <tr>\n",
       "      <th>15</th>\n",
       "      <td>34</td>\n",
       "      <td>13</td>\n",
       "      <td>1.140622e+10</td>\n",
       "      <td>21000000000</td>\n",
       "    </tr>\n",
       "    <tr>\n",
       "      <th>16</th>\n",
       "      <td>47</td>\n",
       "      <td>16</td>\n",
       "      <td>1.288862e+06</td>\n",
       "      <td>22000000</td>\n",
       "    </tr>\n",
       "    <tr>\n",
       "      <th>19</th>\n",
       "      <td>47</td>\n",
       "      <td>8</td>\n",
       "      <td>1.199533e+07</td>\n",
       "      <td>12500000</td>\n",
       "    </tr>\n",
       "    <tr>\n",
       "      <th>20</th>\n",
       "      <td>53</td>\n",
       "      <td>13</td>\n",
       "      <td>5.768310e+06</td>\n",
       "      <td>21000000</td>\n",
       "    </tr>\n",
       "  </tbody>\n",
       "</table>\n",
       "</div>"
      ],
      "text/plain": [
       "    Algorithm  ProofType  TotalCoinsMined TotalCoinSupply\n",
       "0          53         16     4.199995e+01              42\n",
       "2          53         16     1.055185e+09       532000000\n",
       "5          67         16     2.927942e+10    314159265359\n",
       "7          47         13     1.792718e+07        21000000\n",
       "8          20         13     1.076842e+08               0\n",
       "9          53         13     6.303924e+07        84000000\n",
       "10         65         16     9.031294e+06        22000000\n",
       "11         12         13     1.720114e+07               0\n",
       "12         20         13     1.133597e+08       210000000\n",
       "13         18         13     7.383056e+06        21000000\n",
       "14         50          8     2.741570e+09      3600570502\n",
       "15         34         13     1.140622e+10     21000000000\n",
       "16         47         16     1.288862e+06        22000000\n",
       "19         47          8     1.199533e+07        12500000\n",
       "20         53         13     5.768310e+06        21000000"
      ]
     },
     "execution_count": 66,
     "metadata": {},
     "output_type": "execute_result"
    }
   ],
   "source": [
    "# Create dummy variables for text features\n",
    "text_feature_variable = ''\n",
    "\n",
    "# Import Label Encoder from SKLearn and encode categorical data:\n",
    "from sklearn.preprocessing import LabelEncoder\n",
    "le = LabelEncoder()\n",
    "\n",
    "le.fit(crypto_data_df['Algorithm'])\n",
    "crypto_data_df['Algorithm'] = le.transform(crypto_data_df['Algorithm'])\n",
    "\n",
    "le.fit(crypto_data_df['ProofType'])\n",
    "crypto_data_df['ProofType'] = le.transform(crypto_data_df['ProofType'])\n",
    "\n",
    "\n",
    "crypto_data_df.head(15)"
   ]
  },
  {
   "cell_type": "code",
   "execution_count": 69,
   "metadata": {},
   "outputs": [
    {
     "data": {
      "text/plain": [
       "array([[ 0.39335561,  0.8871567 , -0.11674788, -0.15286468],\n",
       "       [ 0.39335561,  0.8871567 , -0.09358885, -0.14499604],\n",
       "       [ 1.21439604,  0.8871567 ,  0.52587231,  4.4937636 ],\n",
       "       ...,\n",
       "       [-2.12841143,  0.00878917, -0.09523411, -0.13215444],\n",
       "       [-1.65924547,  0.00878917, -0.11658774, -0.15255408],\n",
       "       [ 0.39335561, -1.45515672, -0.11674507, -0.15284989]])"
      ]
     },
     "execution_count": 69,
     "metadata": {},
     "output_type": "execute_result"
    }
   ],
   "source": [
    "# Standardize data\n",
    "scaler = StandardScaler()\n",
    "\n",
    "crypto_scaled = scaler.fit_transform(crypto_data_df)\n",
    "crypto_scaled"
   ]
  },
  {
   "cell_type": "markdown",
   "metadata": {},
   "source": [
    "### Reducing Dimensions Using PCA"
   ]
  },
  {
   "cell_type": "code",
   "execution_count": 70,
   "metadata": {},
   "outputs": [],
   "source": [
    "# Use PCA to reduce dimensions to 3 principal components\n",
    "pca = PCA(n_components=3)"
   ]
  },
  {
   "cell_type": "code",
   "execution_count": 95,
   "metadata": {},
   "outputs": [
    {
     "data": {
      "text/html": [
       "<div>\n",
       "<style scoped>\n",
       "    .dataframe tbody tr th:only-of-type {\n",
       "        vertical-align: middle;\n",
       "    }\n",
       "\n",
       "    .dataframe tbody tr th {\n",
       "        vertical-align: top;\n",
       "    }\n",
       "\n",
       "    .dataframe thead th {\n",
       "        text-align: right;\n",
       "    }\n",
       "</style>\n",
       "<table border=\"1\" class=\"dataframe\">\n",
       "  <thead>\n",
       "    <tr style=\"text-align: right;\">\n",
       "      <th></th>\n",
       "      <th>PC_1</th>\n",
       "      <th>PC_2</th>\n",
       "      <th>PC_3</th>\n",
       "    </tr>\n",
       "  </thead>\n",
       "  <tbody>\n",
       "    <tr>\n",
       "      <th>0</th>\n",
       "      <td>-0.412665</td>\n",
       "      <td>0.823150</td>\n",
       "      <td>0.357227</td>\n",
       "    </tr>\n",
       "    <tr>\n",
       "      <th>2</th>\n",
       "      <td>-0.391306</td>\n",
       "      <td>0.827873</td>\n",
       "      <td>0.358336</td>\n",
       "    </tr>\n",
       "    <tr>\n",
       "      <th>5</th>\n",
       "      <td>3.143152</td>\n",
       "      <td>2.186748</td>\n",
       "      <td>0.487273</td>\n",
       "    </tr>\n",
       "    <tr>\n",
       "      <th>7</th>\n",
       "      <td>-0.190301</td>\n",
       "      <td>-0.003829</td>\n",
       "      <td>-0.043688</td>\n",
       "    </tr>\n",
       "    <tr>\n",
       "      <th>8</th>\n",
       "      <td>-0.051013</td>\n",
       "      <td>-1.161387</td>\n",
       "      <td>1.020473</td>\n",
       "    </tr>\n",
       "    <tr>\n",
       "      <th>9</th>\n",
       "      <td>-0.219679</td>\n",
       "      <td>0.253752</td>\n",
       "      <td>-0.280044</td>\n",
       "    </tr>\n",
       "    <tr>\n",
       "      <th>10</th>\n",
       "      <td>-0.473703</td>\n",
       "      <td>1.337814</td>\n",
       "      <td>-0.115708</td>\n",
       "    </tr>\n",
       "    <tr>\n",
       "      <th>11</th>\n",
       "      <td>-0.011450</td>\n",
       "      <td>-1.504754</td>\n",
       "      <td>1.335799</td>\n",
       "    </tr>\n",
       "    <tr>\n",
       "      <th>12</th>\n",
       "      <td>-0.048798</td>\n",
       "      <td>-1.160925</td>\n",
       "      <td>1.020929</td>\n",
       "    </tr>\n",
       "    <tr>\n",
       "      <th>13</th>\n",
       "      <td>-0.042085</td>\n",
       "      <td>-1.247450</td>\n",
       "      <td>1.099354</td>\n",
       "    </tr>\n",
       "    <tr>\n",
       "      <th>14</th>\n",
       "      <td>0.190483</td>\n",
       "      <td>-0.807985</td>\n",
       "      <td>-1.216692</td>\n",
       "    </tr>\n",
       "    <tr>\n",
       "      <th>15</th>\n",
       "      <td>0.261191</td>\n",
       "      <td>-0.478156</td>\n",
       "      <td>0.513811</td>\n",
       "    </tr>\n",
       "    <tr>\n",
       "      <th>16</th>\n",
       "      <td>-0.381724</td>\n",
       "      <td>0.565908</td>\n",
       "      <td>0.593766</td>\n",
       "    </tr>\n",
       "    <tr>\n",
       "      <th>19</th>\n",
       "      <td>0.128158</td>\n",
       "      <td>-0.953518</td>\n",
       "      <td>-1.106124</td>\n",
       "    </tr>\n",
       "    <tr>\n",
       "      <th>20</th>\n",
       "      <td>-0.221184</td>\n",
       "      <td>0.253423</td>\n",
       "      <td>-0.280178</td>\n",
       "    </tr>\n",
       "  </tbody>\n",
       "</table>\n",
       "</div>"
      ],
      "text/plain": [
       "        PC_1      PC_2      PC_3\n",
       "0  -0.412665  0.823150  0.357227\n",
       "2  -0.391306  0.827873  0.358336\n",
       "5   3.143152  2.186748  0.487273\n",
       "7  -0.190301 -0.003829 -0.043688\n",
       "8  -0.051013 -1.161387  1.020473\n",
       "9  -0.219679  0.253752 -0.280044\n",
       "10 -0.473703  1.337814 -0.115708\n",
       "11 -0.011450 -1.504754  1.335799\n",
       "12 -0.048798 -1.160925  1.020929\n",
       "13 -0.042085 -1.247450  1.099354\n",
       "14  0.190483 -0.807985 -1.216692\n",
       "15  0.261191 -0.478156  0.513811\n",
       "16 -0.381724  0.565908  0.593766\n",
       "19  0.128158 -0.953518 -1.106124\n",
       "20 -0.221184  0.253423 -0.280178"
      ]
     },
     "execution_count": 95,
     "metadata": {},
     "output_type": "execute_result"
    }
   ],
   "source": [
    "# Create a DataFrame with the principal components data\n",
    "crypto_pca = pca.fit_transform(crypto_scaled)\n",
    "\n",
    "pcs_df = pd.DataFrame(data=crypto_pca, columns=[\"PC_1\", \"PC_2\", \"PC_3\"], index=crypto_data_df.index)\n",
    "\n",
    "pcs_df.head(15)"
   ]
  },
  {
   "cell_type": "markdown",
   "metadata": {},
   "source": [
    "### Clustering Crytocurrencies Using K-Means\n",
    "\n",
    "#### Find the Best Value for `k` Using the Elbow Curve"
   ]
  },
  {
   "cell_type": "code",
   "execution_count": 96,
   "metadata": {},
   "outputs": [
    {
     "name": "stderr",
     "output_type": "stream",
     "text": [
      "C:\\Users\\jayha\\anaconda3\\envs\\mlenv\\lib\\site-packages\\sklearn\\cluster\\_kmeans.py:882: UserWarning:\n",
      "\n",
      "KMeans is known to have a memory leak on Windows with MKL, when there are less chunks than available threads. You can avoid it by setting the environment variable OMP_NUM_THREADS=3.\n",
      "\n"
     ]
    },
    {
     "data": {},
     "metadata": {},
     "output_type": "display_data"
    },
    {
     "data": {
      "application/vnd.holoviews_exec.v0+json": "",
      "text/html": [
       "<div id='1787'>\n",
       "\n",
       "\n",
       "\n",
       "\n",
       "\n",
       "  <div class=\"bk-root\" id=\"c058974a-61da-418d-95dd-ce99211c1e8e\" data-root-id=\"1787\"></div>\n",
       "</div>\n",
       "<script type=\"application/javascript\">(function(root) {\n",
       "  function embed_document(root) {\n",
       "    var docs_json = {\"85f4ac25-2d6d-4460-b3cb-f5ab5e70b10d\":{\"defs\":[{\"extends\":null,\"module\":null,\"name\":\"ReactiveHTML1\",\"overrides\":[],\"properties\":[]},{\"extends\":null,\"module\":null,\"name\":\"FlexBox1\",\"overrides\":[],\"properties\":[{\"default\":\"flex-start\",\"kind\":null,\"name\":\"align_content\"},{\"default\":\"flex-start\",\"kind\":null,\"name\":\"align_items\"},{\"default\":\"row\",\"kind\":null,\"name\":\"flex_direction\"},{\"default\":\"wrap\",\"kind\":null,\"name\":\"flex_wrap\"},{\"default\":\"flex-start\",\"kind\":null,\"name\":\"justify_content\"}]},{\"extends\":null,\"module\":null,\"name\":\"TemplateActions1\",\"overrides\":[],\"properties\":[{\"default\":0,\"kind\":null,\"name\":\"open_modal\"},{\"default\":0,\"kind\":null,\"name\":\"close_modal\"}]},{\"extends\":null,\"module\":null,\"name\":\"MaterialTemplateActions1\",\"overrides\":[],\"properties\":[{\"default\":0,\"kind\":null,\"name\":\"open_modal\"},{\"default\":0,\"kind\":null,\"name\":\"close_modal\"}]}],\"roots\":{\"references\":[{\"attributes\":{\"active_multi\":null,\"tools\":[{\"id\":\"1791\"},{\"id\":\"1809\"},{\"id\":\"1810\"},{\"id\":\"1811\"},{\"id\":\"1812\"},{\"id\":\"1813\"}]},\"id\":\"1815\",\"type\":\"Toolbar\"},{\"attributes\":{\"data_source\":{\"id\":\"1822\"},\"glyph\":{\"id\":\"1825\"},\"hover_glyph\":null,\"muted_glyph\":{\"id\":\"1827\"},\"nonselection_glyph\":{\"id\":\"1826\"},\"selection_glyph\":{\"id\":\"1830\"},\"view\":{\"id\":\"1829\"}},\"id\":\"1828\",\"type\":\"GlyphRenderer\"},{\"attributes\":{},\"id\":\"1833\",\"type\":\"AllLabels\"},{\"attributes\":{\"line_color\":\"#30a2da\",\"line_width\":2,\"x\":{\"field\":\"k\"},\"y\":{\"field\":\"inertia\"}},\"id\":\"1830\",\"type\":\"Line\"},{\"attributes\":{\"line_color\":\"#30a2da\",\"line_width\":2,\"x\":{\"field\":\"k\"},\"y\":{\"field\":\"inertia\"}},\"id\":\"1825\",\"type\":\"Line\"},{\"attributes\":{\"data\":{\"inertia\":{\"__ndarray__\":\"WePyWOVxB0VpuCAakRjsRE5lYESDeuBEI7D0aUn0yUSSXb8UFje7RO07T8wcqLBEy7NYeNqVp0SQQZdYEjWhROIRdBF0O5lEaPZdmmV4kkQ=\",\"dtype\":\"float64\",\"order\":\"little\",\"shape\":[10]},\"k\":[1,2,3,4,5,6,7,8,9,10]},\"selected\":{\"id\":\"1823\"},\"selection_policy\":{\"id\":\"1848\"}},\"id\":\"1822\",\"type\":\"ColumnDataSource\"},{\"attributes\":{\"margin\":[5,5,5,5],\"name\":\"HSpacer03215\",\"sizing_mode\":\"stretch_width\"},\"id\":\"1858\",\"type\":\"Spacer\"},{\"attributes\":{\"below\":[{\"id\":\"1801\"}],\"center\":[{\"id\":\"1804\"},{\"id\":\"1808\"}],\"height\":300,\"left\":[{\"id\":\"1805\"}],\"margin\":[5,5,5,5],\"min_border_bottom\":10,\"min_border_left\":10,\"min_border_right\":10,\"min_border_top\":10,\"renderers\":[{\"id\":\"1828\"}],\"sizing_mode\":\"fixed\",\"title\":{\"id\":\"1793\"},\"toolbar\":{\"id\":\"1815\"},\"width\":700,\"x_range\":{\"id\":\"1789\"},\"x_scale\":{\"id\":\"1797\"},\"y_range\":{\"id\":\"1790\"},\"y_scale\":{\"id\":\"1799\"}},\"id\":\"1792\",\"subtype\":\"Figure\",\"type\":\"Plot\"},{\"attributes\":{},\"id\":\"1809\",\"type\":\"SaveTool\"},{\"attributes\":{\"line_alpha\":0.2,\"line_color\":\"#30a2da\",\"line_width\":2,\"x\":{\"field\":\"k\"},\"y\":{\"field\":\"inertia\"}},\"id\":\"1827\",\"type\":\"Line\"},{\"attributes\":{},\"id\":\"1834\",\"type\":\"BasicTickFormatter\"},{\"attributes\":{},\"id\":\"1810\",\"type\":\"PanTool\"},{\"attributes\":{\"axis\":{\"id\":\"1801\"},\"grid_line_color\":null,\"ticker\":null},\"id\":\"1804\",\"type\":\"Grid\"},{\"attributes\":{},\"id\":\"1813\",\"type\":\"ResetTool\"},{\"attributes\":{},\"id\":\"1823\",\"type\":\"Selection\"},{\"attributes\":{},\"id\":\"1811\",\"type\":\"WheelZoomTool\"},{\"attributes\":{\"ticks\":[1,2,3,4,5,6,7,8,9,10]},\"id\":\"1831\",\"type\":\"FixedTicker\"},{\"attributes\":{\"axis\":{\"id\":\"1805\"},\"dimension\":1,\"grid_line_color\":null,\"ticker\":null},\"id\":\"1808\",\"type\":\"Grid\"},{\"attributes\":{\"overlay\":{\"id\":\"1814\"}},\"id\":\"1812\",\"type\":\"BoxZoomTool\"},{\"attributes\":{\"line_alpha\":0.1,\"line_color\":\"#30a2da\",\"line_width\":2,\"x\":{\"field\":\"k\"},\"y\":{\"field\":\"inertia\"}},\"id\":\"1826\",\"type\":\"Line\"},{\"attributes\":{},\"id\":\"1838\",\"type\":\"AllLabels\"},{\"attributes\":{\"axis_label\":\"inertia\",\"formatter\":{\"id\":\"1839\"},\"major_label_policy\":{\"id\":\"1838\"},\"ticker\":{\"id\":\"1806\"}},\"id\":\"1805\",\"type\":\"LinearAxis\"},{\"attributes\":{\"bottom_units\":\"screen\",\"fill_alpha\":0.5,\"fill_color\":\"lightgrey\",\"left_units\":\"screen\",\"level\":\"overlay\",\"line_alpha\":1.0,\"line_color\":\"black\",\"line_dash\":[4,4],\"line_width\":2,\"right_units\":\"screen\",\"syncable\":false,\"top_units\":\"screen\"},\"id\":\"1814\",\"type\":\"BoxAnnotation\"},{\"attributes\":{\"text\":\"Elbow Curve\",\"text_color\":\"black\",\"text_font_size\":\"12pt\"},\"id\":\"1793\",\"type\":\"Title\"},{\"attributes\":{\"end\":10.0,\"reset_end\":10.0,\"reset_start\":1.0,\"start\":1.0,\"tags\":[[[\"k\",\"k\",null]]]},\"id\":\"1789\",\"type\":\"Range1d\"},{\"attributes\":{\"children\":[{\"id\":\"1788\"},{\"id\":\"1792\"},{\"id\":\"1858\"}],\"margin\":[0,0,0,0],\"name\":\"Row03210\",\"tags\":[\"embedded\"]},\"id\":\"1787\",\"type\":\"Row\"},{\"attributes\":{},\"id\":\"1797\",\"type\":\"LinearScale\"},{\"attributes\":{},\"id\":\"1848\",\"type\":\"UnionRenderers\"},{\"attributes\":{\"margin\":[5,5,5,5],\"name\":\"HSpacer03214\",\"sizing_mode\":\"stretch_width\"},\"id\":\"1788\",\"type\":\"Spacer\"},{\"attributes\":{},\"id\":\"1799\",\"type\":\"LinearScale\"},{\"attributes\":{\"axis_label\":\"k\",\"formatter\":{\"id\":\"1834\"},\"major_label_policy\":{\"id\":\"1833\"},\"ticker\":{\"id\":\"1831\"}},\"id\":\"1801\",\"type\":\"LinearAxis\"},{\"attributes\":{\"end\":3.895002808729013e+24,\"reset_end\":3.895002808729013e+24,\"reset_start\":-3.3030292972592224e+23,\"start\":-3.3030292972592224e+23,\"tags\":[[[\"inertia\",\"inertia\",null]]]},\"id\":\"1790\",\"type\":\"Range1d\"},{\"attributes\":{},\"id\":\"1839\",\"type\":\"BasicTickFormatter\"},{\"attributes\":{\"callback\":null,\"renderers\":[{\"id\":\"1828\"}],\"tags\":[\"hv_created\"],\"tooltips\":[[\"k\",\"@{k}\"],[\"inertia\",\"@{inertia}\"]]},\"id\":\"1791\",\"type\":\"HoverTool\"},{\"attributes\":{},\"id\":\"1806\",\"type\":\"BasicTicker\"},{\"attributes\":{\"source\":{\"id\":\"1822\"}},\"id\":\"1829\",\"type\":\"CDSView\"}],\"root_ids\":[\"1787\"]},\"title\":\"Bokeh Application\",\"version\":\"2.3.2\"}};\n",
       "    var render_items = [{\"docid\":\"85f4ac25-2d6d-4460-b3cb-f5ab5e70b10d\",\"root_ids\":[\"1787\"],\"roots\":{\"1787\":\"c058974a-61da-418d-95dd-ce99211c1e8e\"}}];\n",
       "    root.Bokeh.embed.embed_items_notebook(docs_json, render_items);\n",
       "  }\n",
       "  if (root.Bokeh !== undefined && root.Bokeh.Panel !== undefined) {\n",
       "    embed_document(root);\n",
       "  } else {\n",
       "    var attempts = 0;\n",
       "    var timer = setInterval(function(root) {\n",
       "      if (root.Bokeh !== undefined && root.Bokeh.Panel !== undefined) {\n",
       "        clearInterval(timer);\n",
       "        embed_document(root);\n",
       "      } else if (document.readyState == \"complete\") {\n",
       "        attempts++;\n",
       "        if (attempts > 200) {\n",
       "          clearInterval(timer);\n",
       "          console.log(\"Bokeh: ERROR: Unable to run BokehJS code because BokehJS library is missing\");\n",
       "        }\n",
       "      }\n",
       "    }, 25, root)\n",
       "  }\n",
       "})(window);</script>"
      ],
      "text/plain": [
       ":Curve   [k]   (inertia)"
      ]
     },
     "execution_count": 96,
     "metadata": {
      "application/vnd.holoviews_exec.v0+json": {
       "id": "1787"
      }
     },
     "output_type": "execute_result"
    }
   ],
   "source": [
    "inertia = []\n",
    "k = list(range(1, 11))\n",
    "\n",
    "# Calculate the inertia for the range of k values\n",
    "for i in k:\n",
    "    km = KMeans(n_clusters=i, random_state=0)\n",
    "    km.fit(crypto_data_df)\n",
    "    inertia.append(km.inertia_)\n",
    "\n",
    "# Create the Elbow Curve using hvPlot\n",
    "elbow_data = {\"k\": k, \"inertia\": inertia}\n",
    "df_elbow = pd.DataFrame(elbow_data)\n",
    "df_elbow.hvplot.line(x=\"k\", y=\"inertia\", title=\"Elbow Curve\", xticks=k)"
   ]
  },
  {
   "cell_type": "markdown",
   "metadata": {},
   "source": [
    "Running K-Means with `k=<your best value for k here>`"
   ]
  },
  {
   "cell_type": "code",
   "execution_count": 97,
   "metadata": {},
   "outputs": [
    {
     "data": {
      "text/html": [
       "<div>\n",
       "<style scoped>\n",
       "    .dataframe tbody tr th:only-of-type {\n",
       "        vertical-align: middle;\n",
       "    }\n",
       "\n",
       "    .dataframe tbody tr th {\n",
       "        vertical-align: top;\n",
       "    }\n",
       "\n",
       "    .dataframe thead th {\n",
       "        text-align: right;\n",
       "    }\n",
       "</style>\n",
       "<table border=\"1\" class=\"dataframe\">\n",
       "  <thead>\n",
       "    <tr style=\"text-align: right;\">\n",
       "      <th></th>\n",
       "      <th>Algorithm</th>\n",
       "      <th>ProofType</th>\n",
       "      <th>TotalCoinsMined</th>\n",
       "      <th>TotalCoinSupply</th>\n",
       "      <th>PC_1</th>\n",
       "      <th>PC_2</th>\n",
       "      <th>PC_3</th>\n",
       "      <th>CoinName</th>\n",
       "      <th>Class</th>\n",
       "    </tr>\n",
       "  </thead>\n",
       "  <tbody>\n",
       "    <tr>\n",
       "      <th>0</th>\n",
       "      <td>53</td>\n",
       "      <td>16</td>\n",
       "      <td>4.199995e+01</td>\n",
       "      <td>42</td>\n",
       "      <td>-0.412665</td>\n",
       "      <td>0.823150</td>\n",
       "      <td>0.357227</td>\n",
       "      <td>42 Coin</td>\n",
       "      <td>0</td>\n",
       "    </tr>\n",
       "    <tr>\n",
       "      <th>2</th>\n",
       "      <td>53</td>\n",
       "      <td>16</td>\n",
       "      <td>1.055185e+09</td>\n",
       "      <td>532000000</td>\n",
       "      <td>-0.391306</td>\n",
       "      <td>0.827873</td>\n",
       "      <td>0.358336</td>\n",
       "      <td>404Coin</td>\n",
       "      <td>0</td>\n",
       "    </tr>\n",
       "    <tr>\n",
       "      <th>5</th>\n",
       "      <td>67</td>\n",
       "      <td>16</td>\n",
       "      <td>2.927942e+10</td>\n",
       "      <td>314159265359</td>\n",
       "      <td>3.143152</td>\n",
       "      <td>2.186748</td>\n",
       "      <td>0.487273</td>\n",
       "      <td>EliteCoin</td>\n",
       "      <td>0</td>\n",
       "    </tr>\n",
       "    <tr>\n",
       "      <th>7</th>\n",
       "      <td>47</td>\n",
       "      <td>13</td>\n",
       "      <td>1.792718e+07</td>\n",
       "      <td>21000000</td>\n",
       "      <td>-0.190301</td>\n",
       "      <td>-0.003829</td>\n",
       "      <td>-0.043688</td>\n",
       "      <td>Bitcoin</td>\n",
       "      <td>0</td>\n",
       "    </tr>\n",
       "    <tr>\n",
       "      <th>8</th>\n",
       "      <td>20</td>\n",
       "      <td>13</td>\n",
       "      <td>1.076842e+08</td>\n",
       "      <td>0</td>\n",
       "      <td>-0.051013</td>\n",
       "      <td>-1.161387</td>\n",
       "      <td>1.020473</td>\n",
       "      <td>Ethereum</td>\n",
       "      <td>1</td>\n",
       "    </tr>\n",
       "    <tr>\n",
       "      <th>9</th>\n",
       "      <td>53</td>\n",
       "      <td>13</td>\n",
       "      <td>6.303924e+07</td>\n",
       "      <td>84000000</td>\n",
       "      <td>-0.219679</td>\n",
       "      <td>0.253752</td>\n",
       "      <td>-0.280044</td>\n",
       "      <td>Litecoin</td>\n",
       "      <td>0</td>\n",
       "    </tr>\n",
       "    <tr>\n",
       "      <th>10</th>\n",
       "      <td>65</td>\n",
       "      <td>16</td>\n",
       "      <td>9.031294e+06</td>\n",
       "      <td>22000000</td>\n",
       "      <td>-0.473703</td>\n",
       "      <td>1.337814</td>\n",
       "      <td>-0.115708</td>\n",
       "      <td>Dash</td>\n",
       "      <td>0</td>\n",
       "    </tr>\n",
       "    <tr>\n",
       "      <th>11</th>\n",
       "      <td>12</td>\n",
       "      <td>13</td>\n",
       "      <td>1.720114e+07</td>\n",
       "      <td>0</td>\n",
       "      <td>-0.011450</td>\n",
       "      <td>-1.504754</td>\n",
       "      <td>1.335799</td>\n",
       "      <td>Monero</td>\n",
       "      <td>1</td>\n",
       "    </tr>\n",
       "    <tr>\n",
       "      <th>12</th>\n",
       "      <td>20</td>\n",
       "      <td>13</td>\n",
       "      <td>1.133597e+08</td>\n",
       "      <td>210000000</td>\n",
       "      <td>-0.048798</td>\n",
       "      <td>-1.160925</td>\n",
       "      <td>1.020929</td>\n",
       "      <td>Ethereum Classic</td>\n",
       "      <td>1</td>\n",
       "    </tr>\n",
       "    <tr>\n",
       "      <th>13</th>\n",
       "      <td>18</td>\n",
       "      <td>13</td>\n",
       "      <td>7.383056e+06</td>\n",
       "      <td>21000000</td>\n",
       "      <td>-0.042085</td>\n",
       "      <td>-1.247450</td>\n",
       "      <td>1.099354</td>\n",
       "      <td>ZCash</td>\n",
       "      <td>1</td>\n",
       "    </tr>\n",
       "    <tr>\n",
       "      <th>14</th>\n",
       "      <td>50</td>\n",
       "      <td>8</td>\n",
       "      <td>2.741570e+09</td>\n",
       "      <td>3600570502</td>\n",
       "      <td>0.190483</td>\n",
       "      <td>-0.807985</td>\n",
       "      <td>-1.216692</td>\n",
       "      <td>Bitshares</td>\n",
       "      <td>1</td>\n",
       "    </tr>\n",
       "    <tr>\n",
       "      <th>15</th>\n",
       "      <td>34</td>\n",
       "      <td>13</td>\n",
       "      <td>1.140622e+10</td>\n",
       "      <td>21000000000</td>\n",
       "      <td>0.261191</td>\n",
       "      <td>-0.478156</td>\n",
       "      <td>0.513811</td>\n",
       "      <td>DigiByte</td>\n",
       "      <td>1</td>\n",
       "    </tr>\n",
       "    <tr>\n",
       "      <th>16</th>\n",
       "      <td>47</td>\n",
       "      <td>16</td>\n",
       "      <td>1.288862e+06</td>\n",
       "      <td>22000000</td>\n",
       "      <td>-0.381724</td>\n",
       "      <td>0.565908</td>\n",
       "      <td>0.593766</td>\n",
       "      <td>BitcoinDark</td>\n",
       "      <td>0</td>\n",
       "    </tr>\n",
       "    <tr>\n",
       "      <th>19</th>\n",
       "      <td>47</td>\n",
       "      <td>8</td>\n",
       "      <td>1.199533e+07</td>\n",
       "      <td>12500000</td>\n",
       "      <td>0.128158</td>\n",
       "      <td>-0.953518</td>\n",
       "      <td>-1.106124</td>\n",
       "      <td>PayCoin</td>\n",
       "      <td>1</td>\n",
       "    </tr>\n",
       "    <tr>\n",
       "      <th>20</th>\n",
       "      <td>53</td>\n",
       "      <td>13</td>\n",
       "      <td>5.768310e+06</td>\n",
       "      <td>21000000</td>\n",
       "      <td>-0.221184</td>\n",
       "      <td>0.253423</td>\n",
       "      <td>-0.280178</td>\n",
       "      <td>ProsperCoin</td>\n",
       "      <td>0</td>\n",
       "    </tr>\n",
       "  </tbody>\n",
       "</table>\n",
       "</div>"
      ],
      "text/plain": [
       "    Algorithm  ProofType  TotalCoinsMined TotalCoinSupply      PC_1      PC_2  \\\n",
       "0          53         16     4.199995e+01              42 -0.412665  0.823150   \n",
       "2          53         16     1.055185e+09       532000000 -0.391306  0.827873   \n",
       "5          67         16     2.927942e+10    314159265359  3.143152  2.186748   \n",
       "7          47         13     1.792718e+07        21000000 -0.190301 -0.003829   \n",
       "8          20         13     1.076842e+08               0 -0.051013 -1.161387   \n",
       "9          53         13     6.303924e+07        84000000 -0.219679  0.253752   \n",
       "10         65         16     9.031294e+06        22000000 -0.473703  1.337814   \n",
       "11         12         13     1.720114e+07               0 -0.011450 -1.504754   \n",
       "12         20         13     1.133597e+08       210000000 -0.048798 -1.160925   \n",
       "13         18         13     7.383056e+06        21000000 -0.042085 -1.247450   \n",
       "14         50          8     2.741570e+09      3600570502  0.190483 -0.807985   \n",
       "15         34         13     1.140622e+10     21000000000  0.261191 -0.478156   \n",
       "16         47         16     1.288862e+06        22000000 -0.381724  0.565908   \n",
       "19         47          8     1.199533e+07        12500000  0.128158 -0.953518   \n",
       "20         53         13     5.768310e+06        21000000 -0.221184  0.253423   \n",
       "\n",
       "        PC_3          CoinName  Class  \n",
       "0   0.357227           42 Coin      0  \n",
       "2   0.358336           404Coin      0  \n",
       "5   0.487273         EliteCoin      0  \n",
       "7  -0.043688           Bitcoin      0  \n",
       "8   1.020473          Ethereum      1  \n",
       "9  -0.280044          Litecoin      0  \n",
       "10 -0.115708              Dash      0  \n",
       "11  1.335799            Monero      1  \n",
       "12  1.020929  Ethereum Classic      1  \n",
       "13  1.099354             ZCash      1  \n",
       "14 -1.216692         Bitshares      1  \n",
       "15  0.513811          DigiByte      1  \n",
       "16  0.593766       BitcoinDark      0  \n",
       "19 -1.106124           PayCoin      1  \n",
       "20 -0.280178       ProsperCoin      0  "
      ]
     },
     "execution_count": 97,
     "metadata": {},
     "output_type": "execute_result"
    }
   ],
   "source": [
    "# Initialize the K-Means model\n",
    "model = KMeans(n_clusters=3, random_state=5)\n",
    "# Fit the model\n",
    "model.fit(pcs_df)\n",
    "# Predict clusters\n",
    "predictions = model.predict(pcs_df)\n",
    "# Create a new DataFrame including predicted clusters and cryptocurrencies features\n",
    "clustered_df = crypto_data_df.join(pcs_df)\n",
    "clustered_df['CoinName'] = coin_name_df['CoinName']\n",
    "clustered_df['Class'] = predictions\n",
    "clustered_df.head(15)"
   ]
  },
  {
   "cell_type": "markdown",
   "metadata": {},
   "source": [
    "### Visualizing Results\n",
    "\n",
    "#### 3D-Scatter with Clusters"
   ]
  },
  {
   "cell_type": "code",
   "execution_count": 89,
   "metadata": {},
   "outputs": [
    {
     "data": {
      "application/vnd.plotly.v1+json": {
       "config": {
        "plotlyServerURL": "https://plot.ly"
       },
       "data": [
        {
         "customdata": [
          [
           53
          ],
          [
           53
          ],
          [
           67
          ],
          [
           47
          ],
          [
           53
          ],
          [
           65
          ],
          [
           47
          ],
          [
           53
          ],
          [
           69
          ],
          [
           65
          ],
          [
           53
          ],
          [
           53
          ],
          [
           53
          ],
          [
           53
          ],
          [
           47
          ],
          [
           53
          ],
          [
           53
          ],
          [
           53
          ],
          [
           46
          ],
          [
           53
          ],
          [
           53
          ],
          [
           53
          ],
          [
           53
          ],
          [
           53
          ],
          [
           65
          ],
          [
           47
          ],
          [
           53
          ],
          [
           53
          ],
          [
           53
          ],
          [
           53
          ],
          [
           53
          ],
          [
           53
          ],
          [
           53
          ],
          [
           53
          ],
          [
           53
          ],
          [
           53
          ],
          [
           65
          ],
          [
           53
          ],
          [
           65
          ],
          [
           47
          ],
          [
           53
          ],
          [
           53
          ],
          [
           53
          ],
          [
           51
          ],
          [
           53
          ],
          [
           53
          ],
          [
           47
          ],
          [
           67
          ],
          [
           53
          ],
          [
           47
          ],
          [
           53
          ],
          [
           67
          ],
          [
           36
          ],
          [
           53
          ],
          [
           53
          ],
          [
           53
          ],
          [
           53
          ],
          [
           53
          ],
          [
           53
          ],
          [
           65
          ],
          [
           65
          ],
          [
           47
          ],
          [
           47
          ],
          [
           65
          ],
          [
           47
          ],
          [
           47
          ],
          [
           47
          ],
          [
           65
          ],
          [
           53
          ],
          [
           53
          ],
          [
           53
          ],
          [
           53
          ],
          [
           53
          ],
          [
           65
          ],
          [
           47
          ],
          [
           67
          ],
          [
           53
          ],
          [
           53
          ],
          [
           47
          ],
          [
           53
          ],
          [
           53
          ],
          [
           67
          ],
          [
           53
          ],
          [
           53
          ],
          [
           53
          ],
          [
           67
          ],
          [
           53
          ],
          [
           59
          ],
          [
           65
          ],
          [
           45
          ],
          [
           53
          ],
          [
           53
          ],
          [
           53
          ],
          [
           53
          ],
          [
           47
          ],
          [
           53
          ],
          [
           65
          ],
          [
           51
          ],
          [
           65
          ],
          [
           47
          ],
          [
           44
          ],
          [
           65
          ],
          [
           65
          ],
          [
           53
          ],
          [
           53
          ],
          [
           67
          ],
          [
           47
          ],
          [
           69
          ],
          [
           65
          ],
          [
           47
          ],
          [
           53
          ],
          [
           47
          ],
          [
           65
          ],
          [
           53
          ],
          [
           47
          ],
          [
           47
          ],
          [
           35
          ],
          [
           53
          ],
          [
           65
          ],
          [
           53
          ],
          [
           66
          ],
          [
           65
          ],
          [
           47
          ],
          [
           53
          ],
          [
           65
          ],
          [
           65
          ],
          [
           47
          ],
          [
           47
          ],
          [
           35
          ],
          [
           65
          ],
          [
           53
          ],
          [
           53
          ],
          [
           53
          ],
          [
           53
          ],
          [
           67
          ],
          [
           65
          ],
          [
           65
          ],
          [
           18
          ],
          [
           65
          ],
          [
           53
          ],
          [
           47
          ],
          [
           47
          ],
          [
           65
          ],
          [
           53
          ],
          [
           53
          ],
          [
           53
          ],
          [
           47
          ],
          [
           53
          ],
          [
           53
          ],
          [
           49
          ],
          [
           53
          ],
          [
           65
          ],
          [
           67
          ],
          [
           68
          ],
          [
           49
          ],
          [
           65
          ],
          [
           53
          ],
          [
           65
          ],
          [
           67
          ],
          [
           65
          ],
          [
           53
          ],
          [
           53
          ],
          [
           65
          ],
          [
           65
          ],
          [
           47
          ],
          [
           53
          ],
          [
           65
          ],
          [
           53
          ],
          [
           53
          ],
          [
           65
          ],
          [
           53
          ],
          [
           53
          ],
          [
           53
          ],
          [
           45
          ],
          [
           53
          ],
          [
           53
          ],
          [
           47
          ],
          [
           65
          ],
          [
           53
          ],
          [
           65
          ],
          [
           53
          ],
          [
           53
          ],
          [
           53
          ],
          [
           67
          ],
          [
           65
          ],
          [
           53
          ],
          [
           53
          ],
          [
           65
          ],
          [
           65
          ],
          [
           53
          ],
          [
           65
          ],
          [
           65
          ],
          [
           53
          ],
          [
           53
          ],
          [
           53
          ],
          [
           65
          ],
          [
           53
          ],
          [
           47
          ],
          [
           53
          ],
          [
           69
          ],
          [
           53
          ],
          [
           35
          ],
          [
           65
          ],
          [
           35
          ],
          [
           56
          ],
          [
           53
          ],
          [
           67
          ],
          [
           53
          ],
          [
           65
          ],
          [
           65
          ],
          [
           53
          ],
          [
           67
          ],
          [
           61
          ],
          [
           53
          ],
          [
           65
          ],
          [
           56
          ],
          [
           47
          ],
          [
           65
          ],
          [
           64
          ],
          [
           53
          ],
          [
           53
          ],
          [
           53
          ],
          [
           53
          ],
          [
           53
          ],
          [
           53
          ],
          [
           53
          ],
          [
           53
          ],
          [
           65
          ],
          [
           36
          ],
          [
           65
          ],
          [
           53
          ],
          [
           53
          ],
          [
           47
          ],
          [
           35
          ],
          [
           38
          ],
          [
           53
          ],
          [
           46
          ],
          [
           53
          ],
          [
           53
          ],
          [
           65
          ],
          [
           65
          ],
          [
           35
          ],
          [
           67
          ],
          [
           53
          ],
          [
           65
          ],
          [
           53
          ],
          [
           53
          ],
          [
           53
          ],
          [
           65
          ],
          [
           65
          ],
          [
           53
          ],
          [
           53
          ],
          [
           53
          ],
          [
           65
          ],
          [
           65
          ],
          [
           47
          ],
          [
           53
          ],
          [
           57
          ],
          [
           53
          ],
          [
           53
          ],
          [
           67
          ],
          [
           48
          ],
          [
           53
          ],
          [
           53
          ],
          [
           65
          ],
          [
           65
          ],
          [
           71
          ],
          [
           63
          ],
          [
           53
          ],
          [
           35
          ],
          [
           53
          ],
          [
           53
          ],
          [
           53
          ],
          [
           65
          ],
          [
           46
          ],
          [
           70
          ],
          [
           53
          ],
          [
           71
          ],
          [
           62
          ],
          [
           53
          ],
          [
           49
          ],
          [
           53
          ],
          [
           69
          ],
          [
           70
          ],
          [
           65
          ],
          [
           70
          ],
          [
           46
          ],
          [
           31
          ],
          [
           53
          ],
          [
           53
          ],
          [
           71
          ],
          [
           65
          ],
          [
           65
          ],
          [
           47
          ],
          [
           65
          ],
          [
           65
          ],
          [
           53
          ],
          [
           50
          ],
          [
           70
          ],
          [
           71
          ],
          [
           47
          ],
          [
           71
          ],
          [
           65
          ],
          [
           46
          ],
          [
           53
          ],
          [
           53
          ],
          [
           46
          ],
          [
           53
          ],
          [
           45
          ],
          [
           65
          ],
          [
           53
          ],
          [
           71
          ],
          [
           49
          ],
          [
           65
          ],
          [
           47
          ],
          [
           67
          ],
          [
           47
          ],
          [
           65
          ],
          [
           53
          ],
          [
           53
          ],
          [
           65
          ],
          [
           53
          ],
          [
           53
          ],
          [
           53
          ],
          [
           65
          ],
          [
           53
          ],
          [
           53
          ],
          [
           47
          ],
          [
           65
          ],
          [
           47
          ],
          [
           53
          ],
          [
           53
          ],
          [
           53
          ],
          [
           65
          ],
          [
           53
          ],
          [
           53
          ],
          [
           53
          ],
          [
           65
          ],
          [
           47
          ],
          [
           53
          ],
          [
           36
          ],
          [
           67
          ],
          [
           53
          ]
         ],
         "hovertemplate": "<b>%{hovertext}</b><br><br>Class=%{marker.color}<br>PC_1=%{y}<br>PC_3=%{z}<br>Algorithm=%{customdata[0]}<extra></extra>",
         "hovertext": [
          "42 Coin",
          "404Coin",
          "EliteCoin",
          "Bitcoin",
          "Litecoin",
          "Dash",
          "BitcoinDark",
          "ProsperCoin",
          "KoboCoin",
          "Spreadcoin",
          "Argentum",
          "Aurora Coin",
          "BlueCoin",
          "MoonCoin",
          "ZetaCoin",
          "SexCoin",
          "Quatloo",
          "EnergyCoin",
          "QuarkCoin",
          "Digitalcoin ",
          "BitBar",
          "Catcoin",
          "CryptoBullion",
          "CannaCoin",
          "CryptCoin",
          "DevCoin",
          "EarthCoin",
          "E-Gulden",
          "Einsteinium",
          "Emerald",
          "FlutterCoin",
          "Franko",
          "GrandCoin",
          "GlobalCoin",
          "GoldCoin",
          "HoboNickels",
          "HyperStake",
          "Infinite Coin",
          "IOCoin",
          "IXcoin",
          "KrugerCoin",
          "LuckyCoin",
          "Litebar ",
          "MaxCoin",
          "MegaCoin",
          "MinCoin",
          "MazaCoin",
          "NavCoin",
          "NobleCoin",
          "Namecoin",
          "NyanCoin",
          "OpalCoin",
          "Orbitcoin",
          "PotCoin",
          "PhoenixCoin",
          "Reddcoin",
          "RonPaulCoin",
          "StableCoin",
          "SmartCoin",
          "SuperCoin",
          "SyncCoin",
          "SysCoin",
          "TigerCoin",
          "TorCoin",
          "TerraCoin",
          "UnbreakableCoin",
          "Unobtanium",
          "UroCoin",
          "UnitaryStatus Dollar",
          "UltraCoin",
          "ViaCoin",
          "VeriCoin",
          "WorldCoin",
          "X11 Coin",
          "JouleCoin",
          "StealthCoin",
          "ZCC Coin",
          "MonaCoin",
          "Neutron",
          "Gulden",
          "PesetaCoin",
          "Kore",
          "Wild Beast Coin",
          "Flo",
          "8BIT Coin",
          "Sativa Coin",
          "ArtByte",
          "Folding Coin",
          "Ucoin",
          "CypherPunkCoin",
          "OmniCron",
          "Vtorrent",
          "GreenCoin",
          "MasterCoin",
          "SoonCoin",
          "1Credit",
          "IslaCoin",
          "Nexus",
          "MarsCoin ",
          "Anarchists Prime",
          "Droidz",
          "BowsCoin",
          "Squall Coin",
          "Song Coin",
          "BitZeny",
          "Paycon",
          "Emercoin",
          "EverGreenCoin",
          "MindCoin",
          "I0coin",
          "Revolution VR",
          "EDRCoin",
          "Hitcoin",
          "Gamecredits",
          "DubaiCoin",
          "CarpeDiemCoin",
          "PWR Coin",
          "BillaryCoin",
          "Adzcoin",
          "YoCoin",
          "SibCoin",
          "EuropeCoin",
          "SwingCoin",
          "Francs",
          "BolivarCoin",
          "Ratecoin",
          "Revenu",
          "Clockcoin",
          "VIP Tokens",
          "BitSend",
          "Omni",
          "PutinCoin",
          "iBankCoin",
          "Frankywillcoin",
          "MudraCoin",
          "PizzaCoin",
          "Lutetium Coin",
          "Komodo",
          "GoldBlocks",
          "CarterCoin",
          "BitTokens",
          "ZayedCoin",
          "MustangCoin",
          "ZoneCoin",
          "RootCoin",
          "DopeCoin",
          "DollarCoin",
          "Swiscoin",
          "Shilling",
          "BuzzCoin",
          "PesoBit",
          "Halloween Coin",
          "RoyalCoin",
          "GanjaCoin V2",
          "LanaCoin",
          "InsaneCoin",
          "KiloCoin",
          "ArtexCoin",
          "EmberCoin",
          "XenixCoin",
          "PLNCoin",
          "AquariusCoin",
          "Kurrent",
          "Eternity",
          "Eurocoin",
          "BitcoinFast",
          "Stakenet",
          "BitConnect Coin",
          "MoneyCoin",
          "Enigma",
          "Russiacoin",
          "GameUnits",
          "GAKHcoin",
          "LiteCreed",
          "OsmiumCoin",
          "Klingon Empire Darsek",
          "Internet of People",
          "KushCoin",
          "Printerium",
          "PacCoin",
          "Impeach",
          "FirstCoin",
          "BeaverCoin",
          "FindCoin",
          "VaultCoin",
          "OpenChat",
          "Canada eCoin",
          "VirtacoinPlus",
          "Impact",
          "EB3coin",
          "HappyCoin",
          "Condensate",
          "Independent Money System",
          "ArgusCoin",
          "LomoCoin",
          "GoldReserve",
          "BenjiRolls",
          "ILCoin",
          "Degas Coin",
          "HTML5 Coin",
          "EquiTrader",
          "Denarius",
          "DigitalPrice",
          "Virta Unique Coin",
          "Bitcoin Planet",
          "Unify",
          "BritCoin",
          "SocialCoin",
          "ArcticCoin",
          "DAS",
          "Linda",
          "DeepOnion",
          "Bitcore",
          "gCn Coin",
          "Onix",
          "Cream",
          "Bitcoin Cash",
          "Monoeci",
          "Vechain",
          "Sojourn Coin",
          "NewYorkCoin",
          "FrazCoin",
          "Kronecoin",
          "AdCoin",
          "Linx",
          "CoinonatX",
          "Ethereum Dark",
          "Regalcoin",
          "TrezarCoin",
          "Elements",
          "TerraNovaCoin",
          "WomenCoin",
          "Theresa May Coin",
          "NamoCoin",
          "LUXCoin",
          "Xios",
          "Bitcloud 2.0",
          "eBoost",
          "BlackholeCoin",
          "Pura",
          "Magnet",
          "Electra",
          "Bitcoin Diamond",
          "Cash & Back Coin",
          "AC3",
          "GermanCoin",
          "LiteCoin Ultra",
          "PopularCoin",
          "PhantomX",
          "Sucre",
          "IrishCoin",
          "Trollcoin",
          "Litecoin Plus",
          "Monkey Project",
          "Pioneer Coin",
          "UnitedBitcoin",
          "My Big Coin",
          "MUNcoin",
          "Unified Society USDEX",
          "ShareChain",
          "Tokyo Coin",
          "LitecoinCash",
          "BitFlip",
          "LottoCoin",
          "Crypto Improvement Fund",
          "Pushi",
          "Ellerium",
          "Ontology",
          "Poseidon",
          "Bitspace",
          "Briacoin",
          "Ignition",
          "Abjcoin",
          "FuturoCoin",
          "Carebit",
          "Proton",
          "iDealCash",
          "Bitcoin Incognito",
          "KEYCO",
          "Swisscoin",
          "TheVig",
          "EmaratCoin",
          "Dekado",
          "Motion",
          "Axe",
          "Trivechain",
          "Giant",
          "Absolute Coin",
          "HexCoin",
          "TPCash",
          "Urals Coin",
          "ARENON",
          "EUNO",
          "Project Pai",
          "PAXEX",
          "Azart",
          "ThunderStake",
          "Kcash",
          "Xchange",
          "Bettex coin",
          "Bitcoin SV",
          "BitMoney",
          "Junson Ming Chan Coin",
          "HerbCoin",
          "Block-Logic",
          "Oduwa",
          "Galilel",
          "Credit",
          "SLICE",
          "Dash Platinum",
          "Nasdacoin",
          "Beetle Coin",
          "Titan Coin",
          "Award",
          "BLAST",
          "Bitcoin Rhodium",
          "GlobalToken",
          "Insane Coin",
          "LiteDoge",
          "SolarCoin",
          "TruckCoin",
          "OrangeCoin",
          "BitstarCoin",
          "HyperCoin",
          "PinkCoin",
          "Crypto Escudo",
          "AudioCoin",
          "IncaKoin",
          "Piggy Coin",
          "Crown Coin",
          "Genstake",
          "SmileyCoin",
          "XiaoMiCoin",
          "CapriCoin",
          " ClubCoin",
          "Bata",
          "Pakcoin",
          "Creditbit ",
          "OKCash",
          "WhiteCoin",
          "FriendshipCoin",
          "Triangles Coin",
          "Gapcoin"
         ],
         "legendgroup": "0",
         "marker": {
          "color": [
           0,
           0,
           0,
           0,
           0,
           0,
           0,
           0,
           0,
           0,
           0,
           0,
           0,
           0,
           0,
           0,
           0,
           0,
           0,
           0,
           0,
           0,
           0,
           0,
           0,
           0,
           0,
           0,
           0,
           0,
           0,
           0,
           0,
           0,
           0,
           0,
           0,
           0,
           0,
           0,
           0,
           0,
           0,
           0,
           0,
           0,
           0,
           0,
           0,
           0,
           0,
           0,
           0,
           0,
           0,
           0,
           0,
           0,
           0,
           0,
           0,
           0,
           0,
           0,
           0,
           0,
           0,
           0,
           0,
           0,
           0,
           0,
           0,
           0,
           0,
           0,
           0,
           0,
           0,
           0,
           0,
           0,
           0,
           0,
           0,
           0,
           0,
           0,
           0,
           0,
           0,
           0,
           0,
           0,
           0,
           0,
           0,
           0,
           0,
           0,
           0,
           0,
           0,
           0,
           0,
           0,
           0,
           0,
           0,
           0,
           0,
           0,
           0,
           0,
           0,
           0,
           0,
           0,
           0,
           0,
           0,
           0,
           0,
           0,
           0,
           0,
           0,
           0,
           0,
           0,
           0,
           0,
           0,
           0,
           0,
           0,
           0,
           0,
           0,
           0,
           0,
           0,
           0,
           0,
           0,
           0,
           0,
           0,
           0,
           0,
           0,
           0,
           0,
           0,
           0,
           0,
           0,
           0,
           0,
           0,
           0,
           0,
           0,
           0,
           0,
           0,
           0,
           0,
           0,
           0,
           0,
           0,
           0,
           0,
           0,
           0,
           0,
           0,
           0,
           0,
           0,
           0,
           0,
           0,
           0,
           0,
           0,
           0,
           0,
           0,
           0,
           0,
           0,
           0,
           0,
           0,
           0,
           0,
           0,
           0,
           0,
           0,
           0,
           0,
           0,
           0,
           0,
           0,
           0,
           0,
           0,
           0,
           0,
           0,
           0,
           0,
           0,
           0,
           0,
           0,
           0,
           0,
           0,
           0,
           0,
           0,
           0,
           0,
           0,
           0,
           0,
           0,
           0,
           0,
           0,
           0,
           0,
           0,
           0,
           0,
           0,
           0,
           0,
           0,
           0,
           0,
           0,
           0,
           0,
           0,
           0,
           0,
           0,
           0,
           0,
           0,
           0,
           0,
           0,
           0,
           0,
           0,
           0,
           0,
           0,
           0,
           0,
           0,
           0,
           0,
           0,
           0,
           0,
           0,
           0,
           0,
           0,
           0,
           0,
           0,
           0,
           0,
           0,
           0,
           0,
           0,
           0,
           0,
           0,
           0,
           0,
           0,
           0,
           0,
           0,
           0,
           0,
           0,
           0,
           0,
           0,
           0,
           0,
           0,
           0,
           0,
           0,
           0,
           0,
           0,
           0,
           0,
           0,
           0,
           0,
           0,
           0,
           0,
           0,
           0,
           0,
           0,
           0,
           0,
           0,
           0,
           0,
           0,
           0,
           0,
           0,
           0,
           0,
           0,
           0,
           0,
           0,
           0,
           0,
           0,
           0,
           0,
           0
          ],
          "coloraxis": "coloraxis",
          "symbol": "circle"
         },
         "mode": "markers",
         "name": "0",
         "scene": "scene",
         "showlegend": true,
         "type": "scatter3d",
         "x": [
          -0.412665425453564,
          -0.3913055807210573,
          3.1431523167574085,
          -0.1903013471736287,
          -0.21967866006234635,
          -0.4737028527709247,
          -0.3817243830271892,
          -0.22118388243616527,
          -0.49059402039534533,
          -0.282509672350788,
          -0.2206506116454243,
          -0.41222103076938466,
          -0.4030499948813655,
          3.6708182296812644,
          -0.1864888187023468,
          -0.2169988051379918,
          -0.2203590697589085,
          -0.4108032020204852,
          -0.17923772120323656,
          -0.22048974050331038,
          -0.41265971408708146,
          -0.2211619156686529,
          -0.4126395660754207,
          -0.22127966029038137,
          -0.2826230500472349,
          0.3061666301703875,
          0.10509898951177443,
          -0.22095474643901597,
          -0.21513323566498913,
          -0.2208646406307569,
          -0.08704121317342196,
          -0.221352849904936,
          -0.19370557601678562,
          -0.2197807163217911,
          -0.22012134184536636,
          -0.4100982671179463,
          0.06115442911769832,
          2.067779081128014,
          -0.47357241801239897,
          -0.19025349617542026,
          -0.21650191841890862,
          -0.22098885463840945,
          -0.22145363541813937,
          -0.4004891412982643,
          -0.2204809821104076,
          -0.22129483750537432,
          -0.3330243100838955,
          -0.4832953110042857,
          -0.03363692402975771,
          -0.19034963097105953,
          -0.2130032060589657,
          -0.4840660106433874,
          -0.32559927095264135,
          -0.40503860003602593,
          -0.4105529038485483,
          0.03094683281449687,
          -0.22125446184031541,
          -0.2185835479789311,
          -0.22057776456597553,
          0.036521866314539554,
          -0.47406248565657283,
          -0.1732599547025813,
          -0.1896501517723263,
          -0.47393948435186245,
          -0.1900127009395686,
          -0.18994011705182726,
          -0.19077991271797906,
          -0.28286284827194347,
          -0.3798178087883039,
          -0.41089163133140016,
          -0.22090057140120417,
          -0.15727234524316974,
          -0.2169837419049747,
          -0.4739015823495336,
          -0.18973623576666132,
          -0.4837945769293488,
          -0.4002897885115565,
          -0.2193865698477865,
          -0.3806856194986756,
          -0.1981748088217164,
          -0.21771654834773374,
          -0.48414312243976404,
          -0.22145463977080687,
          -0.21755803101310348,
          -0.41264321468933995,
          -0.4840866079193147,
          -0.19935490717397322,
          -0.23115992918260736,
          0.035997969387677645,
          -0.18045631771255755,
          -0.22129641571485525,
          -0.4122870961844824,
          -0.0503568873652628,
          -0.22146837728425334,
          -0.19038403851559724,
          0.7110480538271581,
          -0.47403960776485965,
          -0.5918600699058446,
          -0.28205903606724564,
          -0.1900174055056408,
          -0.36643666779190803,
          -0.28242820086995507,
          -0.09169474016270075,
          -0.21886020686112415,
          -0.21780575754504852,
          -0.48343986342756456,
          -0.37117908499433744,
          -0.49405689883382364,
          -0.28247882351606446,
          -0.19025488641306046,
          -0.2161776426097953,
          -0.3816883555711791,
          -0.03854660498626836,
          -0.2195758079176264,
          -0.38178283899917764,
          0.3573988958417142,
          -0.16819576847553847,
          -0.41210353418013906,
          -0.2813470531213924,
          -0.21976795633720728,
          -0.287493038249518,
          -0.47001272530866406,
          -0.38149519946136384,
          -0.2211818749963988,
          -0.2824210947531462,
          -0.4712661711952567,
          -0.3796912059240268,
          -0.3763932290129971,
          -0.3183947401461746,
          -0.47228453866049025,
          -0.22146845384785102,
          -0.38008905333791176,
          -0.4121475610771156,
          -0.41013857510386625,
          0.027624596705127718,
          -0.28260686149889647,
          0.05235595601191866,
          -0.8033537297563478,
          -0.4733201860576736,
          -0.41109997443219787,
          -0.3817450124743241,
          -0.19059231722390466,
          -0.47402215343485643,
          -0.41241349506380137,
          -0.4126360715125226,
          -0.21768865156459077,
          -0.1905398494497412,
          -0.49863144501736373,
          -0.22101168527405474,
          0.10678149716198648,
          -0.4121581467269907,
          -0.45485301134127654,
          0.02558486881229018,
          -0.4868849339647005,
          -0.29974176429392907,
          -0.47348085835124504,
          -0.11715155076958189,
          -0.26534399206605935,
          0.919410813618018,
          -0.4739651457614699,
          -0.4120161720901329,
          -0.4122026381896905,
          -0.27964147180281074,
          -0.47336249608933306,
          -0.3815762677464047,
          -0.4120245929417987,
          -0.9182331609573422,
          -0.4122139358789866,
          -0.4059050454835128,
          -0.4739995047301365,
          -0.41107903659376505,
          -0.41248110160898876,
          -0.4125816414537071,
          -0.3704775297756501,
          -0.22144298933791381,
          -0.4072346731693905,
          -0.3817157972873638,
          -0.47388206434193286,
          -0.4122838123823511,
          0.7388650416411332,
          -0.41243844232129384,
          -0.4736130219434361,
          -0.2214028318773183,
          0.02588871580835232,
          -0.2722851104419967,
          -0.3873969124051165,
          -0.21895954875582138,
          -0.4728497104198732,
          -0.47127343782686715,
          -0.1799692940271896,
          -0.47272322590063304,
          -0.46715333233553175,
          -0.4123691717580432,
          -0.41235815429107414,
          -0.4025216565604059,
          -0.4733972227706516,
          -0.22081716433523454,
          -0.14550441344949747,
          -0.4112779176712187,
          1.0329950401937984,
          -0.22054731367015112,
          -0.3204053111969969,
          -0.2813357634078858,
          -0.3184009924154407,
          -0.426898112189829,
          -0.22101423986577926,
          -0.48366943996978373,
          -0.22064561491297655,
          -0.2818788642946294,
          -0.2826498530848372,
          0.23101546521871066,
          -0.48377215045224564,
          -0.26193317833778296,
          4.273157062352419,
          -0.269877954116716,
          -0.4262848383844365,
          -0.19030031190196195,
          -0.47377594398600775,
          0.9305134405138353,
          -0.11504654827161097,
          1.9425372724216474,
          -0.22113446192204178,
          -0.22036847390163167,
          -0.2199763897278417,
          -0.21996020125888702,
          -0.41188065530016144,
          -0.4125592987555774,
          -0.47367893917961684,
          -0.31886799734277876,
          -0.2237355001173791,
          -0.41248868829036545,
          0.5740434431214654,
          -0.3795603213206522,
          -0.29992373472904243,
          -0.33518520985657,
          -0.412420036489167,
          -0.3743584815738677,
          -0.21895733046236826,
          -0.4122679264272661,
          -0.27668202558205823,
          -0.47202486726595566,
          0.4132610715968647,
          -0.4793894648366113,
          -0.40885748565927155,
          -0.27609083580462007,
          0.1684671096155679,
          -0.4110175909363969,
          -0.11081548815561494,
          -0.47287211318763134,
          -0.2826164256730576,
          -0.2201470499132078,
          -0.39459930347222116,
          -0.41258698303687524,
          0.036034094426496494,
          -0.28251969166840835,
          -0.19027592217296654,
          -0.34849197465233905,
          -0.24170855268522132,
          -0.4067600606643413,
          0.031201110524381962,
          0.03711561223040369,
          -0.2414544321941485,
          -0.22089024417346895,
          0.18437539534629105,
          -0.2746155943282123,
          -0.47377630427614736,
          -0.5041465403147272,
          0.06597243724784599,
          -0.22120957857977955,
          -0.3198543435971305,
          -0.4126222214496368,
          -0.41259685678224545,
          -0.41221182557294717,
          -0.2813862677025727,
          -0.37270863534959786,
          0.01069519146066581,
          -0.33950013763842174,
          -0.12202038769861454,
          -0.26733735727011104,
          -0.1549265825956751,
          -0.3906831399284425,
          -0.4114871374852696,
          0.01665937474450395,
          -0.3081165103765325,
          -0.28259270129181746,
          -0.49824919230928916,
          -0.376708671904628,
          -0.29937019617421323,
          -0.22123852973691222,
          -0.4024474506993367,
          -0.3112279150434515,
          0.03660362565473388,
          -0.47309006518666996,
          -0.13772160739808723,
          0.036836328216943576,
          -0.2825518106931035,
          -0.214174204067893,
          -0.8818646964782868,
          -0.30730202007545865,
          0.005665518008850036,
          -0.19030035843381593,
          -0.046979992356844524,
          0.2961804485179541,
          -0.375768749088874,
          -0.21973374682743121,
          -0.4122289477719945,
          -0.37638111446302464,
          0.8119868269313236,
          -0.1793434217287802,
          0.03596505503743579,
          -0.41150306895508365,
          -0.49668256151511,
          -0.3279546964778211,
          -0.4695719642337064,
          -0.18934544342217388,
          -0.29307497025237317,
          -0.18780221310469597,
          -0.4733986422800251,
          0.1739118593804395,
          0.7737183901145619,
          -0.4703918069699803,
          -0.41058466050356834,
          -0.4118041049679597,
          -0.4125196842078809,
          -0.46239137325299257,
          -0.19954143635363042,
          -0.29139453766235884,
          -0.10857151797859207,
          -0.4564473066778434,
          -0.19001192112492873,
          -0.4116054448392225,
          0.7330002660463513,
          -0.4024927026235482,
          -0.46890707572516926,
          -0.40947559552184365,
          -0.22135689270980102,
          -0.21858475467785568,
          -0.8560022627759736,
          -0.37977256018401145,
          -0.4058111389777346,
          -0.3250593892123852,
          -0.4842920148145124,
          -0.4099054343413472
         ],
         "y": [
          -0.412665425453564,
          -0.3913055807210573,
          3.1431523167574085,
          -0.1903013471736287,
          -0.21967866006234635,
          -0.4737028527709247,
          -0.3817243830271892,
          -0.22118388243616527,
          -0.49059402039534533,
          -0.282509672350788,
          -0.2206506116454243,
          -0.41222103076938466,
          -0.4030499948813655,
          3.6708182296812644,
          -0.1864888187023468,
          -0.2169988051379918,
          -0.2203590697589085,
          -0.4108032020204852,
          -0.17923772120323656,
          -0.22048974050331038,
          -0.41265971408708146,
          -0.2211619156686529,
          -0.4126395660754207,
          -0.22127966029038137,
          -0.2826230500472349,
          0.3061666301703875,
          0.10509898951177443,
          -0.22095474643901597,
          -0.21513323566498913,
          -0.2208646406307569,
          -0.08704121317342196,
          -0.221352849904936,
          -0.19370557601678562,
          -0.2197807163217911,
          -0.22012134184536636,
          -0.4100982671179463,
          0.06115442911769832,
          2.067779081128014,
          -0.47357241801239897,
          -0.19025349617542026,
          -0.21650191841890862,
          -0.22098885463840945,
          -0.22145363541813937,
          -0.4004891412982643,
          -0.2204809821104076,
          -0.22129483750537432,
          -0.3330243100838955,
          -0.4832953110042857,
          -0.03363692402975771,
          -0.19034963097105953,
          -0.2130032060589657,
          -0.4840660106433874,
          -0.32559927095264135,
          -0.40503860003602593,
          -0.4105529038485483,
          0.03094683281449687,
          -0.22125446184031541,
          -0.2185835479789311,
          -0.22057776456597553,
          0.036521866314539554,
          -0.47406248565657283,
          -0.1732599547025813,
          -0.1896501517723263,
          -0.47393948435186245,
          -0.1900127009395686,
          -0.18994011705182726,
          -0.19077991271797906,
          -0.28286284827194347,
          -0.3798178087883039,
          -0.41089163133140016,
          -0.22090057140120417,
          -0.15727234524316974,
          -0.2169837419049747,
          -0.4739015823495336,
          -0.18973623576666132,
          -0.4837945769293488,
          -0.4002897885115565,
          -0.2193865698477865,
          -0.3806856194986756,
          -0.1981748088217164,
          -0.21771654834773374,
          -0.48414312243976404,
          -0.22145463977080687,
          -0.21755803101310348,
          -0.41264321468933995,
          -0.4840866079193147,
          -0.19935490717397322,
          -0.23115992918260736,
          0.035997969387677645,
          -0.18045631771255755,
          -0.22129641571485525,
          -0.4122870961844824,
          -0.0503568873652628,
          -0.22146837728425334,
          -0.19038403851559724,
          0.7110480538271581,
          -0.47403960776485965,
          -0.5918600699058446,
          -0.28205903606724564,
          -0.1900174055056408,
          -0.36643666779190803,
          -0.28242820086995507,
          -0.09169474016270075,
          -0.21886020686112415,
          -0.21780575754504852,
          -0.48343986342756456,
          -0.37117908499433744,
          -0.49405689883382364,
          -0.28247882351606446,
          -0.19025488641306046,
          -0.2161776426097953,
          -0.3816883555711791,
          -0.03854660498626836,
          -0.2195758079176264,
          -0.38178283899917764,
          0.3573988958417142,
          -0.16819576847553847,
          -0.41210353418013906,
          -0.2813470531213924,
          -0.21976795633720728,
          -0.287493038249518,
          -0.47001272530866406,
          -0.38149519946136384,
          -0.2211818749963988,
          -0.2824210947531462,
          -0.4712661711952567,
          -0.3796912059240268,
          -0.3763932290129971,
          -0.3183947401461746,
          -0.47228453866049025,
          -0.22146845384785102,
          -0.38008905333791176,
          -0.4121475610771156,
          -0.41013857510386625,
          0.027624596705127718,
          -0.28260686149889647,
          0.05235595601191866,
          -0.8033537297563478,
          -0.4733201860576736,
          -0.41109997443219787,
          -0.3817450124743241,
          -0.19059231722390466,
          -0.47402215343485643,
          -0.41241349506380137,
          -0.4126360715125226,
          -0.21768865156459077,
          -0.1905398494497412,
          -0.49863144501736373,
          -0.22101168527405474,
          0.10678149716198648,
          -0.4121581467269907,
          -0.45485301134127654,
          0.02558486881229018,
          -0.4868849339647005,
          -0.29974176429392907,
          -0.47348085835124504,
          -0.11715155076958189,
          -0.26534399206605935,
          0.919410813618018,
          -0.4739651457614699,
          -0.4120161720901329,
          -0.4122026381896905,
          -0.27964147180281074,
          -0.47336249608933306,
          -0.3815762677464047,
          -0.4120245929417987,
          -0.9182331609573422,
          -0.4122139358789866,
          -0.4059050454835128,
          -0.4739995047301365,
          -0.41107903659376505,
          -0.41248110160898876,
          -0.4125816414537071,
          -0.3704775297756501,
          -0.22144298933791381,
          -0.4072346731693905,
          -0.3817157972873638,
          -0.47388206434193286,
          -0.4122838123823511,
          0.7388650416411332,
          -0.41243844232129384,
          -0.4736130219434361,
          -0.2214028318773183,
          0.02588871580835232,
          -0.2722851104419967,
          -0.3873969124051165,
          -0.21895954875582138,
          -0.4728497104198732,
          -0.47127343782686715,
          -0.1799692940271896,
          -0.47272322590063304,
          -0.46715333233553175,
          -0.4123691717580432,
          -0.41235815429107414,
          -0.4025216565604059,
          -0.4733972227706516,
          -0.22081716433523454,
          -0.14550441344949747,
          -0.4112779176712187,
          1.0329950401937984,
          -0.22054731367015112,
          -0.3204053111969969,
          -0.2813357634078858,
          -0.3184009924154407,
          -0.426898112189829,
          -0.22101423986577926,
          -0.48366943996978373,
          -0.22064561491297655,
          -0.2818788642946294,
          -0.2826498530848372,
          0.23101546521871066,
          -0.48377215045224564,
          -0.26193317833778296,
          4.273157062352419,
          -0.269877954116716,
          -0.4262848383844365,
          -0.19030031190196195,
          -0.47377594398600775,
          0.9305134405138353,
          -0.11504654827161097,
          1.9425372724216474,
          -0.22113446192204178,
          -0.22036847390163167,
          -0.2199763897278417,
          -0.21996020125888702,
          -0.41188065530016144,
          -0.4125592987555774,
          -0.47367893917961684,
          -0.31886799734277876,
          -0.2237355001173791,
          -0.41248868829036545,
          0.5740434431214654,
          -0.3795603213206522,
          -0.29992373472904243,
          -0.33518520985657,
          -0.412420036489167,
          -0.3743584815738677,
          -0.21895733046236826,
          -0.4122679264272661,
          -0.27668202558205823,
          -0.47202486726595566,
          0.4132610715968647,
          -0.4793894648366113,
          -0.40885748565927155,
          -0.27609083580462007,
          0.1684671096155679,
          -0.4110175909363969,
          -0.11081548815561494,
          -0.47287211318763134,
          -0.2826164256730576,
          -0.2201470499132078,
          -0.39459930347222116,
          -0.41258698303687524,
          0.036034094426496494,
          -0.28251969166840835,
          -0.19027592217296654,
          -0.34849197465233905,
          -0.24170855268522132,
          -0.4067600606643413,
          0.031201110524381962,
          0.03711561223040369,
          -0.2414544321941485,
          -0.22089024417346895,
          0.18437539534629105,
          -0.2746155943282123,
          -0.47377630427614736,
          -0.5041465403147272,
          0.06597243724784599,
          -0.22120957857977955,
          -0.3198543435971305,
          -0.4126222214496368,
          -0.41259685678224545,
          -0.41221182557294717,
          -0.2813862677025727,
          -0.37270863534959786,
          0.01069519146066581,
          -0.33950013763842174,
          -0.12202038769861454,
          -0.26733735727011104,
          -0.1549265825956751,
          -0.3906831399284425,
          -0.4114871374852696,
          0.01665937474450395,
          -0.3081165103765325,
          -0.28259270129181746,
          -0.49824919230928916,
          -0.376708671904628,
          -0.29937019617421323,
          -0.22123852973691222,
          -0.4024474506993367,
          -0.3112279150434515,
          0.03660362565473388,
          -0.47309006518666996,
          -0.13772160739808723,
          0.036836328216943576,
          -0.2825518106931035,
          -0.214174204067893,
          -0.8818646964782868,
          -0.30730202007545865,
          0.005665518008850036,
          -0.19030035843381593,
          -0.046979992356844524,
          0.2961804485179541,
          -0.375768749088874,
          -0.21973374682743121,
          -0.4122289477719945,
          -0.37638111446302464,
          0.8119868269313236,
          -0.1793434217287802,
          0.03596505503743579,
          -0.41150306895508365,
          -0.49668256151511,
          -0.3279546964778211,
          -0.4695719642337064,
          -0.18934544342217388,
          -0.29307497025237317,
          -0.18780221310469597,
          -0.4733986422800251,
          0.1739118593804395,
          0.7737183901145619,
          -0.4703918069699803,
          -0.41058466050356834,
          -0.4118041049679597,
          -0.4125196842078809,
          -0.46239137325299257,
          -0.19954143635363042,
          -0.29139453766235884,
          -0.10857151797859207,
          -0.4564473066778434,
          -0.19001192112492873,
          -0.4116054448392225,
          0.7330002660463513,
          -0.4024927026235482,
          -0.46890707572516926,
          -0.40947559552184365,
          -0.22135689270980102,
          -0.21858475467785568,
          -0.8560022627759736,
          -0.37977256018401145,
          -0.4058111389777346,
          -0.3250593892123852,
          -0.4842920148145124,
          -0.4099054343413472
         ],
         "z": [
          0.3572269942377628,
          0.3583355649057429,
          0.48727300119108763,
          -0.04368780606873772,
          -0.28004407959548167,
          -0.11570799958504888,
          0.5937659899207655,
          -0.28017846026634297,
          -0.2726562637810636,
          -0.7531633047083454,
          -0.28008524341350505,
          0.3572626294462108,
          0.357197867570063,
          0.5548594573286149,
          -0.043371200963473654,
          -0.2796861008387979,
          -0.2800067321292975,
          0.35722135319227166,
          -0.0037921986582031024,
          -0.2801206510233878,
          0.35722807954466645,
          -0.280178526806962,
          0.35722912121344313,
          -0.2801955045866924,
          -0.7531673720708234,
          0.0010754096210557503,
          -0.2514402301697991,
          -0.2801791543534951,
          -0.27958193962921557,
          -0.28015516789496336,
          -0.7052122729334483,
          -0.28019948237885967,
          -0.2771749968014989,
          -0.28007464605498866,
          -0.2800686615821259,
          0.3574838658662431,
          -1.8157013253096823,
          -0.08734912386835607,
          -0.11570839469141016,
          -0.04368795101655687,
          -0.2796535969470727,
          -0.28018125643489117,
          -0.28022097925870926,
          0.43627205105422945,
          -0.2801342760516582,
          -0.2802023835693498,
          0.598905255548001,
          -0.19458886207111353,
          -0.24771187803204803,
          -0.0436876598099051,
          -0.27950633428545213,
          -0.1945865275068183,
          1.027293477811459,
          0.358130159446741,
          0.3574367242238302,
          0.355883226370345,
          -0.2801782464707881,
          -0.2796813004160834,
          -0.28011369320107327,
          -1.8156267095985779,
          -0.11575542680289483,
          -0.041827344995817486,
          -0.0436324118367584,
          -0.11573374759535997,
          -0.04364236701654882,
          -0.04355878167541502,
          -0.043732118476918776,
          -0.7532063428902506,
          0.3606561341699183,
          0.3574421610804087,
          -0.28017490765732356,
          -0.49270895180397073,
          -0.27965213743178285,
          -0.11574378670719951,
          -0.04363658827016555,
          -0.19458734972007133,
          0.3593949067182799,
          -0.27999838632759694,
          0.5938642917612921,
          -0.2765893992121686,
          -0.27986832902188946,
          -0.1945598291209662,
          -0.28021815771488684,
          -0.2798828928804073,
          0.3572269268654143,
          -0.19456441111233885,
          -0.27808549667137034,
          -0.5145733565188669,
          -1.8155810146320435,
          0.035097459131665794,
          -0.2802169976435924,
          0.3572699561337936,
          -0.25868823189377693,
          -0.2802225456967789,
          -0.043687555584314613,
          -0.08015182267070077,
          -0.11575549830884548,
          1.0736749649979171,
          -0.7531359995500103,
          -0.04361641725906387,
          0.7119744226728857,
          -0.7531613460974015,
          -1.3906571612653227,
          -0.2797681490879814,
          -0.27968365645945487,
          -0.19447815418896294,
          0.5958909280588286,
          -0.27335966666895495,
          -0.7531722197549746,
          -0.04368794680531945,
          -0.2797768042717394,
          0.5937658807882213,
          -0.058521295659501496,
          -0.2800443911499869,
          0.5937408048900409,
          0.0023014174910582093,
          1.06623906507335,
          0.3573179189020321,
          -0.7530256808411734,
          -0.27985778072768996,
          -0.7925700880827377,
          -0.11492082265054968,
          0.5938049928935796,
          -0.2801806717474032,
          -0.7531525460219886,
          -0.11559849444545939,
          0.5942025100839683,
          0.5948591573725794,
          1.066892526208006,
          -0.11545426404390322,
          -0.28022255214721903,
          0.36153911590036064,
          0.35732319819920194,
          0.35743987996064197,
          -1.8940200790647372,
          -0.7531519833067751,
          -1.8142257254726233,
          3.6495412640077376,
          -0.11564740753335294,
          0.357420738180518,
          0.5937638470102161,
          -0.04371176630514489,
          -0.11574893497994093,
          0.35727254441509976,
          0.3572269052276649,
          -0.27979428120223176,
          -0.043709935309655175,
          0.788905299840387,
          -0.28015913327523173,
          0.5574843176965694,
          0.35722545752212115,
          -0.11250551703630382,
          -1.8944494666954235,
          -0.2337881488793459,
          0.5311614669442304,
          -0.11569102883749238,
          -0.2584859008838965,
          -0.7521567100090383,
          -0.1969632781966473,
          -0.11574722573763008,
          0.3573100235844356,
          0.3573182191028762,
          -0.7527132696692106,
          -0.11562522536769398,
          0.593761130457011,
          0.35729783117520353,
          1.371792807212224,
          0.35728737772210745,
          0.35864148128709766,
          -0.11574459278579873,
          0.3575397663688552,
          0.3572551060036168,
          0.35723405299269706,
          0.6727186665552051,
          -0.2802180027106241,
          0.35831324369824014,
          0.5937637585130521,
          -0.11573534621769022,
          0.3572699461866666,
          -0.5357612866939488,
          0.35727467835687676,
          0.5699447880838382,
          -0.2802167002957676,
          -1.8944238677566458,
          -0.7510329842122162,
          0.3593558522712638,
          -0.28001097148740595,
          -0.11553856266304134,
          -0.11552128342585484,
          -0.2715280179119644,
          -0.11553894580353796,
          -0.11467365775270057,
          0.35727287796488916,
          0.3572891378213489,
          0.3594016673798841,
          -0.11566922817990054,
          -0.2801475478167983,
          -0.03835631551150742,
          0.3574543582005434,
          -0.07955731234737246,
          -0.28006791311669377,
          1.0667221845099175,
          -0.7529904286357937,
          1.0669587071538285,
          0.23919854609687446,
          -0.28018277448468987,
          -0.19452156677184373,
          -0.28006099914687343,
          -0.7530769995111263,
          -0.753165306020217,
          0.4655471998811955,
          -0.1945457395859772,
          -0.5955006272421035,
          0.14724124156684423,
          -0.7508197358256361,
          0.23919668839893798,
          -0.0436878092047302,
          -0.11573532964819722,
          1.1721095674196926,
          -0.2573895771380563,
          -0.28677900815702934,
          -0.2801808153686856,
          -0.2800419900463527,
          -0.2800078913242571,
          -0.280007940361547,
          0.357331031930832,
          0.3572359353524667,
          -0.1156970450217604,
          1.0281469335098623,
          -0.749415728051396,
          0.35726115707802225,
          0.4093731112745556,
          0.5939314558722861,
          1.0692845690246235,
          0.9485851240370126,
          0.357272564230054,
          0.633566939080219,
          -0.2800109782069481,
          0.35725840412843196,
          -0.7524531754462365,
          -0.11544402362620641,
          1.1306397522407388,
          -0.19413755941506097,
          0.3576785933742136,
          -0.7520138862032563,
          0.4657366681906463,
          0.3575528126421363,
          -0.2695320948933818,
          -0.1156487648129869,
          -0.753163422416636,
          -0.2800867687771887,
          0.35915712936678795,
          0.35723557813224377,
          -1.8155789186599554,
          -0.7531566581576599,
          -0.04368972238864948,
          0.14480818464357717,
          -0.43784879307527114,
          0.3577207587656568,
          -0.25893528324841814,
          -1.8927255886327592,
          0.13113324725722011,
          -0.2801374471362052,
          -0.24085851579577544,
          -0.7521286249412601,
          -0.11570116088879452,
          -0.3521161779093583,
          -1.7346491188807562,
          -0.2801783824288867,
          1.0668087315558017,
          0.35723347947443274,
          0.35723781344151856,
          0.357291782130126,
          -0.7529902756507434,
          0.6335619414496346,
          -2.0126027354074383,
          0.368301317938138,
          -1.6271031889542762,
          -0.6349215737125556,
          0.3789413470020662,
          0.5151037478812847,
          0.35740867855386776,
          -1.9730908584643219,
          -0.9502346616966854,
          -0.753160847801059,
          -0.31265361732502056,
          0.6331443381291469,
          1.2244749968539934,
          -0.2801758571842391,
          0.3594014425992498,
          -0.9892414888284945,
          -1.8155056602474267,
          -0.11564810460383511,
          -0.03926205088343821,
          -1.8154071221280896,
          -0.7531521500638867,
          0.39632293865377377,
          2.1774704143749988,
          -0.9500652746406435,
          -2.052007173109111,
          -0.04368780906377826,
          0.6499070102905986,
          -1.8164132542188167,
          0.633249222558195,
          -0.27996451832132635,
          0.3572719853937945,
          0.6331739678886683,
          0.518481276462474,
          0.03531462802609167,
          -1.8155815765496288,
          0.3574087268126688,
          -0.35116841131651977,
          0.5257201951637619,
          -0.11484276337354667,
          -0.04359586943424956,
          -0.8320321781768569,
          -0.0433711824858802,
          -0.11569127788224945,
          0.4326391718481664,
          -0.06688871910235858,
          -0.11576654804217829,
          0.3576617712424806,
          0.35734404153384114,
          0.3572265526731391,
          -0.1146880824378636,
          -0.27808493164663073,
          0.38001634888433317,
          0.5933090763405738,
          -0.11360338779039955,
          -0.04364236937872381,
          0.3572568643089506,
          -0.17284512867029198,
          0.3580783395387904,
          -0.11531232226793094,
          0.35757019571001486,
          -0.28021322259599635,
          -0.27983126397614566,
          1.1591814055283376,
          0.5939431257766241,
          0.35786785155549933,
          1.027416222910748,
          -0.19458557825840778,
          0.35776998377628116
         ]
        },
        {
         "customdata": [
          [
           20
          ],
          [
           12
          ],
          [
           20
          ],
          [
           18
          ],
          [
           50
          ],
          [
           34
          ],
          [
           47
          ],
          [
           34
          ],
          [
           23
          ],
          [
           53
          ],
          [
           23
          ],
          [
           34
          ],
          [
           41
          ],
          [
           36
          ],
          [
           25
          ],
          [
           53
          ],
          [
           53
          ],
          [
           34
          ],
          [
           38
          ],
          [
           31
          ],
          [
           34
          ],
          [
           10
          ],
          [
           10
          ],
          [
           55
          ],
          [
           9
          ],
          [
           23
          ],
          [
           53
          ],
          [
           53
          ],
          [
           34
          ],
          [
           33
          ],
          [
           30
          ],
          [
           53
          ],
          [
           20
          ],
          [
           6
          ],
          [
           3
          ],
          [
           0
          ],
          [
           53
          ],
          [
           15
          ],
          [
           53
          ],
          [
           53
          ],
          [
           41
          ],
          [
           40
          ],
          [
           10
          ],
          [
           34
          ],
          [
           53
          ],
          [
           41
          ],
          [
           32
          ],
          [
           41
          ],
          [
           41
          ],
          [
           20
          ],
          [
           18
          ],
          [
           14
          ],
          [
           41
          ],
          [
           41
          ],
          [
           10
          ],
          [
           53
          ],
          [
           46
          ],
          [
           10
          ],
          [
           30
          ],
          [
           12
          ],
          [
           53
          ],
          [
           18
          ],
          [
           30
          ],
          [
           53
          ],
          [
           16
          ],
          [
           5
          ],
          [
           41
          ],
          [
           35
          ],
          [
           41
          ],
          [
           47
          ],
          [
           53
          ],
          [
           41
          ],
          [
           47
          ],
          [
           40
          ],
          [
           12
          ],
          [
           1
          ],
          [
           2
          ],
          [
           6
          ],
          [
           8
          ],
          [
           10
          ],
          [
           10
          ],
          [
           28
          ],
          [
           58
          ],
          [
           53
          ],
          [
           41
          ],
          [
           10
          ],
          [
           50
          ],
          [
           37
          ],
          [
           18
          ],
          [
           36
          ],
          [
           31
          ],
          [
           18
          ],
          [
           15
          ],
          [
           39
          ],
          [
           47
          ],
          [
           36
          ],
          [
           20
          ],
          [
           36
          ],
          [
           14
          ],
          [
           34
          ],
          [
           10
          ],
          [
           10
          ],
          [
           20
          ],
          [
           35
          ],
          [
           46
          ],
          [
           12
          ],
          [
           3
          ],
          [
           36
          ],
          [
           46
          ],
          [
           36
          ],
          [
           7
          ],
          [
           40
          ],
          [
           20
          ],
          [
           10
          ],
          [
           15
          ],
          [
           31
          ],
          [
           43
          ],
          [
           7
          ],
          [
           42
          ],
          [
           53
          ],
          [
           20
          ],
          [
           10
          ],
          [
           26
          ],
          [
           18
          ],
          [
           53
          ],
          [
           32
          ],
          [
           22
          ],
          [
           41
          ],
          [
           54
          ],
          [
           41
          ],
          [
           10
          ],
          [
           35
          ],
          [
           30
          ],
          [
           53
          ],
          [
           32
          ],
          [
           10
          ],
          [
           11
          ],
          [
           10
          ],
          [
           53
          ],
          [
           27
          ],
          [
           10
          ],
          [
           53
          ],
          [
           46
          ],
          [
           47
          ],
          [
           14
          ],
          [
           24
          ],
          [
           46
          ],
          [
           53
          ],
          [
           46
          ],
          [
           12
          ],
          [
           13
          ],
          [
           11
          ],
          [
           53
          ],
          [
           41
          ],
          [
           28
          ],
          [
           17
          ],
          [
           18
          ],
          [
           32
          ],
          [
           10
          ],
          [
           4
          ],
          [
           4
          ],
          [
           18
          ],
          [
           21
          ],
          [
           18
          ],
          [
           18
          ],
          [
           46
          ],
          [
           14
          ],
          [
           36
          ],
          [
           4
          ],
          [
           47
          ],
          [
           23
          ],
          [
           41
          ],
          [
           14
          ],
          [
           53
          ],
          [
           52
          ],
          [
           34
          ],
          [
           19
          ],
          [
           14
          ],
          [
           20
          ],
          [
           14
          ],
          [
           47
          ],
          [
           29
          ],
          [
           41
          ],
          [
           41
          ],
          [
           47
          ],
          [
           10
          ],
          [
           18
          ],
          [
           53
          ]
         ],
         "hovertemplate": "<b>%{hovertext}</b><br><br>Class=%{marker.color}<br>PC_1=%{y}<br>PC_3=%{z}<br>Algorithm=%{customdata[0]}<extra></extra>",
         "hovertext": [
          "Ethereum",
          "Monero",
          "Ethereum Classic",
          "ZCash",
          "Bitshares",
          "DigiByte",
          "PayCoin",
          "MyriadCoin",
          "Riecoin",
          "CasinoCoin",
          "Diamond",
          "Verge",
          "Exclusive Coin",
          "FeatherCoin",
          "MediterraneanCoin",
          "MintCoin",
          "Nautilus Coin",
          "TeslaCoin",
          "TittieCoin",
          "Vertcoin",
          "Crypti",
          "ByteCoin",
          "DigitalNote ",
          "BurstCoin",
          "StorjCoin",
          "FairCoin",
          "RubyCoin",
          "Dnotes",
          "Unitus",
          "Cryptonite",
          "Crypto",
          "Diggits",
          "Expanse",
          "Siacoin",
          "Decred",
          "HOdlcoin",
          "GPU Coin",
          "SoilCoin",
          "ZeitCoin",
          "SafeExchangeCoin",
          "Nebuchadnezzar",
          "Let it Ride",
          "Karbo",
          "Circuits of Value",
          "BitCurrency",
          "Opair",
          "ZCoin",
          "CoffeeCoin",
          "TeamUP",
          "Elementrem",
          "ZClassic",
          "ARK",
          "FreeCoin",
          "Creatio",
          "Cannabis Industry Coin",
          "PandaCoin",
          "Allsafe",
          "Bikercoins",
          "HexxCoin",
          "Citadel",
          "Zilbercoin",
          "Zero",
          "Zoin",
          "RenosCoin",
          "DubaiCoin",
          "TajCoin",
          "Atmos",
          "Coinonat",
          "MacronCoin",
          "ProCurrency",
          "GrowthCoin",
          "Phreak",
          "Ultimate Secure Cash",
          "QTUM",
          "Quantum Resistant Ledger",
          "Espers",
          "Dynamic",
          "Nano",
          "ChanCoin",
          "Dinastycoin",
          "LeviarCoin",
          "SmartCash",
          "Signatum",
          "Draftcoin",
          "Stakecoin",
          "Sumokoin",
          "Obsidian",
          "Cardano",
          "BitcoinZ",
          "VIVO Coin",
          "Rupee",
          "Bitcoin Gold",
          "Pirl",
          "KekCoin",
          "Infinity Economics",
          "Innova",
          "Ellaism",
          "GoByte",
          "Lamden Tau",
          "SHIELD",
          "UltraNote",
          "BitCoal",
          "DaxxCoin",
          "Bulwark",
          "Kalkulus",
          "Lethean",
          "Photon",
          "SparksPay",
          "Digiwage",
          "GunCoin",
          "Interzone",
          "TokenPay",
          "1717 Masonic Commemorative Token",
          "Niobio Cash",
          "Travelflex",
          "KREDS",
          "BiblePay",
          "Stipend",
          "Poa Network",
          "Velox",
          "Callisto Network",
          "BitTube",
          "Aidos Kuneen",
          "Bitrolium",
          "MedicCoin",
          "Alpenschillling",
          "Bitcoin Green",
          "Deviant Coin",
          "Semux",
          "Zealium",
          "Monero Classic",
          "Jumpcoin",
          "Infinex",
          "HollyWoodCoin",
          "GINcoin",
          "PlatinCoin",
          "Loki",
          "Newton Coin",
          "Xt3ch",
          "MassGrid",
          "PluraCoin",
          "Lynx",
          "Poseidon Quark",
          "BitcoinWSpectrum",
          "Muse",
          "PlusOneCoin",
          "Dystem",
          "Peony Coin",
          "Vitae",
          "Webchain",
          "Ryo",
          "Qwertycoin",
          "MMOCoin",
          "Ketan",
          "XDNA",
          "Acute Angle Cloud",
          "CrypticCoin",
          "Actinium",
          "FREDEnergy",
          "Universal Molecule",
          "Lithium",
          "PirateCash",
          "Exosis",
          "Beam",
          "Bithereum",
          "Crypto Sports",
          "ALAX",
          "UFO Coin",
          "BlakeCoin",
          "NeosCoin",
          "Groestlcoin",
          "Radium",
          "Lisk",
          "HiCoin",
          "Fiii",
          "JoinCoin",
          "Vollar",
          "EOS",
          "Reality Clash",
          "Oxycoin",
          "TigerCash",
          "Waves",
          "Particl",
          "Nxt",
          "ZEPHYR",
          "Beldex",
          "Horizen",
          "BitcoinPlus"
         ],
         "legendgroup": "1",
         "marker": {
          "color": [
           1,
           1,
           1,
           1,
           1,
           1,
           1,
           1,
           1,
           1,
           1,
           1,
           1,
           1,
           1,
           1,
           1,
           1,
           1,
           1,
           1,
           1,
           1,
           1,
           1,
           1,
           1,
           1,
           1,
           1,
           1,
           1,
           1,
           1,
           1,
           1,
           1,
           1,
           1,
           1,
           1,
           1,
           1,
           1,
           1,
           1,
           1,
           1,
           1,
           1,
           1,
           1,
           1,
           1,
           1,
           1,
           1,
           1,
           1,
           1,
           1,
           1,
           1,
           1,
           1,
           1,
           1,
           1,
           1,
           1,
           1,
           1,
           1,
           1,
           1,
           1,
           1,
           1,
           1,
           1,
           1,
           1,
           1,
           1,
           1,
           1,
           1,
           1,
           1,
           1,
           1,
           1,
           1,
           1,
           1,
           1,
           1,
           1,
           1,
           1,
           1,
           1,
           1,
           1,
           1,
           1,
           1,
           1,
           1,
           1,
           1,
           1,
           1,
           1,
           1,
           1,
           1,
           1,
           1,
           1,
           1,
           1,
           1,
           1,
           1,
           1,
           1,
           1,
           1,
           1,
           1,
           1,
           1,
           1,
           1,
           1,
           1,
           1,
           1,
           1,
           1,
           1,
           1,
           1,
           1,
           1,
           1,
           1,
           1,
           1,
           1,
           1,
           1,
           1,
           1,
           1,
           1,
           1,
           1,
           1,
           1,
           1,
           1,
           1,
           1,
           1,
           1,
           1,
           1,
           1,
           1,
           1,
           1,
           1,
           1,
           1,
           1,
           1,
           1,
           1,
           1,
           1,
           1,
           1,
           1,
           1,
           1,
           1
          ],
          "coloraxis": "coloraxis",
          "symbol": "diamond"
         },
         "mode": "markers",
         "name": "1",
         "scene": "scene",
         "showlegend": true,
         "type": "scatter3d",
         "x": [
          -0.05101253000577026,
          -0.011450356650793268,
          -0.048798044078657385,
          -0.042084610252890904,
          0.19048330548240935,
          0.26119075127958735,
          0.128158392552077,
          -0.07845238122329866,
          -0.06639008716622741,
          1.171619284840637,
          -0.2590783076865188,
          0.2845834790661325,
          0.15863466347769806,
          -0.12794141391974218,
          -0.07558509253438574,
          0.41937791689923143,
          0.09756047388879407,
          0.19659183051035345,
          0.22176080480821692,
          -0.1072968864559396,
          0.19587691491860015,
          4.653678143255554,
          0.20439686306091387,
          0.19996347184914492,
          0.32811675178315386,
          -0.2583677632358764,
          0.09756299347473932,
          0.10486253042070992,
          -0.12328666132457836,
          -0.08978359658344107,
          -0.1029314692182554,
          0.09967848074147095,
          -0.05231185659000745,
          0.5198415876968508,
          -0.15647452292577307,
          0.0506904710005242,
          0.10000477501881032,
          -0.026669550185003933,
          1.6600960218799306,
          0.2151424821457825,
          0.1590540867013608,
          0.1645886561300494,
          -0.0012580683210843154,
          -0.09697622114620275,
          0.09971804821603272,
          0.1604190980381978,
          -0.11370768782597922,
          0.16120459254533787,
          0.1618693515905988,
          -0.05197986604702698,
          -0.04211138697056216,
          0.6819593272389054,
          0.15981214212465236,
          0.1590540867013608,
          -0.0012501399649917566,
          0.9384004384088721,
          0.1332777980567411,
          -0.0010828023842450846,
          -0.10367652786152871,
          -0.00966946085190666,
          0.09775334644088365,
          -0.04213213715162897,
          -0.1033127798823405,
          0.09804610788009174,
          -0.03211992329235481,
          -0.1665186772063421,
          0.16134838061068998,
          -0.1287461204303783,
          0.16867763114406256,
          0.8895869472343598,
          0.121890118389659,
          0.15902516296709343,
          0.13003478229853985,
          0.16619199175419402,
          -0.0096016738583029,
          0.7052439747663003,
          0.039752970580674465,
          0.024453419857532056,
          0.009337676480137511,
          0.046176024064538995,
          -0.0007161460357328854,
          -0.008980767620478735,
          0.07459711513281031,
          0.09761047779788123,
          0.15923363545967634,
          -0.0004414224247501883,
          0.113805545842084,
          1.0274800599046674,
          0.24931392765362573,
          -0.1341681056472227,
          0.21031939999835586,
          -0.041936021485034426,
          -0.024961263032900805,
          0.16918101813445013,
          0.35526679971100644,
          -0.13395222229482107,
          -0.04961087071132577,
          -0.1340942363056161,
          0.6884825320171393,
          -0.11029238508895142,
          1.1518780260796633,
          -0.00128300389455722,
          0.056602292966890816,
          0.18972865663604255,
          0.13342590077092267,
          0.005097434109246984,
          1.4019217543041185,
          -0.13417321402987956,
          0.13459604848393725,
          -0.12490008630902061,
          0.014284928129995898,
          0.16422793855950707,
          0.2660345041140248,
          0.003954670301113295,
          -0.024422221849112125,
          -0.08803076055438802,
          0.4190213635007229,
          -0.1769436270045006,
          0.2865397908467031,
          0.09879545197500714,
          0.01699023209182713,
          0.00986972952342788,
          -0.0827088717705921,
          -0.040619885744626945,
          0.10626456261335898,
          -0.11058454207285233,
          0.2561219837558828,
          0.15977174565429614,
          0.47543024776881565,
          0.15952720690481073,
          -0.00104892353229036,
          -0.1288567117745235,
          -0.10346276106114279,
          0.09800089408125488,
          -0.11382697765949809,
          0.004605201345433857,
          -0.0047839564896131,
          2.488465188246678,
          0.09771308182556872,
          -0.0846982140700696,
          0.017133796393139885,
          2.5267022119913394,
          0.13959623263257295,
          0.1297412650245803,
          0.29715077465697365,
          -0.07276405152654856,
          0.1332866300359016,
          0.26826651751807373,
          0.13497976495225475,
          0.00626347137281728,
          -0.015859162497912097,
          3.3696998499820006,
          0.10141775860789494,
          0.16081846026664798,
          -0.2809742718934902,
          0.8164284605515603,
          0.09871297712147879,
          -0.11298136026729323,
          0.10867557856887589,
          0.030310142506456417,
          0.029716263467631784,
          0.2774946898745283,
          -0.05753945961424859,
          -0.03920536424558991,
          -0.04171553691934366,
          0.1331313943497925,
          0.7043234683623929,
          -0.036083688225491635,
          0.10052761049722618,
          0.1281294981693666,
          -0.06581784028582222,
          0.15869776652969264,
          0.6824919806898259,
          0.3499300327636592,
          0.5094863234495187,
          -0.12419315982763145,
          -0.024726358145419083,
          0.6944981506614244,
          -0.05202326711906936,
          0.6960391912515714,
          0.15311868698455441,
          0.4773811828414747,
          0.1587767091399877,
          0.120090098548221,
          0.560749992907242,
          0.027548172381720012,
          -0.042085919481463646,
          0.09716370741822787
         ],
         "y": [
          -0.05101253000577026,
          -0.011450356650793268,
          -0.048798044078657385,
          -0.042084610252890904,
          0.19048330548240935,
          0.26119075127958735,
          0.128158392552077,
          -0.07845238122329866,
          -0.06639008716622741,
          1.171619284840637,
          -0.2590783076865188,
          0.2845834790661325,
          0.15863466347769806,
          -0.12794141391974218,
          -0.07558509253438574,
          0.41937791689923143,
          0.09756047388879407,
          0.19659183051035345,
          0.22176080480821692,
          -0.1072968864559396,
          0.19587691491860015,
          4.653678143255554,
          0.20439686306091387,
          0.19996347184914492,
          0.32811675178315386,
          -0.2583677632358764,
          0.09756299347473932,
          0.10486253042070992,
          -0.12328666132457836,
          -0.08978359658344107,
          -0.1029314692182554,
          0.09967848074147095,
          -0.05231185659000745,
          0.5198415876968508,
          -0.15647452292577307,
          0.0506904710005242,
          0.10000477501881032,
          -0.026669550185003933,
          1.6600960218799306,
          0.2151424821457825,
          0.1590540867013608,
          0.1645886561300494,
          -0.0012580683210843154,
          -0.09697622114620275,
          0.09971804821603272,
          0.1604190980381978,
          -0.11370768782597922,
          0.16120459254533787,
          0.1618693515905988,
          -0.05197986604702698,
          -0.04211138697056216,
          0.6819593272389054,
          0.15981214212465236,
          0.1590540867013608,
          -0.0012501399649917566,
          0.9384004384088721,
          0.1332777980567411,
          -0.0010828023842450846,
          -0.10367652786152871,
          -0.00966946085190666,
          0.09775334644088365,
          -0.04213213715162897,
          -0.1033127798823405,
          0.09804610788009174,
          -0.03211992329235481,
          -0.1665186772063421,
          0.16134838061068998,
          -0.1287461204303783,
          0.16867763114406256,
          0.8895869472343598,
          0.121890118389659,
          0.15902516296709343,
          0.13003478229853985,
          0.16619199175419402,
          -0.0096016738583029,
          0.7052439747663003,
          0.039752970580674465,
          0.024453419857532056,
          0.009337676480137511,
          0.046176024064538995,
          -0.0007161460357328854,
          -0.008980767620478735,
          0.07459711513281031,
          0.09761047779788123,
          0.15923363545967634,
          -0.0004414224247501883,
          0.113805545842084,
          1.0274800599046674,
          0.24931392765362573,
          -0.1341681056472227,
          0.21031939999835586,
          -0.041936021485034426,
          -0.024961263032900805,
          0.16918101813445013,
          0.35526679971100644,
          -0.13395222229482107,
          -0.04961087071132577,
          -0.1340942363056161,
          0.6884825320171393,
          -0.11029238508895142,
          1.1518780260796633,
          -0.00128300389455722,
          0.056602292966890816,
          0.18972865663604255,
          0.13342590077092267,
          0.005097434109246984,
          1.4019217543041185,
          -0.13417321402987956,
          0.13459604848393725,
          -0.12490008630902061,
          0.014284928129995898,
          0.16422793855950707,
          0.2660345041140248,
          0.003954670301113295,
          -0.024422221849112125,
          -0.08803076055438802,
          0.4190213635007229,
          -0.1769436270045006,
          0.2865397908467031,
          0.09879545197500714,
          0.01699023209182713,
          0.00986972952342788,
          -0.0827088717705921,
          -0.040619885744626945,
          0.10626456261335898,
          -0.11058454207285233,
          0.2561219837558828,
          0.15977174565429614,
          0.47543024776881565,
          0.15952720690481073,
          -0.00104892353229036,
          -0.1288567117745235,
          -0.10346276106114279,
          0.09800089408125488,
          -0.11382697765949809,
          0.004605201345433857,
          -0.0047839564896131,
          2.488465188246678,
          0.09771308182556872,
          -0.0846982140700696,
          0.017133796393139885,
          2.5267022119913394,
          0.13959623263257295,
          0.1297412650245803,
          0.29715077465697365,
          -0.07276405152654856,
          0.1332866300359016,
          0.26826651751807373,
          0.13497976495225475,
          0.00626347137281728,
          -0.015859162497912097,
          3.3696998499820006,
          0.10141775860789494,
          0.16081846026664798,
          -0.2809742718934902,
          0.8164284605515603,
          0.09871297712147879,
          -0.11298136026729323,
          0.10867557856887589,
          0.030310142506456417,
          0.029716263467631784,
          0.2774946898745283,
          -0.05753945961424859,
          -0.03920536424558991,
          -0.04171553691934366,
          0.1331313943497925,
          0.7043234683623929,
          -0.036083688225491635,
          0.10052761049722618,
          0.1281294981693666,
          -0.06581784028582222,
          0.15869776652969264,
          0.6824919806898259,
          0.3499300327636592,
          0.5094863234495187,
          -0.12419315982763145,
          -0.024726358145419083,
          0.6944981506614244,
          -0.05202326711906936,
          0.6960391912515714,
          0.15311868698455441,
          0.4773811828414747,
          0.1587767091399877,
          0.120090098548221,
          0.560749992907242,
          0.027548172381720012,
          -0.042085919481463646,
          0.09716370741822787
         ],
         "z": [
          1.0204728629380464,
          1.3357986258852734,
          1.020929288976838,
          1.0993535330101785,
          -1.2166918777703364,
          0.5138107526264095,
          -1.1061241167920024,
          0.47293697810922974,
          0.9024125964696551,
          -1.4699712566890526,
          1.5396924255262645,
          0.5039368885584028,
          -0.869659799461872,
          0.39055570113470034,
          0.823834875270628,
          -1.3436180337303958,
          -1.3426075172629586,
          -0.5935393350230359,
          -0.7464864964476418,
          0.5870909065951769,
          -0.5937577094594997,
          1.80735319107912,
          1.4360601953488117,
          -1.6293443295876997,
          0.39271192480919453,
          1.53968061352803,
          -1.342643208270809,
          -1.34156261954551,
          0.4686619873877634,
          0.5120491383513303,
          0.626468221106277,
          -1.3424290763750955,
          1.020514084164054,
          1.5707734652567595,
          2.328032283787496,
          1.8089595552898587,
          -1.342163095267278,
          1.2176187880976337,
          -1.129041731822775,
          -1.5505538937236154,
          -0.8696169619529388,
          -0.830173253752404,
          1.414651206593698,
          0.4712287694061226,
          -1.342649736253434,
          -0.8695020051639384,
          0.547541567480968,
          -0.8695793683767157,
          -0.8690057723473278,
          1.0205335868449872,
          1.0993536141208549,
          -1.080083927206521,
          -0.8695530962092517,
          -0.8696169619529388,
          1.4146754419800043,
          -1.2734818253948386,
          -1.0667034104004256,
          1.4146837566903854,
          0.6263474407042414,
          1.336201230327674,
          -1.3425224878659665,
          1.09934485537535,
          0.6263705982619799,
          -1.3425687476554389,
          1.1781433601905162,
          2.2492363742247568,
          -0.869424786059275,
          0.4293542395415688,
          -0.86880806102045,
          -0.9430531481789752,
          -1.3383060983139552,
          -0.8695948203363739,
          -1.1057161024197664,
          -0.8300314513804398,
          1.3360245929727081,
          2.514507108317194,
          1.7299505267085704,
          1.573024528802237,
          1.4935246191744778,
          1.4188962680932706,
          1.414746602640092,
          0.7159269409025214,
          -1.5394239003386476,
          -1.3426049651515433,
          -0.8695257612607482,
          1.4148227144227128,
          -1.2241987591810117,
          -0.6153258504258926,
          1.1447379346549913,
          0.3898930940440961,
          -0.4754564272937885,
          1.099353082912612,
          1.2178921703375514,
          -0.7907840318707441,
          -1.086991027544714,
          0.3899321373052427,
          1.0210861291658717,
          0.3899034562039118,
          -1.0792766618833431,
          0.4700781899334386,
          1.5985951503308211,
          1.4146567956278373,
          1.0422008838240893,
          -0.6331086606623065,
          -1.0666928320245357,
          1.3379527569167455,
          1.88487963400989,
          0.3898798771167971,
          -1.066475836554147,
          0.39090817413618767,
          1.5329248957436452,
          -0.8301909069869335,
          -0.04193685417671923,
          1.4153543769035049,
          1.2177663586202956,
          0.5892732332519157,
          -1.574713610785218,
          2.170367826766966,
          -1.3335023275079139,
          -1.342373471943688,
          1.0346019738825165,
          1.4168008450555527,
          0.7840398088874994,
          1.099457160751965,
          -1.341566866510387,
          0.5481465315089253,
          -0.12072548334746017,
          -0.8694691686337418,
          -2.6567414681801527,
          -0.8694860710911566,
          1.4146690984247952,
          0.4292944729723197,
          0.6263826970905576,
          -1.342587194331275,
          0.5475178899652297,
          1.4159346331497553,
          1.3755399427322832,
          1.8128810505481254,
          -1.3425466253009144,
          0.7449305067998718,
          1.4167788411122635,
          -2.2085575156753445,
          -1.0653221207390986,
          -1.1059353607623945,
          0.19458940121050455,
          0.8628622636105528,
          -1.0666902047524565,
          -1.3059331389299422,
          -1.0665211068931395,
          1.3396044184495997,
          1.2965757722752655,
          1.7718174969344136,
          -1.3420814808714008,
          -0.8692032804610978,
          1.343402766827278,
          -1.621434791184242,
          1.1156417644017598,
          0.5476774253804464,
          1.4321157809806273,
          1.6513495614502496,
          1.6511751683248714,
          0.03711783049213138,
          0.9811082470524641,
          1.099878077118589,
          1.0993742176185668,
          -1.0667065617241023,
          -1.0782219463323093,
          0.39835803679268605,
          1.6663428321577147,
          -1.1061052833646856,
          0.9024571764531363,
          -0.8696401420084103,
          -1.0800085316461312,
          -1.3213341773523752,
          -2.779467347887373,
          0.4686709084277277,
          1.0644552790064734,
          -1.0803975842032731,
          1.020529930328915,
          -1.080402252245344,
          -1.1040218925284788,
          -1.2463987083989847,
          -0.8696411880050916,
          -0.6550470614505164,
          -2.3767947516571533,
          1.4176299454465588,
          1.0993535369760272,
          -1.342639793373493
         ]
        },
        {
         "customdata": [
          [
           10
          ],
          [
           60
          ]
         ],
         "hovertemplate": "<b>%{hovertext}</b><br><br>Class=%{marker.color}<br>PC_1=%{y}<br>PC_3=%{z}<br>Algorithm=%{customdata[0]}<extra></extra>",
         "hovertext": [
          "TurtleCoin",
          "BitTorrent"
         ],
         "legendgroup": "2",
         "marker": {
          "color": [
           2,
           2
          ],
          "coloraxis": "coloraxis",
          "symbol": "square"
         },
         "mode": "markers",
         "name": "2",
         "scene": "scene",
         "showlegend": true,
         "type": "scatter3d",
         "x": [
          10.93885447373945,
          25.459357630637214
         ],
         "y": [
          10.93885447373945,
          25.459357630637214
         ],
         "z": [
          3.5868901435094767,
          -0.7858800338600105
         ]
        }
       ],
       "layout": {
        "coloraxis": {
         "colorbar": {
          "title": {
           "text": "Class"
          }
         },
         "colorscale": [
          [
           0,
           "#0d0887"
          ],
          [
           0.1111111111111111,
           "#46039f"
          ],
          [
           0.2222222222222222,
           "#7201a8"
          ],
          [
           0.3333333333333333,
           "#9c179e"
          ],
          [
           0.4444444444444444,
           "#bd3786"
          ],
          [
           0.5555555555555556,
           "#d8576b"
          ],
          [
           0.6666666666666666,
           "#ed7953"
          ],
          [
           0.7777777777777778,
           "#fb9f3a"
          ],
          [
           0.8888888888888888,
           "#fdca26"
          ],
          [
           1,
           "#f0f921"
          ]
         ]
        },
        "legend": {
         "title": {
          "text": "Class"
         },
         "tracegroupgap": 0,
         "x": 0,
         "y": 1
        },
        "margin": {
         "t": 60
        },
        "scene": {
         "domain": {
          "x": [
           0,
           1
          ],
          "y": [
           0,
           1
          ]
         },
         "xaxis": {
          "title": {
           "text": "PC_1"
          }
         },
         "yaxis": {
          "title": {
           "text": "PC_1"
          }
         },
         "zaxis": {
          "title": {
           "text": "PC_3"
          }
         }
        },
        "template": {
         "data": {
          "bar": [
           {
            "error_x": {
             "color": "#2a3f5f"
            },
            "error_y": {
             "color": "#2a3f5f"
            },
            "marker": {
             "line": {
              "color": "#E5ECF6",
              "width": 0.5
             },
             "pattern": {
              "fillmode": "overlay",
              "size": 10,
              "solidity": 0.2
             }
            },
            "type": "bar"
           }
          ],
          "barpolar": [
           {
            "marker": {
             "line": {
              "color": "#E5ECF6",
              "width": 0.5
             },
             "pattern": {
              "fillmode": "overlay",
              "size": 10,
              "solidity": 0.2
             }
            },
            "type": "barpolar"
           }
          ],
          "carpet": [
           {
            "aaxis": {
             "endlinecolor": "#2a3f5f",
             "gridcolor": "white",
             "linecolor": "white",
             "minorgridcolor": "white",
             "startlinecolor": "#2a3f5f"
            },
            "baxis": {
             "endlinecolor": "#2a3f5f",
             "gridcolor": "white",
             "linecolor": "white",
             "minorgridcolor": "white",
             "startlinecolor": "#2a3f5f"
            },
            "type": "carpet"
           }
          ],
          "choropleth": [
           {
            "colorbar": {
             "outlinewidth": 0,
             "ticks": ""
            },
            "type": "choropleth"
           }
          ],
          "contour": [
           {
            "colorbar": {
             "outlinewidth": 0,
             "ticks": ""
            },
            "colorscale": [
             [
              0,
              "#0d0887"
             ],
             [
              0.1111111111111111,
              "#46039f"
             ],
             [
              0.2222222222222222,
              "#7201a8"
             ],
             [
              0.3333333333333333,
              "#9c179e"
             ],
             [
              0.4444444444444444,
              "#bd3786"
             ],
             [
              0.5555555555555556,
              "#d8576b"
             ],
             [
              0.6666666666666666,
              "#ed7953"
             ],
             [
              0.7777777777777778,
              "#fb9f3a"
             ],
             [
              0.8888888888888888,
              "#fdca26"
             ],
             [
              1,
              "#f0f921"
             ]
            ],
            "type": "contour"
           }
          ],
          "contourcarpet": [
           {
            "colorbar": {
             "outlinewidth": 0,
             "ticks": ""
            },
            "type": "contourcarpet"
           }
          ],
          "heatmap": [
           {
            "colorbar": {
             "outlinewidth": 0,
             "ticks": ""
            },
            "colorscale": [
             [
              0,
              "#0d0887"
             ],
             [
              0.1111111111111111,
              "#46039f"
             ],
             [
              0.2222222222222222,
              "#7201a8"
             ],
             [
              0.3333333333333333,
              "#9c179e"
             ],
             [
              0.4444444444444444,
              "#bd3786"
             ],
             [
              0.5555555555555556,
              "#d8576b"
             ],
             [
              0.6666666666666666,
              "#ed7953"
             ],
             [
              0.7777777777777778,
              "#fb9f3a"
             ],
             [
              0.8888888888888888,
              "#fdca26"
             ],
             [
              1,
              "#f0f921"
             ]
            ],
            "type": "heatmap"
           }
          ],
          "heatmapgl": [
           {
            "colorbar": {
             "outlinewidth": 0,
             "ticks": ""
            },
            "colorscale": [
             [
              0,
              "#0d0887"
             ],
             [
              0.1111111111111111,
              "#46039f"
             ],
             [
              0.2222222222222222,
              "#7201a8"
             ],
             [
              0.3333333333333333,
              "#9c179e"
             ],
             [
              0.4444444444444444,
              "#bd3786"
             ],
             [
              0.5555555555555556,
              "#d8576b"
             ],
             [
              0.6666666666666666,
              "#ed7953"
             ],
             [
              0.7777777777777778,
              "#fb9f3a"
             ],
             [
              0.8888888888888888,
              "#fdca26"
             ],
             [
              1,
              "#f0f921"
             ]
            ],
            "type": "heatmapgl"
           }
          ],
          "histogram": [
           {
            "marker": {
             "pattern": {
              "fillmode": "overlay",
              "size": 10,
              "solidity": 0.2
             }
            },
            "type": "histogram"
           }
          ],
          "histogram2d": [
           {
            "colorbar": {
             "outlinewidth": 0,
             "ticks": ""
            },
            "colorscale": [
             [
              0,
              "#0d0887"
             ],
             [
              0.1111111111111111,
              "#46039f"
             ],
             [
              0.2222222222222222,
              "#7201a8"
             ],
             [
              0.3333333333333333,
              "#9c179e"
             ],
             [
              0.4444444444444444,
              "#bd3786"
             ],
             [
              0.5555555555555556,
              "#d8576b"
             ],
             [
              0.6666666666666666,
              "#ed7953"
             ],
             [
              0.7777777777777778,
              "#fb9f3a"
             ],
             [
              0.8888888888888888,
              "#fdca26"
             ],
             [
              1,
              "#f0f921"
             ]
            ],
            "type": "histogram2d"
           }
          ],
          "histogram2dcontour": [
           {
            "colorbar": {
             "outlinewidth": 0,
             "ticks": ""
            },
            "colorscale": [
             [
              0,
              "#0d0887"
             ],
             [
              0.1111111111111111,
              "#46039f"
             ],
             [
              0.2222222222222222,
              "#7201a8"
             ],
             [
              0.3333333333333333,
              "#9c179e"
             ],
             [
              0.4444444444444444,
              "#bd3786"
             ],
             [
              0.5555555555555556,
              "#d8576b"
             ],
             [
              0.6666666666666666,
              "#ed7953"
             ],
             [
              0.7777777777777778,
              "#fb9f3a"
             ],
             [
              0.8888888888888888,
              "#fdca26"
             ],
             [
              1,
              "#f0f921"
             ]
            ],
            "type": "histogram2dcontour"
           }
          ],
          "mesh3d": [
           {
            "colorbar": {
             "outlinewidth": 0,
             "ticks": ""
            },
            "type": "mesh3d"
           }
          ],
          "parcoords": [
           {
            "line": {
             "colorbar": {
              "outlinewidth": 0,
              "ticks": ""
             }
            },
            "type": "parcoords"
           }
          ],
          "pie": [
           {
            "automargin": true,
            "type": "pie"
           }
          ],
          "scatter": [
           {
            "marker": {
             "colorbar": {
              "outlinewidth": 0,
              "ticks": ""
             }
            },
            "type": "scatter"
           }
          ],
          "scatter3d": [
           {
            "line": {
             "colorbar": {
              "outlinewidth": 0,
              "ticks": ""
             }
            },
            "marker": {
             "colorbar": {
              "outlinewidth": 0,
              "ticks": ""
             }
            },
            "type": "scatter3d"
           }
          ],
          "scattercarpet": [
           {
            "marker": {
             "colorbar": {
              "outlinewidth": 0,
              "ticks": ""
             }
            },
            "type": "scattercarpet"
           }
          ],
          "scattergeo": [
           {
            "marker": {
             "colorbar": {
              "outlinewidth": 0,
              "ticks": ""
             }
            },
            "type": "scattergeo"
           }
          ],
          "scattergl": [
           {
            "marker": {
             "colorbar": {
              "outlinewidth": 0,
              "ticks": ""
             }
            },
            "type": "scattergl"
           }
          ],
          "scattermapbox": [
           {
            "marker": {
             "colorbar": {
              "outlinewidth": 0,
              "ticks": ""
             }
            },
            "type": "scattermapbox"
           }
          ],
          "scatterpolar": [
           {
            "marker": {
             "colorbar": {
              "outlinewidth": 0,
              "ticks": ""
             }
            },
            "type": "scatterpolar"
           }
          ],
          "scatterpolargl": [
           {
            "marker": {
             "colorbar": {
              "outlinewidth": 0,
              "ticks": ""
             }
            },
            "type": "scatterpolargl"
           }
          ],
          "scatterternary": [
           {
            "marker": {
             "colorbar": {
              "outlinewidth": 0,
              "ticks": ""
             }
            },
            "type": "scatterternary"
           }
          ],
          "surface": [
           {
            "colorbar": {
             "outlinewidth": 0,
             "ticks": ""
            },
            "colorscale": [
             [
              0,
              "#0d0887"
             ],
             [
              0.1111111111111111,
              "#46039f"
             ],
             [
              0.2222222222222222,
              "#7201a8"
             ],
             [
              0.3333333333333333,
              "#9c179e"
             ],
             [
              0.4444444444444444,
              "#bd3786"
             ],
             [
              0.5555555555555556,
              "#d8576b"
             ],
             [
              0.6666666666666666,
              "#ed7953"
             ],
             [
              0.7777777777777778,
              "#fb9f3a"
             ],
             [
              0.8888888888888888,
              "#fdca26"
             ],
             [
              1,
              "#f0f921"
             ]
            ],
            "type": "surface"
           }
          ],
          "table": [
           {
            "cells": {
             "fill": {
              "color": "#EBF0F8"
             },
             "line": {
              "color": "white"
             }
            },
            "header": {
             "fill": {
              "color": "#C8D4E3"
             },
             "line": {
              "color": "white"
             }
            },
            "type": "table"
           }
          ]
         },
         "layout": {
          "annotationdefaults": {
           "arrowcolor": "#2a3f5f",
           "arrowhead": 0,
           "arrowwidth": 1
          },
          "autotypenumbers": "strict",
          "coloraxis": {
           "colorbar": {
            "outlinewidth": 0,
            "ticks": ""
           }
          },
          "colorscale": {
           "diverging": [
            [
             0,
             "#8e0152"
            ],
            [
             0.1,
             "#c51b7d"
            ],
            [
             0.2,
             "#de77ae"
            ],
            [
             0.3,
             "#f1b6da"
            ],
            [
             0.4,
             "#fde0ef"
            ],
            [
             0.5,
             "#f7f7f7"
            ],
            [
             0.6,
             "#e6f5d0"
            ],
            [
             0.7,
             "#b8e186"
            ],
            [
             0.8,
             "#7fbc41"
            ],
            [
             0.9,
             "#4d9221"
            ],
            [
             1,
             "#276419"
            ]
           ],
           "sequential": [
            [
             0,
             "#0d0887"
            ],
            [
             0.1111111111111111,
             "#46039f"
            ],
            [
             0.2222222222222222,
             "#7201a8"
            ],
            [
             0.3333333333333333,
             "#9c179e"
            ],
            [
             0.4444444444444444,
             "#bd3786"
            ],
            [
             0.5555555555555556,
             "#d8576b"
            ],
            [
             0.6666666666666666,
             "#ed7953"
            ],
            [
             0.7777777777777778,
             "#fb9f3a"
            ],
            [
             0.8888888888888888,
             "#fdca26"
            ],
            [
             1,
             "#f0f921"
            ]
           ],
           "sequentialminus": [
            [
             0,
             "#0d0887"
            ],
            [
             0.1111111111111111,
             "#46039f"
            ],
            [
             0.2222222222222222,
             "#7201a8"
            ],
            [
             0.3333333333333333,
             "#9c179e"
            ],
            [
             0.4444444444444444,
             "#bd3786"
            ],
            [
             0.5555555555555556,
             "#d8576b"
            ],
            [
             0.6666666666666666,
             "#ed7953"
            ],
            [
             0.7777777777777778,
             "#fb9f3a"
            ],
            [
             0.8888888888888888,
             "#fdca26"
            ],
            [
             1,
             "#f0f921"
            ]
           ]
          },
          "colorway": [
           "#636efa",
           "#EF553B",
           "#00cc96",
           "#ab63fa",
           "#FFA15A",
           "#19d3f3",
           "#FF6692",
           "#B6E880",
           "#FF97FF",
           "#FECB52"
          ],
          "font": {
           "color": "#2a3f5f"
          },
          "geo": {
           "bgcolor": "white",
           "lakecolor": "white",
           "landcolor": "#E5ECF6",
           "showlakes": true,
           "showland": true,
           "subunitcolor": "white"
          },
          "hoverlabel": {
           "align": "left"
          },
          "hovermode": "closest",
          "mapbox": {
           "style": "light"
          },
          "paper_bgcolor": "white",
          "plot_bgcolor": "#E5ECF6",
          "polar": {
           "angularaxis": {
            "gridcolor": "white",
            "linecolor": "white",
            "ticks": ""
           },
           "bgcolor": "#E5ECF6",
           "radialaxis": {
            "gridcolor": "white",
            "linecolor": "white",
            "ticks": ""
           }
          },
          "scene": {
           "xaxis": {
            "backgroundcolor": "#E5ECF6",
            "gridcolor": "white",
            "gridwidth": 2,
            "linecolor": "white",
            "showbackground": true,
            "ticks": "",
            "zerolinecolor": "white"
           },
           "yaxis": {
            "backgroundcolor": "#E5ECF6",
            "gridcolor": "white",
            "gridwidth": 2,
            "linecolor": "white",
            "showbackground": true,
            "ticks": "",
            "zerolinecolor": "white"
           },
           "zaxis": {
            "backgroundcolor": "#E5ECF6",
            "gridcolor": "white",
            "gridwidth": 2,
            "linecolor": "white",
            "showbackground": true,
            "ticks": "",
            "zerolinecolor": "white"
           }
          },
          "shapedefaults": {
           "line": {
            "color": "#2a3f5f"
           }
          },
          "ternary": {
           "aaxis": {
            "gridcolor": "white",
            "linecolor": "white",
            "ticks": ""
           },
           "baxis": {
            "gridcolor": "white",
            "linecolor": "white",
            "ticks": ""
           },
           "bgcolor": "#E5ECF6",
           "caxis": {
            "gridcolor": "white",
            "linecolor": "white",
            "ticks": ""
           }
          },
          "title": {
           "x": 0.05
          },
          "xaxis": {
           "automargin": true,
           "gridcolor": "white",
           "linecolor": "white",
           "ticks": "",
           "title": {
            "standoff": 15
           },
           "zerolinecolor": "white",
           "zerolinewidth": 2
          },
          "yaxis": {
           "automargin": true,
           "gridcolor": "white",
           "linecolor": "white",
           "ticks": "",
           "title": {
            "standoff": 15
           },
           "zerolinecolor": "white",
           "zerolinewidth": 2
          }
         }
        },
        "width": 800
       }
      },
      "text/html": [
       "<div>                            <div id=\"36ceb961-b4d7-4b20-8d26-2f61cd71e719\" class=\"plotly-graph-div\" style=\"height:525px; width:800px;\"></div>            <script type=\"text/javascript\">                require([\"plotly\"], function(Plotly) {                    window.PLOTLYENV=window.PLOTLYENV || {};                                    if (document.getElementById(\"36ceb961-b4d7-4b20-8d26-2f61cd71e719\")) {                    Plotly.newPlot(                        \"36ceb961-b4d7-4b20-8d26-2f61cd71e719\",                        [{\"customdata\":[[53],[53],[67],[47],[53],[65],[47],[53],[69],[65],[53],[53],[53],[53],[47],[53],[53],[53],[46],[53],[53],[53],[53],[53],[65],[47],[53],[53],[53],[53],[53],[53],[53],[53],[53],[53],[65],[53],[65],[47],[53],[53],[53],[51],[53],[53],[47],[67],[53],[47],[53],[67],[36],[53],[53],[53],[53],[53],[53],[65],[65],[47],[47],[65],[47],[47],[47],[65],[53],[53],[53],[53],[53],[65],[47],[67],[53],[53],[47],[53],[53],[67],[53],[53],[53],[67],[53],[59],[65],[45],[53],[53],[53],[53],[47],[53],[65],[51],[65],[47],[44],[65],[65],[53],[53],[67],[47],[69],[65],[47],[53],[47],[65],[53],[47],[47],[35],[53],[65],[53],[66],[65],[47],[53],[65],[65],[47],[47],[35],[65],[53],[53],[53],[53],[67],[65],[65],[18],[65],[53],[47],[47],[65],[53],[53],[53],[47],[53],[53],[49],[53],[65],[67],[68],[49],[65],[53],[65],[67],[65],[53],[53],[65],[65],[47],[53],[65],[53],[53],[65],[53],[53],[53],[45],[53],[53],[47],[65],[53],[65],[53],[53],[53],[67],[65],[53],[53],[65],[65],[53],[65],[65],[53],[53],[53],[65],[53],[47],[53],[69],[53],[35],[65],[35],[56],[53],[67],[53],[65],[65],[53],[67],[61],[53],[65],[56],[47],[65],[64],[53],[53],[53],[53],[53],[53],[53],[53],[65],[36],[65],[53],[53],[47],[35],[38],[53],[46],[53],[53],[65],[65],[35],[67],[53],[65],[53],[53],[53],[65],[65],[53],[53],[53],[65],[65],[47],[53],[57],[53],[53],[67],[48],[53],[53],[65],[65],[71],[63],[53],[35],[53],[53],[53],[65],[46],[70],[53],[71],[62],[53],[49],[53],[69],[70],[65],[70],[46],[31],[53],[53],[71],[65],[65],[47],[65],[65],[53],[50],[70],[71],[47],[71],[65],[46],[53],[53],[46],[53],[45],[65],[53],[71],[49],[65],[47],[67],[47],[65],[53],[53],[65],[53],[53],[53],[65],[53],[53],[47],[65],[47],[53],[53],[53],[65],[53],[53],[53],[65],[47],[53],[36],[67],[53]],\"hovertemplate\":\"<b>%{hovertext}</b><br><br>Class=%{marker.color}<br>PC_1=%{y}<br>PC_3=%{z}<br>Algorithm=%{customdata[0]}<extra></extra>\",\"hovertext\":[\"42 Coin\",\"404Coin\",\"EliteCoin\",\"Bitcoin\",\"Litecoin\",\"Dash\",\"BitcoinDark\",\"ProsperCoin\",\"KoboCoin\",\"Spreadcoin\",\"Argentum\",\"Aurora Coin\",\"BlueCoin\",\"MoonCoin\",\"ZetaCoin\",\"SexCoin\",\"Quatloo\",\"EnergyCoin\",\"QuarkCoin\",\"Digitalcoin \",\"BitBar\",\"Catcoin\",\"CryptoBullion\",\"CannaCoin\",\"CryptCoin\",\"DevCoin\",\"EarthCoin\",\"E-Gulden\",\"Einsteinium\",\"Emerald\",\"FlutterCoin\",\"Franko\",\"GrandCoin\",\"GlobalCoin\",\"GoldCoin\",\"HoboNickels\",\"HyperStake\",\"Infinite Coin\",\"IOCoin\",\"IXcoin\",\"KrugerCoin\",\"LuckyCoin\",\"Litebar \",\"MaxCoin\",\"MegaCoin\",\"MinCoin\",\"MazaCoin\",\"NavCoin\",\"NobleCoin\",\"Namecoin\",\"NyanCoin\",\"OpalCoin\",\"Orbitcoin\",\"PotCoin\",\"PhoenixCoin\",\"Reddcoin\",\"RonPaulCoin\",\"StableCoin\",\"SmartCoin\",\"SuperCoin\",\"SyncCoin\",\"SysCoin\",\"TigerCoin\",\"TorCoin\",\"TerraCoin\",\"UnbreakableCoin\",\"Unobtanium\",\"UroCoin\",\"UnitaryStatus Dollar\",\"UltraCoin\",\"ViaCoin\",\"VeriCoin\",\"WorldCoin\",\"X11 Coin\",\"JouleCoin\",\"StealthCoin\",\"ZCC Coin\",\"MonaCoin\",\"Neutron\",\"Gulden\",\"PesetaCoin\",\"Kore\",\"Wild Beast Coin\",\"Flo\",\"8BIT Coin\",\"Sativa Coin\",\"ArtByte\",\"Folding Coin\",\"Ucoin\",\"CypherPunkCoin\",\"OmniCron\",\"Vtorrent\",\"GreenCoin\",\"MasterCoin\",\"SoonCoin\",\"1Credit\",\"IslaCoin\",\"Nexus\",\"MarsCoin \",\"Anarchists Prime\",\"Droidz\",\"BowsCoin\",\"Squall Coin\",\"Song Coin\",\"BitZeny\",\"Paycon\",\"Emercoin\",\"EverGreenCoin\",\"MindCoin\",\"I0coin\",\"Revolution VR\",\"EDRCoin\",\"Hitcoin\",\"Gamecredits\",\"DubaiCoin\",\"CarpeDiemCoin\",\"PWR Coin\",\"BillaryCoin\",\"Adzcoin\",\"YoCoin\",\"SibCoin\",\"EuropeCoin\",\"SwingCoin\",\"Francs\",\"BolivarCoin\",\"Ratecoin\",\"Revenu\",\"Clockcoin\",\"VIP Tokens\",\"BitSend\",\"Omni\",\"PutinCoin\",\"iBankCoin\",\"Frankywillcoin\",\"MudraCoin\",\"PizzaCoin\",\"Lutetium Coin\",\"Komodo\",\"GoldBlocks\",\"CarterCoin\",\"BitTokens\",\"ZayedCoin\",\"MustangCoin\",\"ZoneCoin\",\"RootCoin\",\"DopeCoin\",\"DollarCoin\",\"Swiscoin\",\"Shilling\",\"BuzzCoin\",\"PesoBit\",\"Halloween Coin\",\"RoyalCoin\",\"GanjaCoin V2\",\"LanaCoin\",\"InsaneCoin\",\"KiloCoin\",\"ArtexCoin\",\"EmberCoin\",\"XenixCoin\",\"PLNCoin\",\"AquariusCoin\",\"Kurrent\",\"Eternity\",\"Eurocoin\",\"BitcoinFast\",\"Stakenet\",\"BitConnect Coin\",\"MoneyCoin\",\"Enigma\",\"Russiacoin\",\"GameUnits\",\"GAKHcoin\",\"LiteCreed\",\"OsmiumCoin\",\"Klingon Empire Darsek\",\"Internet of People\",\"KushCoin\",\"Printerium\",\"PacCoin\",\"Impeach\",\"FirstCoin\",\"BeaverCoin\",\"FindCoin\",\"VaultCoin\",\"OpenChat\",\"Canada eCoin\",\"VirtacoinPlus\",\"Impact\",\"EB3coin\",\"HappyCoin\",\"Condensate\",\"Independent Money System\",\"ArgusCoin\",\"LomoCoin\",\"GoldReserve\",\"BenjiRolls\",\"ILCoin\",\"Degas Coin\",\"HTML5 Coin\",\"EquiTrader\",\"Denarius\",\"DigitalPrice\",\"Virta Unique Coin\",\"Bitcoin Planet\",\"Unify\",\"BritCoin\",\"SocialCoin\",\"ArcticCoin\",\"DAS\",\"Linda\",\"DeepOnion\",\"Bitcore\",\"gCn Coin\",\"Onix\",\"Cream\",\"Bitcoin Cash\",\"Monoeci\",\"Vechain\",\"Sojourn Coin\",\"NewYorkCoin\",\"FrazCoin\",\"Kronecoin\",\"AdCoin\",\"Linx\",\"CoinonatX\",\"Ethereum Dark\",\"Regalcoin\",\"TrezarCoin\",\"Elements\",\"TerraNovaCoin\",\"WomenCoin\",\"Theresa May Coin\",\"NamoCoin\",\"LUXCoin\",\"Xios\",\"Bitcloud 2.0\",\"eBoost\",\"BlackholeCoin\",\"Pura\",\"Magnet\",\"Electra\",\"Bitcoin Diamond\",\"Cash & Back Coin\",\"AC3\",\"GermanCoin\",\"LiteCoin Ultra\",\"PopularCoin\",\"PhantomX\",\"Sucre\",\"IrishCoin\",\"Trollcoin\",\"Litecoin Plus\",\"Monkey Project\",\"Pioneer Coin\",\"UnitedBitcoin\",\"My Big Coin\",\"MUNcoin\",\"Unified Society USDEX\",\"ShareChain\",\"Tokyo Coin\",\"LitecoinCash\",\"BitFlip\",\"LottoCoin\",\"Crypto Improvement Fund\",\"Pushi\",\"Ellerium\",\"Ontology\",\"Poseidon\",\"Bitspace\",\"Briacoin\",\"Ignition\",\"Abjcoin\",\"FuturoCoin\",\"Carebit\",\"Proton\",\"iDealCash\",\"Bitcoin Incognito\",\"KEYCO\",\"Swisscoin\",\"TheVig\",\"EmaratCoin\",\"Dekado\",\"Motion\",\"Axe\",\"Trivechain\",\"Giant\",\"Absolute Coin\",\"HexCoin\",\"TPCash\",\"Urals Coin\",\"ARENON\",\"EUNO\",\"Project Pai\",\"PAXEX\",\"Azart\",\"ThunderStake\",\"Kcash\",\"Xchange\",\"Bettex coin\",\"Bitcoin SV\",\"BitMoney\",\"Junson Ming Chan Coin\",\"HerbCoin\",\"Block-Logic\",\"Oduwa\",\"Galilel\",\"Credit\",\"SLICE\",\"Dash Platinum\",\"Nasdacoin\",\"Beetle Coin\",\"Titan Coin\",\"Award\",\"BLAST\",\"Bitcoin Rhodium\",\"GlobalToken\",\"Insane Coin\",\"LiteDoge\",\"SolarCoin\",\"TruckCoin\",\"OrangeCoin\",\"BitstarCoin\",\"HyperCoin\",\"PinkCoin\",\"Crypto Escudo\",\"AudioCoin\",\"IncaKoin\",\"Piggy Coin\",\"Crown Coin\",\"Genstake\",\"SmileyCoin\",\"XiaoMiCoin\",\"CapriCoin\",\" ClubCoin\",\"Bata\",\"Pakcoin\",\"Creditbit \",\"OKCash\",\"WhiteCoin\",\"FriendshipCoin\",\"Triangles Coin\",\"Gapcoin\"],\"legendgroup\":\"0\",\"marker\":{\"color\":[0,0,0,0,0,0,0,0,0,0,0,0,0,0,0,0,0,0,0,0,0,0,0,0,0,0,0,0,0,0,0,0,0,0,0,0,0,0,0,0,0,0,0,0,0,0,0,0,0,0,0,0,0,0,0,0,0,0,0,0,0,0,0,0,0,0,0,0,0,0,0,0,0,0,0,0,0,0,0,0,0,0,0,0,0,0,0,0,0,0,0,0,0,0,0,0,0,0,0,0,0,0,0,0,0,0,0,0,0,0,0,0,0,0,0,0,0,0,0,0,0,0,0,0,0,0,0,0,0,0,0,0,0,0,0,0,0,0,0,0,0,0,0,0,0,0,0,0,0,0,0,0,0,0,0,0,0,0,0,0,0,0,0,0,0,0,0,0,0,0,0,0,0,0,0,0,0,0,0,0,0,0,0,0,0,0,0,0,0,0,0,0,0,0,0,0,0,0,0,0,0,0,0,0,0,0,0,0,0,0,0,0,0,0,0,0,0,0,0,0,0,0,0,0,0,0,0,0,0,0,0,0,0,0,0,0,0,0,0,0,0,0,0,0,0,0,0,0,0,0,0,0,0,0,0,0,0,0,0,0,0,0,0,0,0,0,0,0,0,0,0,0,0,0,0,0,0,0,0,0,0,0,0,0,0,0,0,0,0,0,0,0,0,0,0,0,0,0,0,0,0,0,0,0,0,0,0,0,0,0,0,0,0,0,0,0,0,0,0,0,0,0,0,0,0,0,0,0,0,0,0,0,0,0,0,0,0,0,0,0,0,0,0],\"coloraxis\":\"coloraxis\",\"symbol\":\"circle\"},\"mode\":\"markers\",\"name\":\"0\",\"scene\":\"scene\",\"showlegend\":true,\"type\":\"scatter3d\",\"x\":[-0.412665425453564,-0.3913055807210573,3.1431523167574085,-0.1903013471736287,-0.21967866006234635,-0.4737028527709247,-0.3817243830271892,-0.22118388243616527,-0.49059402039534533,-0.282509672350788,-0.2206506116454243,-0.41222103076938466,-0.4030499948813655,3.6708182296812644,-0.1864888187023468,-0.2169988051379918,-0.2203590697589085,-0.4108032020204852,-0.17923772120323656,-0.22048974050331038,-0.41265971408708146,-0.2211619156686529,-0.4126395660754207,-0.22127966029038137,-0.2826230500472349,0.3061666301703875,0.10509898951177443,-0.22095474643901597,-0.21513323566498913,-0.2208646406307569,-0.08704121317342196,-0.221352849904936,-0.19370557601678562,-0.2197807163217911,-0.22012134184536636,-0.4100982671179463,0.06115442911769832,2.067779081128014,-0.47357241801239897,-0.19025349617542026,-0.21650191841890862,-0.22098885463840945,-0.22145363541813937,-0.4004891412982643,-0.2204809821104076,-0.22129483750537432,-0.3330243100838955,-0.4832953110042857,-0.03363692402975771,-0.19034963097105953,-0.2130032060589657,-0.4840660106433874,-0.32559927095264135,-0.40503860003602593,-0.4105529038485483,0.03094683281449687,-0.22125446184031541,-0.2185835479789311,-0.22057776456597553,0.036521866314539554,-0.47406248565657283,-0.1732599547025813,-0.1896501517723263,-0.47393948435186245,-0.1900127009395686,-0.18994011705182726,-0.19077991271797906,-0.28286284827194347,-0.3798178087883039,-0.41089163133140016,-0.22090057140120417,-0.15727234524316974,-0.2169837419049747,-0.4739015823495336,-0.18973623576666132,-0.4837945769293488,-0.4002897885115565,-0.2193865698477865,-0.3806856194986756,-0.1981748088217164,-0.21771654834773374,-0.48414312243976404,-0.22145463977080687,-0.21755803101310348,-0.41264321468933995,-0.4840866079193147,-0.19935490717397322,-0.23115992918260736,0.035997969387677645,-0.18045631771255755,-0.22129641571485525,-0.4122870961844824,-0.0503568873652628,-0.22146837728425334,-0.19038403851559724,0.7110480538271581,-0.47403960776485965,-0.5918600699058446,-0.28205903606724564,-0.1900174055056408,-0.36643666779190803,-0.28242820086995507,-0.09169474016270075,-0.21886020686112415,-0.21780575754504852,-0.48343986342756456,-0.37117908499433744,-0.49405689883382364,-0.28247882351606446,-0.19025488641306046,-0.2161776426097953,-0.3816883555711791,-0.03854660498626836,-0.2195758079176264,-0.38178283899917764,0.3573988958417142,-0.16819576847553847,-0.41210353418013906,-0.2813470531213924,-0.21976795633720728,-0.287493038249518,-0.47001272530866406,-0.38149519946136384,-0.2211818749963988,-0.2824210947531462,-0.4712661711952567,-0.3796912059240268,-0.3763932290129971,-0.3183947401461746,-0.47228453866049025,-0.22146845384785102,-0.38008905333791176,-0.4121475610771156,-0.41013857510386625,0.027624596705127718,-0.28260686149889647,0.05235595601191866,-0.8033537297563478,-0.4733201860576736,-0.41109997443219787,-0.3817450124743241,-0.19059231722390466,-0.47402215343485643,-0.41241349506380137,-0.4126360715125226,-0.21768865156459077,-0.1905398494497412,-0.49863144501736373,-0.22101168527405474,0.10678149716198648,-0.4121581467269907,-0.45485301134127654,0.02558486881229018,-0.4868849339647005,-0.29974176429392907,-0.47348085835124504,-0.11715155076958189,-0.26534399206605935,0.919410813618018,-0.4739651457614699,-0.4120161720901329,-0.4122026381896905,-0.27964147180281074,-0.47336249608933306,-0.3815762677464047,-0.4120245929417987,-0.9182331609573422,-0.4122139358789866,-0.4059050454835128,-0.4739995047301365,-0.41107903659376505,-0.41248110160898876,-0.4125816414537071,-0.3704775297756501,-0.22144298933791381,-0.4072346731693905,-0.3817157972873638,-0.47388206434193286,-0.4122838123823511,0.7388650416411332,-0.41243844232129384,-0.4736130219434361,-0.2214028318773183,0.02588871580835232,-0.2722851104419967,-0.3873969124051165,-0.21895954875582138,-0.4728497104198732,-0.47127343782686715,-0.1799692940271896,-0.47272322590063304,-0.46715333233553175,-0.4123691717580432,-0.41235815429107414,-0.4025216565604059,-0.4733972227706516,-0.22081716433523454,-0.14550441344949747,-0.4112779176712187,1.0329950401937984,-0.22054731367015112,-0.3204053111969969,-0.2813357634078858,-0.3184009924154407,-0.426898112189829,-0.22101423986577926,-0.48366943996978373,-0.22064561491297655,-0.2818788642946294,-0.2826498530848372,0.23101546521871066,-0.48377215045224564,-0.26193317833778296,4.273157062352419,-0.269877954116716,-0.4262848383844365,-0.19030031190196195,-0.47377594398600775,0.9305134405138353,-0.11504654827161097,1.9425372724216474,-0.22113446192204178,-0.22036847390163167,-0.2199763897278417,-0.21996020125888702,-0.41188065530016144,-0.4125592987555774,-0.47367893917961684,-0.31886799734277876,-0.2237355001173791,-0.41248868829036545,0.5740434431214654,-0.3795603213206522,-0.29992373472904243,-0.33518520985657,-0.412420036489167,-0.3743584815738677,-0.21895733046236826,-0.4122679264272661,-0.27668202558205823,-0.47202486726595566,0.4132610715968647,-0.4793894648366113,-0.40885748565927155,-0.27609083580462007,0.1684671096155679,-0.4110175909363969,-0.11081548815561494,-0.47287211318763134,-0.2826164256730576,-0.2201470499132078,-0.39459930347222116,-0.41258698303687524,0.036034094426496494,-0.28251969166840835,-0.19027592217296654,-0.34849197465233905,-0.24170855268522132,-0.4067600606643413,0.031201110524381962,0.03711561223040369,-0.2414544321941485,-0.22089024417346895,0.18437539534629105,-0.2746155943282123,-0.47377630427614736,-0.5041465403147272,0.06597243724784599,-0.22120957857977955,-0.3198543435971305,-0.4126222214496368,-0.41259685678224545,-0.41221182557294717,-0.2813862677025727,-0.37270863534959786,0.01069519146066581,-0.33950013763842174,-0.12202038769861454,-0.26733735727011104,-0.1549265825956751,-0.3906831399284425,-0.4114871374852696,0.01665937474450395,-0.3081165103765325,-0.28259270129181746,-0.49824919230928916,-0.376708671904628,-0.29937019617421323,-0.22123852973691222,-0.4024474506993367,-0.3112279150434515,0.03660362565473388,-0.47309006518666996,-0.13772160739808723,0.036836328216943576,-0.2825518106931035,-0.214174204067893,-0.8818646964782868,-0.30730202007545865,0.005665518008850036,-0.19030035843381593,-0.046979992356844524,0.2961804485179541,-0.375768749088874,-0.21973374682743121,-0.4122289477719945,-0.37638111446302464,0.8119868269313236,-0.1793434217287802,0.03596505503743579,-0.41150306895508365,-0.49668256151511,-0.3279546964778211,-0.4695719642337064,-0.18934544342217388,-0.29307497025237317,-0.18780221310469597,-0.4733986422800251,0.1739118593804395,0.7737183901145619,-0.4703918069699803,-0.41058466050356834,-0.4118041049679597,-0.4125196842078809,-0.46239137325299257,-0.19954143635363042,-0.29139453766235884,-0.10857151797859207,-0.4564473066778434,-0.19001192112492873,-0.4116054448392225,0.7330002660463513,-0.4024927026235482,-0.46890707572516926,-0.40947559552184365,-0.22135689270980102,-0.21858475467785568,-0.8560022627759736,-0.37977256018401145,-0.4058111389777346,-0.3250593892123852,-0.4842920148145124,-0.4099054343413472],\"y\":[-0.412665425453564,-0.3913055807210573,3.1431523167574085,-0.1903013471736287,-0.21967866006234635,-0.4737028527709247,-0.3817243830271892,-0.22118388243616527,-0.49059402039534533,-0.282509672350788,-0.2206506116454243,-0.41222103076938466,-0.4030499948813655,3.6708182296812644,-0.1864888187023468,-0.2169988051379918,-0.2203590697589085,-0.4108032020204852,-0.17923772120323656,-0.22048974050331038,-0.41265971408708146,-0.2211619156686529,-0.4126395660754207,-0.22127966029038137,-0.2826230500472349,0.3061666301703875,0.10509898951177443,-0.22095474643901597,-0.21513323566498913,-0.2208646406307569,-0.08704121317342196,-0.221352849904936,-0.19370557601678562,-0.2197807163217911,-0.22012134184536636,-0.4100982671179463,0.06115442911769832,2.067779081128014,-0.47357241801239897,-0.19025349617542026,-0.21650191841890862,-0.22098885463840945,-0.22145363541813937,-0.4004891412982643,-0.2204809821104076,-0.22129483750537432,-0.3330243100838955,-0.4832953110042857,-0.03363692402975771,-0.19034963097105953,-0.2130032060589657,-0.4840660106433874,-0.32559927095264135,-0.40503860003602593,-0.4105529038485483,0.03094683281449687,-0.22125446184031541,-0.2185835479789311,-0.22057776456597553,0.036521866314539554,-0.47406248565657283,-0.1732599547025813,-0.1896501517723263,-0.47393948435186245,-0.1900127009395686,-0.18994011705182726,-0.19077991271797906,-0.28286284827194347,-0.3798178087883039,-0.41089163133140016,-0.22090057140120417,-0.15727234524316974,-0.2169837419049747,-0.4739015823495336,-0.18973623576666132,-0.4837945769293488,-0.4002897885115565,-0.2193865698477865,-0.3806856194986756,-0.1981748088217164,-0.21771654834773374,-0.48414312243976404,-0.22145463977080687,-0.21755803101310348,-0.41264321468933995,-0.4840866079193147,-0.19935490717397322,-0.23115992918260736,0.035997969387677645,-0.18045631771255755,-0.22129641571485525,-0.4122870961844824,-0.0503568873652628,-0.22146837728425334,-0.19038403851559724,0.7110480538271581,-0.47403960776485965,-0.5918600699058446,-0.28205903606724564,-0.1900174055056408,-0.36643666779190803,-0.28242820086995507,-0.09169474016270075,-0.21886020686112415,-0.21780575754504852,-0.48343986342756456,-0.37117908499433744,-0.49405689883382364,-0.28247882351606446,-0.19025488641306046,-0.2161776426097953,-0.3816883555711791,-0.03854660498626836,-0.2195758079176264,-0.38178283899917764,0.3573988958417142,-0.16819576847553847,-0.41210353418013906,-0.2813470531213924,-0.21976795633720728,-0.287493038249518,-0.47001272530866406,-0.38149519946136384,-0.2211818749963988,-0.2824210947531462,-0.4712661711952567,-0.3796912059240268,-0.3763932290129971,-0.3183947401461746,-0.47228453866049025,-0.22146845384785102,-0.38008905333791176,-0.4121475610771156,-0.41013857510386625,0.027624596705127718,-0.28260686149889647,0.05235595601191866,-0.8033537297563478,-0.4733201860576736,-0.41109997443219787,-0.3817450124743241,-0.19059231722390466,-0.47402215343485643,-0.41241349506380137,-0.4126360715125226,-0.21768865156459077,-0.1905398494497412,-0.49863144501736373,-0.22101168527405474,0.10678149716198648,-0.4121581467269907,-0.45485301134127654,0.02558486881229018,-0.4868849339647005,-0.29974176429392907,-0.47348085835124504,-0.11715155076958189,-0.26534399206605935,0.919410813618018,-0.4739651457614699,-0.4120161720901329,-0.4122026381896905,-0.27964147180281074,-0.47336249608933306,-0.3815762677464047,-0.4120245929417987,-0.9182331609573422,-0.4122139358789866,-0.4059050454835128,-0.4739995047301365,-0.41107903659376505,-0.41248110160898876,-0.4125816414537071,-0.3704775297756501,-0.22144298933791381,-0.4072346731693905,-0.3817157972873638,-0.47388206434193286,-0.4122838123823511,0.7388650416411332,-0.41243844232129384,-0.4736130219434361,-0.2214028318773183,0.02588871580835232,-0.2722851104419967,-0.3873969124051165,-0.21895954875582138,-0.4728497104198732,-0.47127343782686715,-0.1799692940271896,-0.47272322590063304,-0.46715333233553175,-0.4123691717580432,-0.41235815429107414,-0.4025216565604059,-0.4733972227706516,-0.22081716433523454,-0.14550441344949747,-0.4112779176712187,1.0329950401937984,-0.22054731367015112,-0.3204053111969969,-0.2813357634078858,-0.3184009924154407,-0.426898112189829,-0.22101423986577926,-0.48366943996978373,-0.22064561491297655,-0.2818788642946294,-0.2826498530848372,0.23101546521871066,-0.48377215045224564,-0.26193317833778296,4.273157062352419,-0.269877954116716,-0.4262848383844365,-0.19030031190196195,-0.47377594398600775,0.9305134405138353,-0.11504654827161097,1.9425372724216474,-0.22113446192204178,-0.22036847390163167,-0.2199763897278417,-0.21996020125888702,-0.41188065530016144,-0.4125592987555774,-0.47367893917961684,-0.31886799734277876,-0.2237355001173791,-0.41248868829036545,0.5740434431214654,-0.3795603213206522,-0.29992373472904243,-0.33518520985657,-0.412420036489167,-0.3743584815738677,-0.21895733046236826,-0.4122679264272661,-0.27668202558205823,-0.47202486726595566,0.4132610715968647,-0.4793894648366113,-0.40885748565927155,-0.27609083580462007,0.1684671096155679,-0.4110175909363969,-0.11081548815561494,-0.47287211318763134,-0.2826164256730576,-0.2201470499132078,-0.39459930347222116,-0.41258698303687524,0.036034094426496494,-0.28251969166840835,-0.19027592217296654,-0.34849197465233905,-0.24170855268522132,-0.4067600606643413,0.031201110524381962,0.03711561223040369,-0.2414544321941485,-0.22089024417346895,0.18437539534629105,-0.2746155943282123,-0.47377630427614736,-0.5041465403147272,0.06597243724784599,-0.22120957857977955,-0.3198543435971305,-0.4126222214496368,-0.41259685678224545,-0.41221182557294717,-0.2813862677025727,-0.37270863534959786,0.01069519146066581,-0.33950013763842174,-0.12202038769861454,-0.26733735727011104,-0.1549265825956751,-0.3906831399284425,-0.4114871374852696,0.01665937474450395,-0.3081165103765325,-0.28259270129181746,-0.49824919230928916,-0.376708671904628,-0.29937019617421323,-0.22123852973691222,-0.4024474506993367,-0.3112279150434515,0.03660362565473388,-0.47309006518666996,-0.13772160739808723,0.036836328216943576,-0.2825518106931035,-0.214174204067893,-0.8818646964782868,-0.30730202007545865,0.005665518008850036,-0.19030035843381593,-0.046979992356844524,0.2961804485179541,-0.375768749088874,-0.21973374682743121,-0.4122289477719945,-0.37638111446302464,0.8119868269313236,-0.1793434217287802,0.03596505503743579,-0.41150306895508365,-0.49668256151511,-0.3279546964778211,-0.4695719642337064,-0.18934544342217388,-0.29307497025237317,-0.18780221310469597,-0.4733986422800251,0.1739118593804395,0.7737183901145619,-0.4703918069699803,-0.41058466050356834,-0.4118041049679597,-0.4125196842078809,-0.46239137325299257,-0.19954143635363042,-0.29139453766235884,-0.10857151797859207,-0.4564473066778434,-0.19001192112492873,-0.4116054448392225,0.7330002660463513,-0.4024927026235482,-0.46890707572516926,-0.40947559552184365,-0.22135689270980102,-0.21858475467785568,-0.8560022627759736,-0.37977256018401145,-0.4058111389777346,-0.3250593892123852,-0.4842920148145124,-0.4099054343413472],\"z\":[0.3572269942377628,0.3583355649057429,0.48727300119108763,-0.04368780606873772,-0.28004407959548167,-0.11570799958504888,0.5937659899207655,-0.28017846026634297,-0.2726562637810636,-0.7531633047083454,-0.28008524341350505,0.3572626294462108,0.357197867570063,0.5548594573286149,-0.043371200963473654,-0.2796861008387979,-0.2800067321292975,0.35722135319227166,-0.0037921986582031024,-0.2801206510233878,0.35722807954466645,-0.280178526806962,0.35722912121344313,-0.2801955045866924,-0.7531673720708234,0.0010754096210557503,-0.2514402301697991,-0.2801791543534951,-0.27958193962921557,-0.28015516789496336,-0.7052122729334483,-0.28019948237885967,-0.2771749968014989,-0.28007464605498866,-0.2800686615821259,0.3574838658662431,-1.8157013253096823,-0.08734912386835607,-0.11570839469141016,-0.04368795101655687,-0.2796535969470727,-0.28018125643489117,-0.28022097925870926,0.43627205105422945,-0.2801342760516582,-0.2802023835693498,0.598905255548001,-0.19458886207111353,-0.24771187803204803,-0.0436876598099051,-0.27950633428545213,-0.1945865275068183,1.027293477811459,0.358130159446741,0.3574367242238302,0.355883226370345,-0.2801782464707881,-0.2796813004160834,-0.28011369320107327,-1.8156267095985779,-0.11575542680289483,-0.041827344995817486,-0.0436324118367584,-0.11573374759535997,-0.04364236701654882,-0.04355878167541502,-0.043732118476918776,-0.7532063428902506,0.3606561341699183,0.3574421610804087,-0.28017490765732356,-0.49270895180397073,-0.27965213743178285,-0.11574378670719951,-0.04363658827016555,-0.19458734972007133,0.3593949067182799,-0.27999838632759694,0.5938642917612921,-0.2765893992121686,-0.27986832902188946,-0.1945598291209662,-0.28021815771488684,-0.2798828928804073,0.3572269268654143,-0.19456441111233885,-0.27808549667137034,-0.5145733565188669,-1.8155810146320435,0.035097459131665794,-0.2802169976435924,0.3572699561337936,-0.25868823189377693,-0.2802225456967789,-0.043687555584314613,-0.08015182267070077,-0.11575549830884548,1.0736749649979171,-0.7531359995500103,-0.04361641725906387,0.7119744226728857,-0.7531613460974015,-1.3906571612653227,-0.2797681490879814,-0.27968365645945487,-0.19447815418896294,0.5958909280588286,-0.27335966666895495,-0.7531722197549746,-0.04368794680531945,-0.2797768042717394,0.5937658807882213,-0.058521295659501496,-0.2800443911499869,0.5937408048900409,0.0023014174910582093,1.06623906507335,0.3573179189020321,-0.7530256808411734,-0.27985778072768996,-0.7925700880827377,-0.11492082265054968,0.5938049928935796,-0.2801806717474032,-0.7531525460219886,-0.11559849444545939,0.5942025100839683,0.5948591573725794,1.066892526208006,-0.11545426404390322,-0.28022255214721903,0.36153911590036064,0.35732319819920194,0.35743987996064197,-1.8940200790647372,-0.7531519833067751,-1.8142257254726233,3.6495412640077376,-0.11564740753335294,0.357420738180518,0.5937638470102161,-0.04371176630514489,-0.11574893497994093,0.35727254441509976,0.3572269052276649,-0.27979428120223176,-0.043709935309655175,0.788905299840387,-0.28015913327523173,0.5574843176965694,0.35722545752212115,-0.11250551703630382,-1.8944494666954235,-0.2337881488793459,0.5311614669442304,-0.11569102883749238,-0.2584859008838965,-0.7521567100090383,-0.1969632781966473,-0.11574722573763008,0.3573100235844356,0.3573182191028762,-0.7527132696692106,-0.11562522536769398,0.593761130457011,0.35729783117520353,1.371792807212224,0.35728737772210745,0.35864148128709766,-0.11574459278579873,0.3575397663688552,0.3572551060036168,0.35723405299269706,0.6727186665552051,-0.2802180027106241,0.35831324369824014,0.5937637585130521,-0.11573534621769022,0.3572699461866666,-0.5357612866939488,0.35727467835687676,0.5699447880838382,-0.2802167002957676,-1.8944238677566458,-0.7510329842122162,0.3593558522712638,-0.28001097148740595,-0.11553856266304134,-0.11552128342585484,-0.2715280179119644,-0.11553894580353796,-0.11467365775270057,0.35727287796488916,0.3572891378213489,0.3594016673798841,-0.11566922817990054,-0.2801475478167983,-0.03835631551150742,0.3574543582005434,-0.07955731234737246,-0.28006791311669377,1.0667221845099175,-0.7529904286357937,1.0669587071538285,0.23919854609687446,-0.28018277448468987,-0.19452156677184373,-0.28006099914687343,-0.7530769995111263,-0.753165306020217,0.4655471998811955,-0.1945457395859772,-0.5955006272421035,0.14724124156684423,-0.7508197358256361,0.23919668839893798,-0.0436878092047302,-0.11573532964819722,1.1721095674196926,-0.2573895771380563,-0.28677900815702934,-0.2801808153686856,-0.2800419900463527,-0.2800078913242571,-0.280007940361547,0.357331031930832,0.3572359353524667,-0.1156970450217604,1.0281469335098623,-0.749415728051396,0.35726115707802225,0.4093731112745556,0.5939314558722861,1.0692845690246235,0.9485851240370126,0.357272564230054,0.633566939080219,-0.2800109782069481,0.35725840412843196,-0.7524531754462365,-0.11544402362620641,1.1306397522407388,-0.19413755941506097,0.3576785933742136,-0.7520138862032563,0.4657366681906463,0.3575528126421363,-0.2695320948933818,-0.1156487648129869,-0.753163422416636,-0.2800867687771887,0.35915712936678795,0.35723557813224377,-1.8155789186599554,-0.7531566581576599,-0.04368972238864948,0.14480818464357717,-0.43784879307527114,0.3577207587656568,-0.25893528324841814,-1.8927255886327592,0.13113324725722011,-0.2801374471362052,-0.24085851579577544,-0.7521286249412601,-0.11570116088879452,-0.3521161779093583,-1.7346491188807562,-0.2801783824288867,1.0668087315558017,0.35723347947443274,0.35723781344151856,0.357291782130126,-0.7529902756507434,0.6335619414496346,-2.0126027354074383,0.368301317938138,-1.6271031889542762,-0.6349215737125556,0.3789413470020662,0.5151037478812847,0.35740867855386776,-1.9730908584643219,-0.9502346616966854,-0.753160847801059,-0.31265361732502056,0.6331443381291469,1.2244749968539934,-0.2801758571842391,0.3594014425992498,-0.9892414888284945,-1.8155056602474267,-0.11564810460383511,-0.03926205088343821,-1.8154071221280896,-0.7531521500638867,0.39632293865377377,2.1774704143749988,-0.9500652746406435,-2.052007173109111,-0.04368780906377826,0.6499070102905986,-1.8164132542188167,0.633249222558195,-0.27996451832132635,0.3572719853937945,0.6331739678886683,0.518481276462474,0.03531462802609167,-1.8155815765496288,0.3574087268126688,-0.35116841131651977,0.5257201951637619,-0.11484276337354667,-0.04359586943424956,-0.8320321781768569,-0.0433711824858802,-0.11569127788224945,0.4326391718481664,-0.06688871910235858,-0.11576654804217829,0.3576617712424806,0.35734404153384114,0.3572265526731391,-0.1146880824378636,-0.27808493164663073,0.38001634888433317,0.5933090763405738,-0.11360338779039955,-0.04364236937872381,0.3572568643089506,-0.17284512867029198,0.3580783395387904,-0.11531232226793094,0.35757019571001486,-0.28021322259599635,-0.27983126397614566,1.1591814055283376,0.5939431257766241,0.35786785155549933,1.027416222910748,-0.19458557825840778,0.35776998377628116]},{\"customdata\":[[20],[12],[20],[18],[50],[34],[47],[34],[23],[53],[23],[34],[41],[36],[25],[53],[53],[34],[38],[31],[34],[10],[10],[55],[9],[23],[53],[53],[34],[33],[30],[53],[20],[6],[3],[0],[53],[15],[53],[53],[41],[40],[10],[34],[53],[41],[32],[41],[41],[20],[18],[14],[41],[41],[10],[53],[46],[10],[30],[12],[53],[18],[30],[53],[16],[5],[41],[35],[41],[47],[53],[41],[47],[40],[12],[1],[2],[6],[8],[10],[10],[28],[58],[53],[41],[10],[50],[37],[18],[36],[31],[18],[15],[39],[47],[36],[20],[36],[14],[34],[10],[10],[20],[35],[46],[12],[3],[36],[46],[36],[7],[40],[20],[10],[15],[31],[43],[7],[42],[53],[20],[10],[26],[18],[53],[32],[22],[41],[54],[41],[10],[35],[30],[53],[32],[10],[11],[10],[53],[27],[10],[53],[46],[47],[14],[24],[46],[53],[46],[12],[13],[11],[53],[41],[28],[17],[18],[32],[10],[4],[4],[18],[21],[18],[18],[46],[14],[36],[4],[47],[23],[41],[14],[53],[52],[34],[19],[14],[20],[14],[47],[29],[41],[41],[47],[10],[18],[53]],\"hovertemplate\":\"<b>%{hovertext}</b><br><br>Class=%{marker.color}<br>PC_1=%{y}<br>PC_3=%{z}<br>Algorithm=%{customdata[0]}<extra></extra>\",\"hovertext\":[\"Ethereum\",\"Monero\",\"Ethereum Classic\",\"ZCash\",\"Bitshares\",\"DigiByte\",\"PayCoin\",\"MyriadCoin\",\"Riecoin\",\"CasinoCoin\",\"Diamond\",\"Verge\",\"Exclusive Coin\",\"FeatherCoin\",\"MediterraneanCoin\",\"MintCoin\",\"Nautilus Coin\",\"TeslaCoin\",\"TittieCoin\",\"Vertcoin\",\"Crypti\",\"ByteCoin\",\"DigitalNote \",\"BurstCoin\",\"StorjCoin\",\"FairCoin\",\"RubyCoin\",\"Dnotes\",\"Unitus\",\"Cryptonite\",\"Crypto\",\"Diggits\",\"Expanse\",\"Siacoin\",\"Decred\",\"HOdlcoin\",\"GPU Coin\",\"SoilCoin\",\"ZeitCoin\",\"SafeExchangeCoin\",\"Nebuchadnezzar\",\"Let it Ride\",\"Karbo\",\"Circuits of Value\",\"BitCurrency\",\"Opair\",\"ZCoin\",\"CoffeeCoin\",\"TeamUP\",\"Elementrem\",\"ZClassic\",\"ARK\",\"FreeCoin\",\"Creatio\",\"Cannabis Industry Coin\",\"PandaCoin\",\"Allsafe\",\"Bikercoins\",\"HexxCoin\",\"Citadel\",\"Zilbercoin\",\"Zero\",\"Zoin\",\"RenosCoin\",\"DubaiCoin\",\"TajCoin\",\"Atmos\",\"Coinonat\",\"MacronCoin\",\"ProCurrency\",\"GrowthCoin\",\"Phreak\",\"Ultimate Secure Cash\",\"QTUM\",\"Quantum Resistant Ledger\",\"Espers\",\"Dynamic\",\"Nano\",\"ChanCoin\",\"Dinastycoin\",\"LeviarCoin\",\"SmartCash\",\"Signatum\",\"Draftcoin\",\"Stakecoin\",\"Sumokoin\",\"Obsidian\",\"Cardano\",\"BitcoinZ\",\"VIVO Coin\",\"Rupee\",\"Bitcoin Gold\",\"Pirl\",\"KekCoin\",\"Infinity Economics\",\"Innova\",\"Ellaism\",\"GoByte\",\"Lamden Tau\",\"SHIELD\",\"UltraNote\",\"BitCoal\",\"DaxxCoin\",\"Bulwark\",\"Kalkulus\",\"Lethean\",\"Photon\",\"SparksPay\",\"Digiwage\",\"GunCoin\",\"Interzone\",\"TokenPay\",\"1717 Masonic Commemorative Token\",\"Niobio Cash\",\"Travelflex\",\"KREDS\",\"BiblePay\",\"Stipend\",\"Poa Network\",\"Velox\",\"Callisto Network\",\"BitTube\",\"Aidos Kuneen\",\"Bitrolium\",\"MedicCoin\",\"Alpenschillling\",\"Bitcoin Green\",\"Deviant Coin\",\"Semux\",\"Zealium\",\"Monero Classic\",\"Jumpcoin\",\"Infinex\",\"HollyWoodCoin\",\"GINcoin\",\"PlatinCoin\",\"Loki\",\"Newton Coin\",\"Xt3ch\",\"MassGrid\",\"PluraCoin\",\"Lynx\",\"Poseidon Quark\",\"BitcoinWSpectrum\",\"Muse\",\"PlusOneCoin\",\"Dystem\",\"Peony Coin\",\"Vitae\",\"Webchain\",\"Ryo\",\"Qwertycoin\",\"MMOCoin\",\"Ketan\",\"XDNA\",\"Acute Angle Cloud\",\"CrypticCoin\",\"Actinium\",\"FREDEnergy\",\"Universal Molecule\",\"Lithium\",\"PirateCash\",\"Exosis\",\"Beam\",\"Bithereum\",\"Crypto Sports\",\"ALAX\",\"UFO Coin\",\"BlakeCoin\",\"NeosCoin\",\"Groestlcoin\",\"Radium\",\"Lisk\",\"HiCoin\",\"Fiii\",\"JoinCoin\",\"Vollar\",\"EOS\",\"Reality Clash\",\"Oxycoin\",\"TigerCash\",\"Waves\",\"Particl\",\"Nxt\",\"ZEPHYR\",\"Beldex\",\"Horizen\",\"BitcoinPlus\"],\"legendgroup\":\"1\",\"marker\":{\"color\":[1,1,1,1,1,1,1,1,1,1,1,1,1,1,1,1,1,1,1,1,1,1,1,1,1,1,1,1,1,1,1,1,1,1,1,1,1,1,1,1,1,1,1,1,1,1,1,1,1,1,1,1,1,1,1,1,1,1,1,1,1,1,1,1,1,1,1,1,1,1,1,1,1,1,1,1,1,1,1,1,1,1,1,1,1,1,1,1,1,1,1,1,1,1,1,1,1,1,1,1,1,1,1,1,1,1,1,1,1,1,1,1,1,1,1,1,1,1,1,1,1,1,1,1,1,1,1,1,1,1,1,1,1,1,1,1,1,1,1,1,1,1,1,1,1,1,1,1,1,1,1,1,1,1,1,1,1,1,1,1,1,1,1,1,1,1,1,1,1,1,1,1,1,1,1,1,1,1,1,1,1,1,1,1,1,1,1,1],\"coloraxis\":\"coloraxis\",\"symbol\":\"diamond\"},\"mode\":\"markers\",\"name\":\"1\",\"scene\":\"scene\",\"showlegend\":true,\"type\":\"scatter3d\",\"x\":[-0.05101253000577026,-0.011450356650793268,-0.048798044078657385,-0.042084610252890904,0.19048330548240935,0.26119075127958735,0.128158392552077,-0.07845238122329866,-0.06639008716622741,1.171619284840637,-0.2590783076865188,0.2845834790661325,0.15863466347769806,-0.12794141391974218,-0.07558509253438574,0.41937791689923143,0.09756047388879407,0.19659183051035345,0.22176080480821692,-0.1072968864559396,0.19587691491860015,4.653678143255554,0.20439686306091387,0.19996347184914492,0.32811675178315386,-0.2583677632358764,0.09756299347473932,0.10486253042070992,-0.12328666132457836,-0.08978359658344107,-0.1029314692182554,0.09967848074147095,-0.05231185659000745,0.5198415876968508,-0.15647452292577307,0.0506904710005242,0.10000477501881032,-0.026669550185003933,1.6600960218799306,0.2151424821457825,0.1590540867013608,0.1645886561300494,-0.0012580683210843154,-0.09697622114620275,0.09971804821603272,0.1604190980381978,-0.11370768782597922,0.16120459254533787,0.1618693515905988,-0.05197986604702698,-0.04211138697056216,0.6819593272389054,0.15981214212465236,0.1590540867013608,-0.0012501399649917566,0.9384004384088721,0.1332777980567411,-0.0010828023842450846,-0.10367652786152871,-0.00966946085190666,0.09775334644088365,-0.04213213715162897,-0.1033127798823405,0.09804610788009174,-0.03211992329235481,-0.1665186772063421,0.16134838061068998,-0.1287461204303783,0.16867763114406256,0.8895869472343598,0.121890118389659,0.15902516296709343,0.13003478229853985,0.16619199175419402,-0.0096016738583029,0.7052439747663003,0.039752970580674465,0.024453419857532056,0.009337676480137511,0.046176024064538995,-0.0007161460357328854,-0.008980767620478735,0.07459711513281031,0.09761047779788123,0.15923363545967634,-0.0004414224247501883,0.113805545842084,1.0274800599046674,0.24931392765362573,-0.1341681056472227,0.21031939999835586,-0.041936021485034426,-0.024961263032900805,0.16918101813445013,0.35526679971100644,-0.13395222229482107,-0.04961087071132577,-0.1340942363056161,0.6884825320171393,-0.11029238508895142,1.1518780260796633,-0.00128300389455722,0.056602292966890816,0.18972865663604255,0.13342590077092267,0.005097434109246984,1.4019217543041185,-0.13417321402987956,0.13459604848393725,-0.12490008630902061,0.014284928129995898,0.16422793855950707,0.2660345041140248,0.003954670301113295,-0.024422221849112125,-0.08803076055438802,0.4190213635007229,-0.1769436270045006,0.2865397908467031,0.09879545197500714,0.01699023209182713,0.00986972952342788,-0.0827088717705921,-0.040619885744626945,0.10626456261335898,-0.11058454207285233,0.2561219837558828,0.15977174565429614,0.47543024776881565,0.15952720690481073,-0.00104892353229036,-0.1288567117745235,-0.10346276106114279,0.09800089408125488,-0.11382697765949809,0.004605201345433857,-0.0047839564896131,2.488465188246678,0.09771308182556872,-0.0846982140700696,0.017133796393139885,2.5267022119913394,0.13959623263257295,0.1297412650245803,0.29715077465697365,-0.07276405152654856,0.1332866300359016,0.26826651751807373,0.13497976495225475,0.00626347137281728,-0.015859162497912097,3.3696998499820006,0.10141775860789494,0.16081846026664798,-0.2809742718934902,0.8164284605515603,0.09871297712147879,-0.11298136026729323,0.10867557856887589,0.030310142506456417,0.029716263467631784,0.2774946898745283,-0.05753945961424859,-0.03920536424558991,-0.04171553691934366,0.1331313943497925,0.7043234683623929,-0.036083688225491635,0.10052761049722618,0.1281294981693666,-0.06581784028582222,0.15869776652969264,0.6824919806898259,0.3499300327636592,0.5094863234495187,-0.12419315982763145,-0.024726358145419083,0.6944981506614244,-0.05202326711906936,0.6960391912515714,0.15311868698455441,0.4773811828414747,0.1587767091399877,0.120090098548221,0.560749992907242,0.027548172381720012,-0.042085919481463646,0.09716370741822787],\"y\":[-0.05101253000577026,-0.011450356650793268,-0.048798044078657385,-0.042084610252890904,0.19048330548240935,0.26119075127958735,0.128158392552077,-0.07845238122329866,-0.06639008716622741,1.171619284840637,-0.2590783076865188,0.2845834790661325,0.15863466347769806,-0.12794141391974218,-0.07558509253438574,0.41937791689923143,0.09756047388879407,0.19659183051035345,0.22176080480821692,-0.1072968864559396,0.19587691491860015,4.653678143255554,0.20439686306091387,0.19996347184914492,0.32811675178315386,-0.2583677632358764,0.09756299347473932,0.10486253042070992,-0.12328666132457836,-0.08978359658344107,-0.1029314692182554,0.09967848074147095,-0.05231185659000745,0.5198415876968508,-0.15647452292577307,0.0506904710005242,0.10000477501881032,-0.026669550185003933,1.6600960218799306,0.2151424821457825,0.1590540867013608,0.1645886561300494,-0.0012580683210843154,-0.09697622114620275,0.09971804821603272,0.1604190980381978,-0.11370768782597922,0.16120459254533787,0.1618693515905988,-0.05197986604702698,-0.04211138697056216,0.6819593272389054,0.15981214212465236,0.1590540867013608,-0.0012501399649917566,0.9384004384088721,0.1332777980567411,-0.0010828023842450846,-0.10367652786152871,-0.00966946085190666,0.09775334644088365,-0.04213213715162897,-0.1033127798823405,0.09804610788009174,-0.03211992329235481,-0.1665186772063421,0.16134838061068998,-0.1287461204303783,0.16867763114406256,0.8895869472343598,0.121890118389659,0.15902516296709343,0.13003478229853985,0.16619199175419402,-0.0096016738583029,0.7052439747663003,0.039752970580674465,0.024453419857532056,0.009337676480137511,0.046176024064538995,-0.0007161460357328854,-0.008980767620478735,0.07459711513281031,0.09761047779788123,0.15923363545967634,-0.0004414224247501883,0.113805545842084,1.0274800599046674,0.24931392765362573,-0.1341681056472227,0.21031939999835586,-0.041936021485034426,-0.024961263032900805,0.16918101813445013,0.35526679971100644,-0.13395222229482107,-0.04961087071132577,-0.1340942363056161,0.6884825320171393,-0.11029238508895142,1.1518780260796633,-0.00128300389455722,0.056602292966890816,0.18972865663604255,0.13342590077092267,0.005097434109246984,1.4019217543041185,-0.13417321402987956,0.13459604848393725,-0.12490008630902061,0.014284928129995898,0.16422793855950707,0.2660345041140248,0.003954670301113295,-0.024422221849112125,-0.08803076055438802,0.4190213635007229,-0.1769436270045006,0.2865397908467031,0.09879545197500714,0.01699023209182713,0.00986972952342788,-0.0827088717705921,-0.040619885744626945,0.10626456261335898,-0.11058454207285233,0.2561219837558828,0.15977174565429614,0.47543024776881565,0.15952720690481073,-0.00104892353229036,-0.1288567117745235,-0.10346276106114279,0.09800089408125488,-0.11382697765949809,0.004605201345433857,-0.0047839564896131,2.488465188246678,0.09771308182556872,-0.0846982140700696,0.017133796393139885,2.5267022119913394,0.13959623263257295,0.1297412650245803,0.29715077465697365,-0.07276405152654856,0.1332866300359016,0.26826651751807373,0.13497976495225475,0.00626347137281728,-0.015859162497912097,3.3696998499820006,0.10141775860789494,0.16081846026664798,-0.2809742718934902,0.8164284605515603,0.09871297712147879,-0.11298136026729323,0.10867557856887589,0.030310142506456417,0.029716263467631784,0.2774946898745283,-0.05753945961424859,-0.03920536424558991,-0.04171553691934366,0.1331313943497925,0.7043234683623929,-0.036083688225491635,0.10052761049722618,0.1281294981693666,-0.06581784028582222,0.15869776652969264,0.6824919806898259,0.3499300327636592,0.5094863234495187,-0.12419315982763145,-0.024726358145419083,0.6944981506614244,-0.05202326711906936,0.6960391912515714,0.15311868698455441,0.4773811828414747,0.1587767091399877,0.120090098548221,0.560749992907242,0.027548172381720012,-0.042085919481463646,0.09716370741822787],\"z\":[1.0204728629380464,1.3357986258852734,1.020929288976838,1.0993535330101785,-1.2166918777703364,0.5138107526264095,-1.1061241167920024,0.47293697810922974,0.9024125964696551,-1.4699712566890526,1.5396924255262645,0.5039368885584028,-0.869659799461872,0.39055570113470034,0.823834875270628,-1.3436180337303958,-1.3426075172629586,-0.5935393350230359,-0.7464864964476418,0.5870909065951769,-0.5937577094594997,1.80735319107912,1.4360601953488117,-1.6293443295876997,0.39271192480919453,1.53968061352803,-1.342643208270809,-1.34156261954551,0.4686619873877634,0.5120491383513303,0.626468221106277,-1.3424290763750955,1.020514084164054,1.5707734652567595,2.328032283787496,1.8089595552898587,-1.342163095267278,1.2176187880976337,-1.129041731822775,-1.5505538937236154,-0.8696169619529388,-0.830173253752404,1.414651206593698,0.4712287694061226,-1.342649736253434,-0.8695020051639384,0.547541567480968,-0.8695793683767157,-0.8690057723473278,1.0205335868449872,1.0993536141208549,-1.080083927206521,-0.8695530962092517,-0.8696169619529388,1.4146754419800043,-1.2734818253948386,-1.0667034104004256,1.4146837566903854,0.6263474407042414,1.336201230327674,-1.3425224878659665,1.09934485537535,0.6263705982619799,-1.3425687476554389,1.1781433601905162,2.2492363742247568,-0.869424786059275,0.4293542395415688,-0.86880806102045,-0.9430531481789752,-1.3383060983139552,-0.8695948203363739,-1.1057161024197664,-0.8300314513804398,1.3360245929727081,2.514507108317194,1.7299505267085704,1.573024528802237,1.4935246191744778,1.4188962680932706,1.414746602640092,0.7159269409025214,-1.5394239003386476,-1.3426049651515433,-0.8695257612607482,1.4148227144227128,-1.2241987591810117,-0.6153258504258926,1.1447379346549913,0.3898930940440961,-0.4754564272937885,1.099353082912612,1.2178921703375514,-0.7907840318707441,-1.086991027544714,0.3899321373052427,1.0210861291658717,0.3899034562039118,-1.0792766618833431,0.4700781899334386,1.5985951503308211,1.4146567956278373,1.0422008838240893,-0.6331086606623065,-1.0666928320245357,1.3379527569167455,1.88487963400989,0.3898798771167971,-1.066475836554147,0.39090817413618767,1.5329248957436452,-0.8301909069869335,-0.04193685417671923,1.4153543769035049,1.2177663586202956,0.5892732332519157,-1.574713610785218,2.170367826766966,-1.3335023275079139,-1.342373471943688,1.0346019738825165,1.4168008450555527,0.7840398088874994,1.099457160751965,-1.341566866510387,0.5481465315089253,-0.12072548334746017,-0.8694691686337418,-2.6567414681801527,-0.8694860710911566,1.4146690984247952,0.4292944729723197,0.6263826970905576,-1.342587194331275,0.5475178899652297,1.4159346331497553,1.3755399427322832,1.8128810505481254,-1.3425466253009144,0.7449305067998718,1.4167788411122635,-2.2085575156753445,-1.0653221207390986,-1.1059353607623945,0.19458940121050455,0.8628622636105528,-1.0666902047524565,-1.3059331389299422,-1.0665211068931395,1.3396044184495997,1.2965757722752655,1.7718174969344136,-1.3420814808714008,-0.8692032804610978,1.343402766827278,-1.621434791184242,1.1156417644017598,0.5476774253804464,1.4321157809806273,1.6513495614502496,1.6511751683248714,0.03711783049213138,0.9811082470524641,1.099878077118589,1.0993742176185668,-1.0667065617241023,-1.0782219463323093,0.39835803679268605,1.6663428321577147,-1.1061052833646856,0.9024571764531363,-0.8696401420084103,-1.0800085316461312,-1.3213341773523752,-2.779467347887373,0.4686709084277277,1.0644552790064734,-1.0803975842032731,1.020529930328915,-1.080402252245344,-1.1040218925284788,-1.2463987083989847,-0.8696411880050916,-0.6550470614505164,-2.3767947516571533,1.4176299454465588,1.0993535369760272,-1.342639793373493]},{\"customdata\":[[10],[60]],\"hovertemplate\":\"<b>%{hovertext}</b><br><br>Class=%{marker.color}<br>PC_1=%{y}<br>PC_3=%{z}<br>Algorithm=%{customdata[0]}<extra></extra>\",\"hovertext\":[\"TurtleCoin\",\"BitTorrent\"],\"legendgroup\":\"2\",\"marker\":{\"color\":[2,2],\"coloraxis\":\"coloraxis\",\"symbol\":\"square\"},\"mode\":\"markers\",\"name\":\"2\",\"scene\":\"scene\",\"showlegend\":true,\"type\":\"scatter3d\",\"x\":[10.93885447373945,25.459357630637214],\"y\":[10.93885447373945,25.459357630637214],\"z\":[3.5868901435094767,-0.7858800338600105]}],                        {\"coloraxis\":{\"colorbar\":{\"title\":{\"text\":\"Class\"}},\"colorscale\":[[0.0,\"#0d0887\"],[0.1111111111111111,\"#46039f\"],[0.2222222222222222,\"#7201a8\"],[0.3333333333333333,\"#9c179e\"],[0.4444444444444444,\"#bd3786\"],[0.5555555555555556,\"#d8576b\"],[0.6666666666666666,\"#ed7953\"],[0.7777777777777778,\"#fb9f3a\"],[0.8888888888888888,\"#fdca26\"],[1.0,\"#f0f921\"]]},\"legend\":{\"title\":{\"text\":\"Class\"},\"tracegroupgap\":0,\"x\":0,\"y\":1},\"margin\":{\"t\":60},\"scene\":{\"domain\":{\"x\":[0.0,1.0],\"y\":[0.0,1.0]},\"xaxis\":{\"title\":{\"text\":\"PC_1\"}},\"yaxis\":{\"title\":{\"text\":\"PC_1\"}},\"zaxis\":{\"title\":{\"text\":\"PC_3\"}}},\"template\":{\"data\":{\"bar\":[{\"error_x\":{\"color\":\"#2a3f5f\"},\"error_y\":{\"color\":\"#2a3f5f\"},\"marker\":{\"line\":{\"color\":\"#E5ECF6\",\"width\":0.5},\"pattern\":{\"fillmode\":\"overlay\",\"size\":10,\"solidity\":0.2}},\"type\":\"bar\"}],\"barpolar\":[{\"marker\":{\"line\":{\"color\":\"#E5ECF6\",\"width\":0.5},\"pattern\":{\"fillmode\":\"overlay\",\"size\":10,\"solidity\":0.2}},\"type\":\"barpolar\"}],\"carpet\":[{\"aaxis\":{\"endlinecolor\":\"#2a3f5f\",\"gridcolor\":\"white\",\"linecolor\":\"white\",\"minorgridcolor\":\"white\",\"startlinecolor\":\"#2a3f5f\"},\"baxis\":{\"endlinecolor\":\"#2a3f5f\",\"gridcolor\":\"white\",\"linecolor\":\"white\",\"minorgridcolor\":\"white\",\"startlinecolor\":\"#2a3f5f\"},\"type\":\"carpet\"}],\"choropleth\":[{\"colorbar\":{\"outlinewidth\":0,\"ticks\":\"\"},\"type\":\"choropleth\"}],\"contour\":[{\"colorbar\":{\"outlinewidth\":0,\"ticks\":\"\"},\"colorscale\":[[0.0,\"#0d0887\"],[0.1111111111111111,\"#46039f\"],[0.2222222222222222,\"#7201a8\"],[0.3333333333333333,\"#9c179e\"],[0.4444444444444444,\"#bd3786\"],[0.5555555555555556,\"#d8576b\"],[0.6666666666666666,\"#ed7953\"],[0.7777777777777778,\"#fb9f3a\"],[0.8888888888888888,\"#fdca26\"],[1.0,\"#f0f921\"]],\"type\":\"contour\"}],\"contourcarpet\":[{\"colorbar\":{\"outlinewidth\":0,\"ticks\":\"\"},\"type\":\"contourcarpet\"}],\"heatmap\":[{\"colorbar\":{\"outlinewidth\":0,\"ticks\":\"\"},\"colorscale\":[[0.0,\"#0d0887\"],[0.1111111111111111,\"#46039f\"],[0.2222222222222222,\"#7201a8\"],[0.3333333333333333,\"#9c179e\"],[0.4444444444444444,\"#bd3786\"],[0.5555555555555556,\"#d8576b\"],[0.6666666666666666,\"#ed7953\"],[0.7777777777777778,\"#fb9f3a\"],[0.8888888888888888,\"#fdca26\"],[1.0,\"#f0f921\"]],\"type\":\"heatmap\"}],\"heatmapgl\":[{\"colorbar\":{\"outlinewidth\":0,\"ticks\":\"\"},\"colorscale\":[[0.0,\"#0d0887\"],[0.1111111111111111,\"#46039f\"],[0.2222222222222222,\"#7201a8\"],[0.3333333333333333,\"#9c179e\"],[0.4444444444444444,\"#bd3786\"],[0.5555555555555556,\"#d8576b\"],[0.6666666666666666,\"#ed7953\"],[0.7777777777777778,\"#fb9f3a\"],[0.8888888888888888,\"#fdca26\"],[1.0,\"#f0f921\"]],\"type\":\"heatmapgl\"}],\"histogram\":[{\"marker\":{\"pattern\":{\"fillmode\":\"overlay\",\"size\":10,\"solidity\":0.2}},\"type\":\"histogram\"}],\"histogram2d\":[{\"colorbar\":{\"outlinewidth\":0,\"ticks\":\"\"},\"colorscale\":[[0.0,\"#0d0887\"],[0.1111111111111111,\"#46039f\"],[0.2222222222222222,\"#7201a8\"],[0.3333333333333333,\"#9c179e\"],[0.4444444444444444,\"#bd3786\"],[0.5555555555555556,\"#d8576b\"],[0.6666666666666666,\"#ed7953\"],[0.7777777777777778,\"#fb9f3a\"],[0.8888888888888888,\"#fdca26\"],[1.0,\"#f0f921\"]],\"type\":\"histogram2d\"}],\"histogram2dcontour\":[{\"colorbar\":{\"outlinewidth\":0,\"ticks\":\"\"},\"colorscale\":[[0.0,\"#0d0887\"],[0.1111111111111111,\"#46039f\"],[0.2222222222222222,\"#7201a8\"],[0.3333333333333333,\"#9c179e\"],[0.4444444444444444,\"#bd3786\"],[0.5555555555555556,\"#d8576b\"],[0.6666666666666666,\"#ed7953\"],[0.7777777777777778,\"#fb9f3a\"],[0.8888888888888888,\"#fdca26\"],[1.0,\"#f0f921\"]],\"type\":\"histogram2dcontour\"}],\"mesh3d\":[{\"colorbar\":{\"outlinewidth\":0,\"ticks\":\"\"},\"type\":\"mesh3d\"}],\"parcoords\":[{\"line\":{\"colorbar\":{\"outlinewidth\":0,\"ticks\":\"\"}},\"type\":\"parcoords\"}],\"pie\":[{\"automargin\":true,\"type\":\"pie\"}],\"scatter\":[{\"marker\":{\"colorbar\":{\"outlinewidth\":0,\"ticks\":\"\"}},\"type\":\"scatter\"}],\"scatter3d\":[{\"line\":{\"colorbar\":{\"outlinewidth\":0,\"ticks\":\"\"}},\"marker\":{\"colorbar\":{\"outlinewidth\":0,\"ticks\":\"\"}},\"type\":\"scatter3d\"}],\"scattercarpet\":[{\"marker\":{\"colorbar\":{\"outlinewidth\":0,\"ticks\":\"\"}},\"type\":\"scattercarpet\"}],\"scattergeo\":[{\"marker\":{\"colorbar\":{\"outlinewidth\":0,\"ticks\":\"\"}},\"type\":\"scattergeo\"}],\"scattergl\":[{\"marker\":{\"colorbar\":{\"outlinewidth\":0,\"ticks\":\"\"}},\"type\":\"scattergl\"}],\"scattermapbox\":[{\"marker\":{\"colorbar\":{\"outlinewidth\":0,\"ticks\":\"\"}},\"type\":\"scattermapbox\"}],\"scatterpolar\":[{\"marker\":{\"colorbar\":{\"outlinewidth\":0,\"ticks\":\"\"}},\"type\":\"scatterpolar\"}],\"scatterpolargl\":[{\"marker\":{\"colorbar\":{\"outlinewidth\":0,\"ticks\":\"\"}},\"type\":\"scatterpolargl\"}],\"scatterternary\":[{\"marker\":{\"colorbar\":{\"outlinewidth\":0,\"ticks\":\"\"}},\"type\":\"scatterternary\"}],\"surface\":[{\"colorbar\":{\"outlinewidth\":0,\"ticks\":\"\"},\"colorscale\":[[0.0,\"#0d0887\"],[0.1111111111111111,\"#46039f\"],[0.2222222222222222,\"#7201a8\"],[0.3333333333333333,\"#9c179e\"],[0.4444444444444444,\"#bd3786\"],[0.5555555555555556,\"#d8576b\"],[0.6666666666666666,\"#ed7953\"],[0.7777777777777778,\"#fb9f3a\"],[0.8888888888888888,\"#fdca26\"],[1.0,\"#f0f921\"]],\"type\":\"surface\"}],\"table\":[{\"cells\":{\"fill\":{\"color\":\"#EBF0F8\"},\"line\":{\"color\":\"white\"}},\"header\":{\"fill\":{\"color\":\"#C8D4E3\"},\"line\":{\"color\":\"white\"}},\"type\":\"table\"}]},\"layout\":{\"annotationdefaults\":{\"arrowcolor\":\"#2a3f5f\",\"arrowhead\":0,\"arrowwidth\":1},\"autotypenumbers\":\"strict\",\"coloraxis\":{\"colorbar\":{\"outlinewidth\":0,\"ticks\":\"\"}},\"colorscale\":{\"diverging\":[[0,\"#8e0152\"],[0.1,\"#c51b7d\"],[0.2,\"#de77ae\"],[0.3,\"#f1b6da\"],[0.4,\"#fde0ef\"],[0.5,\"#f7f7f7\"],[0.6,\"#e6f5d0\"],[0.7,\"#b8e186\"],[0.8,\"#7fbc41\"],[0.9,\"#4d9221\"],[1,\"#276419\"]],\"sequential\":[[0.0,\"#0d0887\"],[0.1111111111111111,\"#46039f\"],[0.2222222222222222,\"#7201a8\"],[0.3333333333333333,\"#9c179e\"],[0.4444444444444444,\"#bd3786\"],[0.5555555555555556,\"#d8576b\"],[0.6666666666666666,\"#ed7953\"],[0.7777777777777778,\"#fb9f3a\"],[0.8888888888888888,\"#fdca26\"],[1.0,\"#f0f921\"]],\"sequentialminus\":[[0.0,\"#0d0887\"],[0.1111111111111111,\"#46039f\"],[0.2222222222222222,\"#7201a8\"],[0.3333333333333333,\"#9c179e\"],[0.4444444444444444,\"#bd3786\"],[0.5555555555555556,\"#d8576b\"],[0.6666666666666666,\"#ed7953\"],[0.7777777777777778,\"#fb9f3a\"],[0.8888888888888888,\"#fdca26\"],[1.0,\"#f0f921\"]]},\"colorway\":[\"#636efa\",\"#EF553B\",\"#00cc96\",\"#ab63fa\",\"#FFA15A\",\"#19d3f3\",\"#FF6692\",\"#B6E880\",\"#FF97FF\",\"#FECB52\"],\"font\":{\"color\":\"#2a3f5f\"},\"geo\":{\"bgcolor\":\"white\",\"lakecolor\":\"white\",\"landcolor\":\"#E5ECF6\",\"showlakes\":true,\"showland\":true,\"subunitcolor\":\"white\"},\"hoverlabel\":{\"align\":\"left\"},\"hovermode\":\"closest\",\"mapbox\":{\"style\":\"light\"},\"paper_bgcolor\":\"white\",\"plot_bgcolor\":\"#E5ECF6\",\"polar\":{\"angularaxis\":{\"gridcolor\":\"white\",\"linecolor\":\"white\",\"ticks\":\"\"},\"bgcolor\":\"#E5ECF6\",\"radialaxis\":{\"gridcolor\":\"white\",\"linecolor\":\"white\",\"ticks\":\"\"}},\"scene\":{\"xaxis\":{\"backgroundcolor\":\"#E5ECF6\",\"gridcolor\":\"white\",\"gridwidth\":2,\"linecolor\":\"white\",\"showbackground\":true,\"ticks\":\"\",\"zerolinecolor\":\"white\"},\"yaxis\":{\"backgroundcolor\":\"#E5ECF6\",\"gridcolor\":\"white\",\"gridwidth\":2,\"linecolor\":\"white\",\"showbackground\":true,\"ticks\":\"\",\"zerolinecolor\":\"white\"},\"zaxis\":{\"backgroundcolor\":\"#E5ECF6\",\"gridcolor\":\"white\",\"gridwidth\":2,\"linecolor\":\"white\",\"showbackground\":true,\"ticks\":\"\",\"zerolinecolor\":\"white\"}},\"shapedefaults\":{\"line\":{\"color\":\"#2a3f5f\"}},\"ternary\":{\"aaxis\":{\"gridcolor\":\"white\",\"linecolor\":\"white\",\"ticks\":\"\"},\"baxis\":{\"gridcolor\":\"white\",\"linecolor\":\"white\",\"ticks\":\"\"},\"bgcolor\":\"#E5ECF6\",\"caxis\":{\"gridcolor\":\"white\",\"linecolor\":\"white\",\"ticks\":\"\"}},\"title\":{\"x\":0.05},\"xaxis\":{\"automargin\":true,\"gridcolor\":\"white\",\"linecolor\":\"white\",\"ticks\":\"\",\"title\":{\"standoff\":15},\"zerolinecolor\":\"white\",\"zerolinewidth\":2},\"yaxis\":{\"automargin\":true,\"gridcolor\":\"white\",\"linecolor\":\"white\",\"ticks\":\"\",\"title\":{\"standoff\":15},\"zerolinecolor\":\"white\",\"zerolinewidth\":2}}},\"width\":800},                        {\"responsive\": true}                    ).then(function(){\n",
       "                            \n",
       "var gd = document.getElementById('36ceb961-b4d7-4b20-8d26-2f61cd71e719');\n",
       "var x = new MutationObserver(function (mutations, observer) {{\n",
       "        var display = window.getComputedStyle(gd).display;\n",
       "        if (!display || display === 'none') {{\n",
       "            console.log([gd, 'removed!']);\n",
       "            Plotly.purge(gd);\n",
       "            observer.disconnect();\n",
       "        }}\n",
       "}});\n",
       "\n",
       "// Listen for the removal of the full notebook cells\n",
       "var notebookContainer = gd.closest('#notebook-container');\n",
       "if (notebookContainer) {{\n",
       "    x.observe(notebookContainer, {childList: true});\n",
       "}}\n",
       "\n",
       "// Listen for the clearing of the current output cell\n",
       "var outputEl = gd.closest('.output');\n",
       "if (outputEl) {{\n",
       "    x.observe(outputEl, {childList: true});\n",
       "}}\n",
       "\n",
       "                        })                };                });            </script>        </div>"
      ]
     },
     "metadata": {},
     "output_type": "display_data"
    }
   ],
   "source": [
    "# Create a 3D-Scatter with the PCA data and the clusters\n",
    "fig = px.scatter_3d(\n",
    "    clustered_df,\n",
    "    x=\"PC_1\",\n",
    "    y=\"PC_1\",\n",
    "    z=\"PC_3\",\n",
    "    color=\"Class\",\n",
    "    symbol=\"Class\",\n",
    "    width=800,\n",
    "    hover_name=\"CoinName\",\n",
    "    hover_data=[\"Algorithm\"]\n",
    "    \n",
    ")\n",
    "fig.update_layout(legend=dict(x=0, y=1))\n",
    "fig.show()"
   ]
  },
  {
   "cell_type": "markdown",
   "metadata": {},
   "source": [
    "#### Table of Tradable Cryptocurrencies"
   ]
  },
  {
   "cell_type": "code",
   "execution_count": 87,
   "metadata": {},
   "outputs": [
    {
     "data": {},
     "metadata": {},
     "output_type": "display_data"
    },
    {
     "data": {
      "application/vnd.holoviews_exec.v0+json": "",
      "text/html": [
       "<div id='1120'>\n",
       "\n",
       "\n",
       "\n",
       "\n",
       "\n",
       "  <div class=\"bk-root\" id=\"d2979af4-a346-4cfa-9979-8f2b02c39981\" data-root-id=\"1120\"></div>\n",
       "</div>\n",
       "<script type=\"application/javascript\">(function(root) {\n",
       "  function embed_document(root) {\n",
       "    var docs_json = {\"482feeaa-e312-4a80-9407-d1012e5c1ef7\":{\"defs\":[{\"extends\":null,\"module\":null,\"name\":\"ReactiveHTML1\",\"overrides\":[],\"properties\":[]},{\"extends\":null,\"module\":null,\"name\":\"FlexBox1\",\"overrides\":[],\"properties\":[{\"default\":\"flex-start\",\"kind\":null,\"name\":\"align_content\"},{\"default\":\"flex-start\",\"kind\":null,\"name\":\"align_items\"},{\"default\":\"row\",\"kind\":null,\"name\":\"flex_direction\"},{\"default\":\"wrap\",\"kind\":null,\"name\":\"flex_wrap\"},{\"default\":\"flex-start\",\"kind\":null,\"name\":\"justify_content\"}]},{\"extends\":null,\"module\":null,\"name\":\"TemplateActions1\",\"overrides\":[],\"properties\":[{\"default\":0,\"kind\":null,\"name\":\"open_modal\"},{\"default\":0,\"kind\":null,\"name\":\"close_modal\"}]},{\"extends\":null,\"module\":null,\"name\":\"MaterialTemplateActions1\",\"overrides\":[],\"properties\":[{\"default\":0,\"kind\":null,\"name\":\"open_modal\"},{\"default\":0,\"kind\":null,\"name\":\"close_modal\"}]}],\"roots\":{\"references\":[{\"attributes\":{},\"id\":\"1149\",\"type\":\"NumberFormatter\"},{\"attributes\":{},\"id\":\"1158\",\"type\":\"UnionRenderers\"},{\"attributes\":{},\"id\":\"1125\",\"type\":\"StringEditor\"},{\"attributes\":{\"columns\":[{\"id\":\"1126\"},{\"id\":\"1131\"},{\"id\":\"1136\"},{\"id\":\"1141\"},{\"id\":\"1146\"},{\"id\":\"1151\"}],\"height\":300,\"reorderable\":false,\"source\":{\"id\":\"1122\"},\"view\":{\"id\":\"1156\"},\"width\":700},\"id\":\"1154\",\"type\":\"DataTable\"},{\"attributes\":{},\"id\":\"1130\",\"type\":\"IntEditor\"},{\"attributes\":{\"data\":{\"Algorithm\":{\"__ndarray__\":\"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\",\"dtype\":\"int32\",\"order\":\"little\",\"shape\":[533]},\"Class\":{\"__ndarray__\":\"AAAAAAAAAAAAAAAAAAAAAAEAAAAAAAAAAAAAAAEAAAABAAAAAQAAAAEAAAABAAAAAAAAAAEAAAAAAAAAAAAAAAAAAAAAAAAAAAAAAAAAAAABAAAAAAAAAAAAAAAAAAAAAAAAAAAAAAAAAAAAAQAAAAAAAAAAAAAAAAAAAAAAAAAAAAAAAAAAAAEAAAABAAAAAQAAAAAAAAAAAAAAAAAAAAAAAAAAAAAAAQAAAAAAAAAAAAAAAQAAAAAAAAAAAAAAAAAAAAAAAAAAAAAAAAAAAAAAAAAAAAAAAAAAAAAAAAAAAAAAAAAAAAAAAAABAAAAAQAAAAAAAAAAAAAAAQAAAAAAAAAAAAAAAAAAAAAAAAAAAAAAAAAAAAAAAAAAAAAAAAAAAAAAAAAAAAAAAAAAAAAAAAAAAAAAAAAAAAEAAAAAAAAAAQAAAAAAAAAAAAAAAAAAAAAAAAAAAAAAAAAAAAAAAAAAAAAAAAAAAAEAAAAAAAAAAAAAAAEAAAAAAAAAAAAAAAAAAAABAAAAAQAAAAEAAAABAAAAAAAAAAAAAAABAAAAAAAAAAEAAAAAAAAAAAAAAAAAAAABAAAAAAAAAAAAAAAAAAAAAAAAAAAAAAAAAAAAAQAAAAAAAAAAAAAAAAAAAAAAAAABAAAAAAAAAAAAAAAAAAAAAAAAAAAAAAAAAAAAAQAAAAAAAAAAAAAAAAAAAAAAAAAAAAAAAAAAAAEAAAABAAAAAAAAAAEAAAAAAAAAAAAAAAAAAAAAAAAAAQAAAAAAAAABAAAAAAAAAAAAAAAAAAAAAAAAAAAAAAAAAAAAAAAAAAEAAAAAAAAAAQAAAAAAAAAAAAAAAAAAAAEAAAAAAAAAAQAAAAEAAAAAAAAAAAAAAAAAAAAAAAAAAAAAAAAAAAAAAAAAAAAAAAEAAAAAAAAAAAAAAAAAAAAAAAAAAAAAAAAAAAAAAAAAAAAAAAAAAAABAAAAAAAAAAAAAAAAAAAAAAAAAAEAAAAAAAAAAAAAAAEAAAAAAAAAAAAAAAAAAAAAAAAAAQAAAAAAAAAAAAAAAQAAAAEAAAAAAAAAAAAAAAEAAAAAAAAAAQAAAAEAAAABAAAAAAAAAAAAAAAAAAAAAAAAAAAAAAABAAAAAAAAAAAAAAAAAAAAAQAAAAAAAAAAAAAAAAAAAAAAAAAAAAAAAAAAAAAAAAABAAAAAAAAAAEAAAAAAAAAAAAAAAEAAAAAAAAAAAAAAAEAAAABAAAAAAAAAAAAAAAAAAAAAAAAAAAAAAAAAAAAAQAAAAEAAAAAAAAAAAAAAAAAAAAAAAAAAQAAAAAAAAAAAAAAAQAAAAEAAAABAAAAAAAAAAEAAAAAAAAAAAAAAAEAAAAAAAAAAQAAAAEAAAAAAAAAAAAAAAAAAAAAAAAAAQAAAAAAAAAAAAAAAQAAAAAAAAABAAAAAAAAAAAAAAABAAAAAAAAAAEAAAABAAAAAQAAAAEAAAABAAAAAQAAAAEAAAAAAAAAAAAAAAAAAAAAAAAAAAAAAAAAAAAAAAAAAAAAAAAAAAAAAAAAAQAAAAAAAAAAAAAAAAAAAAEAAAABAAAAAAAAAAAAAAAAAAAAAAAAAAEAAAAAAAAAAAAAAAEAAAAAAAAAAAAAAAAAAAAAAAAAAAAAAAAAAAAAAAAAAQAAAAEAAAABAAAAAAAAAAEAAAAAAAAAAAAAAAAAAAABAAAAAQAAAAEAAAAAAAAAAAAAAAAAAAAAAAAAAQAAAAAAAAAAAAAAAAAAAAEAAAAAAAAAAQAAAAAAAAABAAAAAQAAAAEAAAAAAAAAAQAAAAAAAAAAAAAAAQAAAAAAAAABAAAAAQAAAAEAAAABAAAAAQAAAAAAAAABAAAAAAAAAAAAAAAAAAAAAAAAAAEAAAAAAAAAAQAAAAEAAAABAAAAAAAAAAAAAAAAAAAAAAAAAAAAAAAAAAAAAQAAAAEAAAABAAAAAAAAAAIAAAAAAAAAAAAAAAEAAAAAAAAAAQAAAAEAAAAAAAAAAQAAAAAAAAAAAAAAAAAAAAAAAAABAAAAAQAAAAAAAAAAAAAAAQAAAAAAAAABAAAAAQAAAAAAAAABAAAAAAAAAAAAAAAAAAAAAQAAAAEAAAABAAAAAQAAAAEAAAAAAAAAAQAAAAAAAAAAAAAAAQAAAAEAAAAAAAAAAAAAAAEAAAABAAAAAAAAAAAAAAABAAAAAQAAAAEAAAABAAAAAQAAAAAAAAABAAAAAQAAAAAAAAABAAAAAAAAAAAAAAABAAAAAQAAAAEAAAABAAAAAAAAAAEAAAAAAAAAAAAAAAEAAAAAAAAAAQAAAAAAAAABAAAAAAAAAAAAAAABAAAAAQAAAAAAAAABAAAAAAAAAAAAAAABAAAAAQAAAAAAAAABAAAAAAAAAAAAAAAAAAAAAAAAAAAAAAABAAAAAQAAAAAAAAABAAAAAAAAAAAAAAAAAAAAAQAAAAAAAAABAAAAAQAAAAEAAAABAAAAAAAAAAAAAAABAAAAAAAAAAEAAAABAAAAAAAAAAAAAAAAAAAAAAAAAAAAAAAAAAAAAAAAAAAAAAAAAAAAAAAAAAAAAAABAAAAAAAAAAAAAAAAAAAAAQAAAAAAAAABAAAAAAAAAAEAAAAAAAAAAAAAAAAAAAAAAAAAAAAAAAAAAAAAAAAAAAAAAAAAAAAAAAAAAQAAAAAAAAAAAAAAAQAAAAAAAAAAAAAAAAAAAAAAAAABAAAAAQAAAAAAAAAAAAAAAQAAAAEAAAAAAAAAAQAAAAEAAAABAAAAAQAAAAEAAAABAAAAAQAAAAIAAAABAAAAAQAAAAAAAAABAAAAAQAAAAEAAAA=\",\"dtype\":\"int32\",\"order\":\"little\",\"shape\":[533]},\"CoinName\":[\"42 Coin\",\"404Coin\",\"EliteCoin\",\"Bitcoin\",\"Ethereum\",\"Litecoin\",\"Dash\",\"Monero\",\"Ethereum Classic\",\"ZCash\",\"Bitshares\",\"DigiByte\",\"BitcoinDark\",\"PayCoin\",\"ProsperCoin\",\"KoboCoin\",\"Spreadcoin\",\"Argentum\",\"Aurora Coin\",\"BlueCoin\",\"MyriadCoin\",\"MoonCoin\",\"ZetaCoin\",\"SexCoin\",\"Quatloo\",\"EnergyCoin\",\"QuarkCoin\",\"Riecoin\",\"Digitalcoin \",\"BitBar\",\"Catcoin\",\"CryptoBullion\",\"CannaCoin\",\"CryptCoin\",\"CasinoCoin\",\"Diamond\",\"Verge\",\"DevCoin\",\"EarthCoin\",\"E-Gulden\",\"Einsteinium\",\"Emerald\",\"Exclusive Coin\",\"FlutterCoin\",\"Franko\",\"FeatherCoin\",\"GrandCoin\",\"GlobalCoin\",\"GoldCoin\",\"HoboNickels\",\"HyperStake\",\"Infinite Coin\",\"IOCoin\",\"IXcoin\",\"KrugerCoin\",\"LuckyCoin\",\"Litebar \",\"MaxCoin\",\"MegaCoin\",\"MediterraneanCoin\",\"MintCoin\",\"MinCoin\",\"MazaCoin\",\"Nautilus Coin\",\"NavCoin\",\"NobleCoin\",\"Namecoin\",\"NyanCoin\",\"OpalCoin\",\"Orbitcoin\",\"PotCoin\",\"PhoenixCoin\",\"Reddcoin\",\"RonPaulCoin\",\"StableCoin\",\"SmartCoin\",\"SuperCoin\",\"SyncCoin\",\"SysCoin\",\"TeslaCoin\",\"TigerCoin\",\"TittieCoin\",\"TorCoin\",\"TerraCoin\",\"UnbreakableCoin\",\"Unobtanium\",\"UroCoin\",\"UnitaryStatus Dollar\",\"UltraCoin\",\"ViaCoin\",\"VeriCoin\",\"Vertcoin\",\"WorldCoin\",\"X11 Coin\",\"Crypti\",\"JouleCoin\",\"StealthCoin\",\"ZCC Coin\",\"ByteCoin\",\"DigitalNote \",\"BurstCoin\",\"StorjCoin\",\"MonaCoin\",\"Neutron\",\"FairCoin\",\"Gulden\",\"RubyCoin\",\"PesetaCoin\",\"Kore\",\"Wild Beast Coin\",\"Dnotes\",\"Flo\",\"8BIT Coin\",\"Sativa Coin\",\"ArtByte\",\"Folding Coin\",\"Ucoin\",\"Unitus\",\"CypherPunkCoin\",\"OmniCron\",\"Vtorrent\",\"GreenCoin\",\"Cryptonite\",\"MasterCoin\",\"SoonCoin\",\"1Credit\",\"IslaCoin\",\"Nexus\",\"MarsCoin \",\"Crypto\",\"Anarchists Prime\",\"Droidz\",\"BowsCoin\",\"Squall Coin\",\"Song Coin\",\"BitZeny\",\"Diggits\",\"Expanse\",\"Paycon\",\"Siacoin\",\"Emercoin\",\"EverGreenCoin\",\"MindCoin\",\"I0coin\",\"Decred\",\"Revolution VR\",\"HOdlcoin\",\"EDRCoin\",\"Hitcoin\",\"Gamecredits\",\"DubaiCoin\",\"CarpeDiemCoin\",\"PWR Coin\",\"BillaryCoin\",\"GPU Coin\",\"Adzcoin\",\"SoilCoin\",\"YoCoin\",\"SibCoin\",\"EuropeCoin\",\"ZeitCoin\",\"SwingCoin\",\"SafeExchangeCoin\",\"Nebuchadnezzar\",\"Francs\",\"BolivarCoin\",\"Ratecoin\",\"Revenu\",\"Clockcoin\",\"VIP Tokens\",\"BitSend\",\"Omni\",\"Let it Ride\",\"PutinCoin\",\"iBankCoin\",\"Frankywillcoin\",\"MudraCoin\",\"PizzaCoin\",\"Lutetium Coin\",\"Komodo\",\"GoldBlocks\",\"CarterCoin\",\"Karbo\",\"BitTokens\",\"ZayedCoin\",\"MustangCoin\",\"ZoneCoin\",\"Circuits of Value\",\"RootCoin\",\"DopeCoin\",\"BitCurrency\",\"DollarCoin\",\"Swiscoin\",\"Shilling\",\"BuzzCoin\",\"Opair\",\"PesoBit\",\"Halloween Coin\",\"ZCoin\",\"CoffeeCoin\",\"RoyalCoin\",\"GanjaCoin V2\",\"TeamUP\",\"LanaCoin\",\"Elementrem\",\"ZClassic\",\"ARK\",\"InsaneCoin\",\"KiloCoin\",\"ArtexCoin\",\"EmberCoin\",\"XenixCoin\",\"FreeCoin\",\"PLNCoin\",\"AquariusCoin\",\"Kurrent\",\"Creatio\",\"Eternity\",\"Eurocoin\",\"BitcoinFast\",\"Stakenet\",\"BitConnect Coin\",\"MoneyCoin\",\"Enigma\",\"Cannabis Industry Coin\",\"Russiacoin\",\"PandaCoin\",\"GameUnits\",\"GAKHcoin\",\"Allsafe\",\"LiteCreed\",\"OsmiumCoin\",\"Bikercoins\",\"HexxCoin\",\"Klingon Empire Darsek\",\"Internet of People\",\"KushCoin\",\"Printerium\",\"PacCoin\",\"Impeach\",\"Citadel\",\"Zilbercoin\",\"FirstCoin\",\"BeaverCoin\",\"FindCoin\",\"VaultCoin\",\"Zero\",\"OpenChat\",\"Canada eCoin\",\"Zoin\",\"RenosCoin\",\"DubaiCoin\",\"VirtacoinPlus\",\"TajCoin\",\"Impact\",\"EB3coin\",\"Atmos\",\"HappyCoin\",\"Coinonat\",\"MacronCoin\",\"Condensate\",\"Independent Money System\",\"ArgusCoin\",\"LomoCoin\",\"ProCurrency\",\"GoldReserve\",\"BenjiRolls\",\"GrowthCoin\",\"ILCoin\",\"Phreak\",\"Degas Coin\",\"HTML5 Coin\",\"Ultimate Secure Cash\",\"EquiTrader\",\"QTUM\",\"Quantum Resistant Ledger\",\"Espers\",\"Dynamic\",\"Nano\",\"ChanCoin\",\"Dinastycoin\",\"Denarius\",\"DigitalPrice\",\"Virta Unique Coin\",\"Bitcoin Planet\",\"Unify\",\"BritCoin\",\"SocialCoin\",\"ArcticCoin\",\"DAS\",\"Linda\",\"LeviarCoin\",\"DeepOnion\",\"Bitcore\",\"gCn Coin\",\"SmartCash\",\"Signatum\",\"Onix\",\"Cream\",\"Bitcoin Cash\",\"Monoeci\",\"Draftcoin\",\"Vechain\",\"Sojourn Coin\",\"Stakecoin\",\"NewYorkCoin\",\"FrazCoin\",\"Kronecoin\",\"AdCoin\",\"Linx\",\"CoinonatX\",\"Ethereum Dark\",\"Sumokoin\",\"Obsidian\",\"Cardano\",\"Regalcoin\",\"BitcoinZ\",\"TrezarCoin\",\"Elements\",\"TerraNovaCoin\",\"VIVO Coin\",\"Rupee\",\"Bitcoin Gold\",\"WomenCoin\",\"Theresa May Coin\",\"NamoCoin\",\"LUXCoin\",\"Pirl\",\"Xios\",\"Bitcloud 2.0\",\"eBoost\",\"KekCoin\",\"BlackholeCoin\",\"Infinity Economics\",\"Pura\",\"Innova\",\"Ellaism\",\"GoByte\",\"Magnet\",\"Lamden Tau\",\"Electra\",\"Bitcoin Diamond\",\"SHIELD\",\"Cash & Back Coin\",\"UltraNote\",\"BitCoal\",\"DaxxCoin\",\"Bulwark\",\"Kalkulus\",\"AC3\",\"Lethean\",\"GermanCoin\",\"LiteCoin Ultra\",\"PopularCoin\",\"PhantomX\",\"Photon\",\"Sucre\",\"SparksPay\",\"Digiwage\",\"GunCoin\",\"IrishCoin\",\"Trollcoin\",\"Litecoin Plus\",\"Monkey Project\",\"Pioneer Coin\",\"UnitedBitcoin\",\"Interzone\",\"TokenPay\",\"1717 Masonic Commemorative Token\",\"My Big Coin\",\"TurtleCoin\",\"MUNcoin\",\"Unified Society USDEX\",\"Niobio Cash\",\"ShareChain\",\"Travelflex\",\"KREDS\",\"Tokyo Coin\",\"BiblePay\",\"LitecoinCash\",\"BitFlip\",\"LottoCoin\",\"Crypto Improvement Fund\",\"Stipend\",\"Poa Network\",\"Pushi\",\"Ellerium\",\"Velox\",\"Ontology\",\"Callisto Network\",\"BitTube\",\"Poseidon\",\"Aidos Kuneen\",\"Bitspace\",\"Briacoin\",\"Ignition\",\"Bitrolium\",\"MedicCoin\",\"Alpenschillling\",\"Bitcoin Green\",\"Deviant Coin\",\"Abjcoin\",\"Semux\",\"FuturoCoin\",\"Carebit\",\"Zealium\",\"Monero Classic\",\"Proton\",\"iDealCash\",\"Jumpcoin\",\"Infinex\",\"Bitcoin Incognito\",\"KEYCO\",\"HollyWoodCoin\",\"GINcoin\",\"PlatinCoin\",\"Loki\",\"Newton Coin\",\"Swisscoin\",\"Xt3ch\",\"MassGrid\",\"TheVig\",\"PluraCoin\",\"EmaratCoin\",\"Dekado\",\"Lynx\",\"Poseidon Quark\",\"BitcoinWSpectrum\",\"Muse\",\"Motion\",\"PlusOneCoin\",\"Axe\",\"Trivechain\",\"Dystem\",\"Giant\",\"Peony Coin\",\"Absolute Coin\",\"Vitae\",\"HexCoin\",\"TPCash\",\"Webchain\",\"Ryo\",\"Urals Coin\",\"Qwertycoin\",\"ARENON\",\"EUNO\",\"MMOCoin\",\"Ketan\",\"Project Pai\",\"XDNA\",\"PAXEX\",\"Azart\",\"ThunderStake\",\"Kcash\",\"Xchange\",\"Acute Angle Cloud\",\"CrypticCoin\",\"Bettex coin\",\"Actinium\",\"Bitcoin SV\",\"BitMoney\",\"Junson Ming Chan Coin\",\"FREDEnergy\",\"HerbCoin\",\"Universal Molecule\",\"Lithium\",\"PirateCash\",\"Exosis\",\"Block-Logic\",\"Oduwa\",\"Beam\",\"Galilel\",\"Bithereum\",\"Crypto Sports\",\"Credit\",\"SLICE\",\"Dash Platinum\",\"Nasdacoin\",\"Beetle Coin\",\"Titan Coin\",\"Award\",\"BLAST\",\"Bitcoin Rhodium\",\"GlobalToken\",\"Insane Coin\",\"ALAX\",\"LiteDoge\",\"SolarCoin\",\"TruckCoin\",\"UFO Coin\",\"OrangeCoin\",\"BlakeCoin\",\"BitstarCoin\",\"NeosCoin\",\"HyperCoin\",\"PinkCoin\",\"Crypto Escudo\",\"AudioCoin\",\"IncaKoin\",\"Piggy Coin\",\"Crown Coin\",\"Genstake\",\"SmileyCoin\",\"XiaoMiCoin\",\"Groestlcoin\",\"CapriCoin\",\" ClubCoin\",\"Radium\",\"Bata\",\"Pakcoin\",\"Creditbit \",\"OKCash\",\"Lisk\",\"HiCoin\",\"WhiteCoin\",\"FriendshipCoin\",\"Fiii\",\"JoinCoin\",\"Triangles Coin\",\"Vollar\",\"EOS\",\"Reality Clash\",\"Oxycoin\",\"TigerCash\",\"Waves\",\"Particl\",\"BitTorrent\",\"Nxt\",\"ZEPHYR\",\"Gapcoin\",\"Beldex\",\"Horizen\",\"BitcoinPlus\"],\"ProofType\":{\"__ndarray__\":\"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\",\"dtype\":\"int32\",\"order\":\"little\",\"shape\":[533]},\"TotalCoinSupply\":[\"42\",\"532000000\",\"314159265359\",\"21000000\",\"0\",\"84000000\",\"22000000\",\"0\",\"210000000\",\"21000000\",\"3600570502\",\"21000000000\",\"22000000\",\"12500000\",\"21000000\",\"350000000\",\"20000000\",\"64000000\",\"16768584\",\"0\",\"2000000000\",\"384000000000\",\"169795588\",\"250000000\",\"100000000\",\"0\",\"247000000\",\"84000000\",\"48166000\",\"500000\",\"21000000 \",\"1000000\",\"13140000\",\"18000000\",\"40000000000\",\"4380000\",\"16555000000\",\"21000000000\",\"13500000000\",\"21000000 \",\"299792458\",\"32000000\",\"0\",\"0\",\"11235813\",\"336000000\",\"1420609614\",\"70000000\",\"72245700\",\"120000000\",\"0\",\"90600000000\",\"22000000\",\"21000000\",\"265420800\",\"20000000\",\"1350000\",\"100000000\",\"42000000\",\"200000000\",\"0\",\"10000000\",\"2419200000\",\"16180000\",\"0\",\"15000000000\",\"21000000\",\"337000000\",\"0\",\"3770000\",\"420000000\",\"98000000\",\"0\",\"21000000\",\"250000000\",\"51200000\",\"0\",\"1000\",\"888000000\",\"100000000\",\"47011968\",\"2300000000\",\"10000000\",\"42000000\",\"80000000\",\"250000\",\"0\",\"1600000000\",\"100000000\",\"23000000\",\"0\",\"84000000\",\"265420800\",\"5500000\",\"0\",\"45000000\",\"0\",\"1000000000\",\"184467440735\",\"10000000000\",\"2158812800\",\"500000000\",\"105120000\",\"68000000\",\"0\",\"1680000000\",\"0\",\"166386000\",\"12000000\",\"2628000\",\"500000000\",\"160000000\",\"0\",\"10000000\",\"1000000000\",\"1000000000\",\"20000000\",\"0\",\"0\",\"3371337\",\"20000000\",\"10000000000\",\"1840000000\",\"619478\",\"21000000\",\"92000000000\",\"0\",\"78000000\",\"33000000\",\"65789100\",\"53760000\",\"5060000\",\"21000000\",\"0\",\"210240000\",\"250000000\",\"100000000\",\"16906397\",\"50000000\",\"0\",\"1000000000\",\"26298000\",\"16000000\",\"21000000\",\"21000000\",\"210000000\",\"81962100\",\"22000000\",\"26550000000\",\"84000000\",\"10500000\",\"21626280000 \",\"0\",\"42000000\",\"221052632\",\"84000000\",\"30000000\",\"168351300\",\"24000000\",\"384000000\",\" 99000000000\",\"40000000\",\"2147483647\",\"20000000\",\"20000000\",\"25000000\",\"75000000\",\"222725000\",\"525000000\",\"90000000\",\"139000000\",\"616448\",\"33500000\",\"2000000000\",\"44333333\",\"100000000\",\"200000000\",\"25000000\",\"657000000\",\"200000000\",\"50000000\",\"90000000\",\"10000000\",\"21000000\",\"9736000\",\"3000000\",\"21000000\",\"1200000000\",\"0\",\"200000000\",\"0\",\"10638298\",\"3100000000\",\"30000000\",\"20000000000\",\"74000000\",\"0\",\"1500000000\",\"21400000\",\"39999898\",\"2500124\",\"100000000\",\"301000000\",\"7506000000\",\"26205539\",\"21000000\",\"125000000\",\"30000000\",\"10000000000\",\"500000000\",\"850000000\",\"3853326.77707314\",\"50000000\",\"38540000 \",\"42000000\",\"228000000\",\"20000000\",\"60000000\",\"20000000\",\"33000000\",\"76500000\",\"28000000\",\"650659833\",\"5000000\",\"21000000\",\"144000000\",\"32514916898\",\"13000000\",\"3315789\",\"15000000\",\"78835200\",\"2714286\",\"25000000\",\"9999999\",\"500000000\",\"21000000\",\"9354000\",\"20000000\",\"100000000000\",\"21933333\",\"185000000\",\"55000000\",\"110000000\",\"3360000\",\"14524851.4827\",\"1000000000\",\"17000000\",\"1000000000\",\"100000000 \",\"21000000\",\"34426423\",\"2232901\",\"100000000\",\"36900000\",\"110000000\",\"4000000000\",\"110290030\",\"100000000\",\"48252000\",\"400000000\",\"500000000\",\"21212121\",\"28600000\",\"1000000000\",\"75000000000\",\"40000000\",\"35520400\",\"2000000000\",\"2500000000\",\"30000000\",\"105000000\",\"90000000000\",\"200084200\",\"72000000\",\"100000000\",\"105000000\",\"50000000000\",\"0\",\"340282367\",\"30000000\",\"2000000000\",\"10000000\",\"100000000\",\"120000000\",\"100000000\",\"19276800\",\"30000000\",\" 75000000\",\"60000000\",\"18900000\",\"50000000000\",\"54000000\",\"18898187.6216583\",\"21000000\",\"200000000000\",\"5000000000\",\"137500000\",\"1100000000\",\"100000000\",\"21000000\",\"9507271\",\"17405891.19707116\",\"86712634466\",\"10500000000\",\"61599965\",\"0\",\"20000000\",\"84000000\",\"100000000\",\"100000000\",\"48252000\",\"4200000\",\"88888888\",\"91388946\",\"45000000000\",\"27000000\",\"21000000000\",\"400000000\",\"1800000000\",\"15733333\",\"27000000\",\"24000000\",\"21000000\",\"25000000000\",\"100000000\",\"1200000000\",\"60000000\",\"156306732.71\",\"21000000\",\"200000000\",\"100000000\",\"21000000\",\"14788275.991\",\"9000000000\",\"350000000\",\"45000000\",\"280000000\",\"31800000\",\"144000000\",\"500000000\",\"30000000000\",\"210000000\",\"660000000\",\"210000000\",\"85000000000\",\"12500000\",\"10000000000\",\"27716121\",\"20000000\",\"550000000\",\"999481516\",\"50000000000\",\"150000000\",\"4999999999\",\"50000000\",\" 90000000000\",\"19800000\",\"21000000\",\"120000000\",\"500000000\",\"64000000\",\"900000000\",\"4000000\",\"21000000\",\"23000000\",\"20166000\",\"23000000\",\"25000000\",\"1618033\",\"30000000\",\"1000000000000\",\"16600000\",\"232000000\",\"336000000\",\"10000000000\",\"100000000\",\"1100000000\",\"800000000\",\"5200000000\",\"840000000\",\"40000000\",\"18406979840\",\"500000000\",\"19340594\",\"252460800\",\"25000000\",\"60000000\",\"124000000\",\"1000000000\",\"6500000000\",\"1000000000\",\"21000000\",\"25000000\",\"50000000\",\"3000000\",\"5000000\",\"70000000\",\"500000000\",\"300000000\",\"21000000\",\"88000000\",\"30000000\",\"100000000\",\"100000000\",\"200000000\",\"80000000\",\"18400000\",\"45000000\",\"5121951220\",\"21000000\",\"26280000\",\"21000000\",\"18000000\",\"26000000\",\"10500000\",\"600000518\",\"150000000\",\"184000000000\",\"10200000000\",\"44000000\",\"168000000\",\"100000000\",\"1000000000\",\"84000000\",\"90000000\",\"92000000000\",\"650000000 \",\"100262205\",\"18081806 \",\"22075700\",\"21000000\",\"21000000\",\"82546564\",\"21000000\",\"5151000\",\"16880000000\",\"52500000\",\"100000000\",\"22105263\",\"1000000000\",\"1750000000\",\"88188888\",\"210000000\",\"184470000000\",\"55000000\",\"50000000\",\"260000000\",\"210000000\",\"2100000000\",\"366000000\",\"100000000\",\"25000000\",\"18000000000\",\"1000000000\",\"100000000\",\"1000000000\",\"7600000000\",\"50000000\",\"84000000\",\"21000000\",\"70000000000\",\"0\",\"8080000000\",\"54000000\",\"105120001.44\",\"25228800\",\"105000000\",\"21000000\",\"120000000\",\"21000000\",\"262800000\",\"19035999\",\"30886000\",\"13370000\",\"74800000000\",\"100000000\",\"19700000\",\"84000000\",\"500000000\",\"5000000000\",\"420000000\",\"64000000\",\"2100000\",\"168000000\",\"30000000\",\"1000000000\",\"35000000000\",\"98100000000\",\"0\",\"4000000000\",\"200000000\",\"7000000000\",\"54256119\",\"21000000\",\"0\",\"500000000\",\"1000000000\",\"10500000000\",\"190000000\",\"1000000000\",\"42000000\",\"15000000\",\"50000000000\",\"400000000\",\"105000000\",\"208000000\",\"160000000\",\"9000000\",\"5000000\",\"182000000\",\"16504333\",\"105000000\",\"159918400\",\"10008835635\",\"300000000\",\"60168145\",\"5000000000\",\"2800000\",\"120000\",\"2100000000\",\"0\",\"24487944\",\"0\",\"1000000000\",\"100000000\",\"8634140\",\"990000000000\",\"1000000000\",\"2000000000\",\"250000000\",\"1400222610\",\"21000000\",\"1000000\"],\"TotalCoinsMined\":{\"__ndarray__\":\"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\",\"dtype\":\"float64\",\"order\":\"little\",\"shape\":[533]}},\"selected\":{\"id\":\"1123\"},\"selection_policy\":{\"id\":\"1158\"}},\"id\":\"1122\",\"type\":\"ColumnDataSource\"},{\"attributes\":{\"editor\":{\"id\":\"1145\"},\"field\":\"TotalCoinsMined\",\"formatter\":{\"id\":\"1144\"},\"title\":\"TotalCoinsMined\"},\"id\":\"1146\",\"type\":\"TableColumn\"},{\"attributes\":{},\"id\":\"1135\",\"type\":\"IntEditor\"},{\"attributes\":{\"editor\":{\"id\":\"1130\"},\"field\":\"Algorithm\",\"formatter\":{\"id\":\"1129\"},\"title\":\"Algorithm\"},\"id\":\"1131\",\"type\":\"TableColumn\"},{\"attributes\":{},\"id\":\"1123\",\"type\":\"Selection\"},{\"attributes\":{},\"id\":\"1129\",\"type\":\"NumberFormatter\"},{\"attributes\":{\"margin\":[5,5,5,5],\"name\":\"HSpacer01801\",\"sizing_mode\":\"stretch_width\"},\"id\":\"1161\",\"type\":\"Spacer\"},{\"attributes\":{},\"id\":\"1134\",\"type\":\"NumberFormatter\"},{\"attributes\":{\"children\":[{\"id\":\"1121\"},{\"id\":\"1154\"},{\"id\":\"1161\"}],\"margin\":[0,0,0,0],\"name\":\"Row01796\",\"tags\":[\"embedded\"]},\"id\":\"1120\",\"type\":\"Row\"},{\"attributes\":{},\"id\":\"1139\",\"type\":\"StringFormatter\"},{\"attributes\":{},\"id\":\"1150\",\"type\":\"IntEditor\"},{\"attributes\":{\"editor\":{\"id\":\"1150\"},\"field\":\"Class\",\"formatter\":{\"id\":\"1149\"},\"title\":\"Class\"},\"id\":\"1151\",\"type\":\"TableColumn\"},{\"attributes\":{},\"id\":\"1124\",\"type\":\"StringFormatter\"},{\"attributes\":{},\"id\":\"1145\",\"type\":\"NumberEditor\"},{\"attributes\":{\"source\":{\"id\":\"1122\"}},\"id\":\"1156\",\"type\":\"CDSView\"},{\"attributes\":{\"editor\":{\"id\":\"1135\"},\"field\":\"ProofType\",\"formatter\":{\"id\":\"1134\"},\"title\":\"ProofType\"},\"id\":\"1136\",\"type\":\"TableColumn\"},{\"attributes\":{\"editor\":{\"id\":\"1125\"},\"field\":\"CoinName\",\"formatter\":{\"id\":\"1124\"},\"title\":\"CoinName\"},\"id\":\"1126\",\"type\":\"TableColumn\"},{\"attributes\":{},\"id\":\"1140\",\"type\":\"StringEditor\"},{\"attributes\":{\"format\":\"0,0.0[00000]\"},\"id\":\"1144\",\"type\":\"NumberFormatter\"},{\"attributes\":{\"editor\":{\"id\":\"1140\"},\"field\":\"TotalCoinSupply\",\"formatter\":{\"id\":\"1139\"},\"title\":\"TotalCoinSupply\"},\"id\":\"1141\",\"type\":\"TableColumn\"},{\"attributes\":{\"margin\":[5,5,5,5],\"name\":\"HSpacer01800\",\"sizing_mode\":\"stretch_width\"},\"id\":\"1121\",\"type\":\"Spacer\"}],\"root_ids\":[\"1120\"]},\"title\":\"Bokeh Application\",\"version\":\"2.3.2\"}};\n",
       "    var render_items = [{\"docid\":\"482feeaa-e312-4a80-9407-d1012e5c1ef7\",\"root_ids\":[\"1120\"],\"roots\":{\"1120\":\"d2979af4-a346-4cfa-9979-8f2b02c39981\"}}];\n",
       "    root.Bokeh.embed.embed_items_notebook(docs_json, render_items);\n",
       "  }\n",
       "  if (root.Bokeh !== undefined && root.Bokeh.Panel !== undefined) {\n",
       "    embed_document(root);\n",
       "  } else {\n",
       "    var attempts = 0;\n",
       "    var timer = setInterval(function(root) {\n",
       "      if (root.Bokeh !== undefined && root.Bokeh.Panel !== undefined) {\n",
       "        clearInterval(timer);\n",
       "        embed_document(root);\n",
       "      } else if (document.readyState == \"complete\") {\n",
       "        attempts++;\n",
       "        if (attempts > 200) {\n",
       "          clearInterval(timer);\n",
       "          console.log(\"Bokeh: ERROR: Unable to run BokehJS code because BokehJS library is missing\");\n",
       "        }\n",
       "      }\n",
       "    }, 25, root)\n",
       "  }\n",
       "})(window);</script>"
      ],
      "text/plain": [
       ":Table   [CoinName,Algorithm,ProofType,TotalCoinSupply,TotalCoinsMined,Class]"
      ]
     },
     "execution_count": 87,
     "metadata": {
      "application/vnd.holoviews_exec.v0+json": {
       "id": "1120"
      }
     },
     "output_type": "execute_result"
    }
   ],
   "source": [
    "# Table with tradable cryptos\n",
    "clustered_df.hvplot.table(columns=['CoinName', 'Algorithm', 'ProofType', 'TotalCoinSupply', 'TotalCoinsMined', 'Class'], sortable=True, selectable=True)"
   ]
  },
  {
   "cell_type": "code",
   "execution_count": 90,
   "metadata": {},
   "outputs": [
    {
     "data": {
      "text/plain": [
       "533"
      ]
     },
     "execution_count": 90,
     "metadata": {},
     "output_type": "execute_result"
    }
   ],
   "source": [
    "# Print the total number of tradable cryptocurrencies\n",
    "len(clustered_df.CoinName)"
   ]
  },
  {
   "cell_type": "markdown",
   "metadata": {},
   "source": [
    "#### Scatter Plot with Tradable Cryptocurrencies"
   ]
  },
  {
   "cell_type": "code",
   "execution_count": 91,
   "metadata": {},
   "outputs": [],
   "source": [
    "# Scale data to create the scatter plot\n"
   ]
  },
  {
   "cell_type": "code",
   "execution_count": 93,
   "metadata": {},
   "outputs": [
    {
     "data": {},
     "metadata": {},
     "output_type": "display_data"
    },
    {
     "data": {
      "application/vnd.holoviews_exec.v0+json": "",
      "text/html": [
       "<div id='1480'>\n",
       "\n",
       "\n",
       "\n",
       "\n",
       "\n",
       "  <div class=\"bk-root\" id=\"d1addf2e-ee12-4017-83d0-306db5f2fc24\" data-root-id=\"1480\"></div>\n",
       "</div>\n",
       "<script type=\"application/javascript\">(function(root) {\n",
       "  function embed_document(root) {\n",
       "    var docs_json = {\"14a885f0-c5fa-4fb6-ac6e-c4c7636ab5a0\":{\"defs\":[{\"extends\":null,\"module\":null,\"name\":\"ReactiveHTML1\",\"overrides\":[],\"properties\":[]},{\"extends\":null,\"module\":null,\"name\":\"FlexBox1\",\"overrides\":[],\"properties\":[{\"default\":\"flex-start\",\"kind\":null,\"name\":\"align_content\"},{\"default\":\"flex-start\",\"kind\":null,\"name\":\"align_items\"},{\"default\":\"row\",\"kind\":null,\"name\":\"flex_direction\"},{\"default\":\"wrap\",\"kind\":null,\"name\":\"flex_wrap\"},{\"default\":\"flex-start\",\"kind\":null,\"name\":\"justify_content\"}]},{\"extends\":null,\"module\":null,\"name\":\"TemplateActions1\",\"overrides\":[],\"properties\":[{\"default\":0,\"kind\":null,\"name\":\"open_modal\"},{\"default\":0,\"kind\":null,\"name\":\"close_modal\"}]},{\"extends\":null,\"module\":null,\"name\":\"MaterialTemplateActions1\",\"overrides\":[],\"properties\":[{\"default\":0,\"kind\":null,\"name\":\"open_modal\"},{\"default\":0,\"kind\":null,\"name\":\"close_modal\"}]}],\"roots\":{\"references\":[{\"attributes\":{},\"id\":\"1504\",\"type\":\"PanTool\"},{\"attributes\":{},\"id\":\"1505\",\"type\":\"WheelZoomTool\"},{\"attributes\":{},\"id\":\"1518\",\"type\":\"BasicTickFormatter\"},{\"attributes\":{},\"id\":\"1507\",\"type\":\"ResetTool\"},{\"attributes\":{},\"id\":\"1497\",\"type\":\"BasicTicker\"},{\"attributes\":{\"overlay\":{\"id\":\"1508\"}},\"id\":\"1506\",\"type\":\"BoxZoomTool\"},{\"attributes\":{\"fill_color\":{\"value\":\"#fc4f30\"},\"line_color\":{\"value\":\"#fc4f30\"},\"size\":{\"value\":5.477225575051661},\"x\":{\"field\":\"TotalCoinsMined\"},\"y\":{\"field\":\"TotalCoinSupply\"}},\"id\":\"1546\",\"type\":\"Scatter\"},{\"attributes\":{\"margin\":[5,5,5,5],\"name\":\"HSpacer02625\",\"sizing_mode\":\"stretch_width\"},\"id\":\"1481\",\"type\":\"Spacer\"},{\"attributes\":{\"axis\":{\"id\":\"1496\"},\"grid_line_color\":null,\"ticker\":null},\"id\":\"1499\",\"type\":\"Grid\"},{\"attributes\":{\"text_color\":\"black\",\"text_font_size\":\"12pt\"},\"id\":\"1488\",\"type\":\"Title\"},{\"attributes\":{\"fill_alpha\":{\"value\":0.2},\"fill_color\":{\"value\":\"#e5ae38\"},\"line_alpha\":{\"value\":0.2},\"line_color\":{\"value\":\"#e5ae38\"},\"size\":{\"value\":5.477225575051661},\"x\":{\"field\":\"TotalCoinsMined\"},\"y\":{\"field\":\"TotalCoinSupply\"}},\"id\":\"1570\",\"type\":\"Scatter\"},{\"attributes\":{},\"id\":\"1520\",\"type\":\"AllLabels\"},{\"attributes\":{},\"id\":\"1492\",\"type\":\"LinearScale\"},{\"attributes\":{\"margin\":[5,5,5,5],\"name\":\"HSpacer02626\",\"sizing_mode\":\"stretch_width\"},\"id\":\"1715\",\"type\":\"Spacer\"},{\"attributes\":{\"angle\":{\"value\":0.0},\"fill_alpha\":{\"value\":1.0},\"fill_color\":{\"value\":\"#fc4f30\"},\"hatch_alpha\":{\"value\":1.0},\"hatch_color\":{\"value\":\"black\"},\"hatch_scale\":{\"value\":12.0},\"hatch_weight\":{\"value\":1.0},\"line_alpha\":{\"value\":1.0},\"line_cap\":{\"value\":\"butt\"},\"line_color\":{\"value\":\"#fc4f30\"},\"line_dash\":{\"value\":[]},\"line_dash_offset\":{\"value\":0},\"line_join\":{\"value\":\"bevel\"},\"line_width\":{\"value\":1},\"marker\":{\"value\":\"circle\"},\"size\":{\"value\":5.477225575051661},\"x\":{\"field\":\"TotalCoinsMined\"},\"y\":{\"field\":\"TotalCoinSupply\"}},\"id\":\"1564\",\"type\":\"Scatter\"},{\"attributes\":{\"label\":{\"value\":\"1\"},\"renderers\":[{\"id\":\"1549\"}]},\"id\":\"1563\",\"type\":\"LegendItem\"},{\"attributes\":{},\"id\":\"1494\",\"type\":\"CategoricalScale\"},{\"attributes\":{\"click_policy\":\"mute\",\"items\":[{\"id\":\"1541\"},{\"id\":\"1563\"},{\"id\":\"1587\"}],\"location\":[0,0],\"title\":\"Class\"},\"id\":\"1540\",\"type\":\"Legend\"},{\"attributes\":{},\"id\":\"1501\",\"type\":\"CategoricalTicker\"},{\"attributes\":{\"axis_label\":\"TotalCoinsMined\",\"formatter\":{\"id\":\"1518\"},\"major_label_policy\":{\"id\":\"1517\"},\"ticker\":{\"id\":\"1497\"}},\"id\":\"1496\",\"type\":\"LinearAxis\"},{\"attributes\":{\"fill_alpha\":{\"value\":0.1},\"fill_color\":{\"value\":\"#e5ae38\"},\"line_alpha\":{\"value\":0.1},\"line_color\":{\"value\":\"#e5ae38\"},\"size\":{\"value\":5.477225575051661},\"x\":{\"field\":\"TotalCoinsMined\"},\"y\":{\"field\":\"TotalCoinSupply\"}},\"id\":\"1569\",\"type\":\"Scatter\"},{\"attributes\":{},\"id\":\"1544\",\"type\":\"Selection\"},{\"attributes\":{\"source\":{\"id\":\"1543\"}},\"id\":\"1550\",\"type\":\"CDSView\"},{\"attributes\":{\"angle\":{\"value\":0.0},\"fill_alpha\":{\"value\":1.0},\"fill_color\":{\"value\":\"#e5ae38\"},\"hatch_alpha\":{\"value\":1.0},\"hatch_color\":{\"value\":\"black\"},\"hatch_scale\":{\"value\":12.0},\"hatch_weight\":{\"value\":1.0},\"line_alpha\":{\"value\":1.0},\"line_cap\":{\"value\":\"butt\"},\"line_color\":{\"value\":\"#e5ae38\"},\"line_dash\":{\"value\":[]},\"line_dash_offset\":{\"value\":0},\"line_join\":{\"value\":\"bevel\"},\"line_width\":{\"value\":1},\"marker\":{\"value\":\"circle\"},\"size\":{\"value\":5.477225575051661},\"x\":{\"field\":\"TotalCoinsMined\"},\"y\":{\"field\":\"TotalCoinSupply\"}},\"id\":\"1588\",\"type\":\"Scatter\"},{\"attributes\":{},\"id\":\"1517\",\"type\":\"AllLabels\"},{\"attributes\":{},\"id\":\"1539\",\"type\":\"UnionRenderers\"},{\"attributes\":{\"source\":{\"id\":\"1522\"}},\"id\":\"1529\",\"type\":\"CDSView\"},{\"attributes\":{\"data\":{\"Class\":[1,1,1,1,1,1,1,1,1,1,1,1,1,1,1,1,1,1,1,1,1,1,1,1,1,1,1,1,1,1,1,1,1,1,1,1,1,1,1,1,1,1,1,1,1,1,1,1,1,1,1,1,1,1,1,1,1,1,1,1,1,1,1,1,1,1,1,1,1,1,1,1,1,1,1,1,1,1,1,1,1,1,1,1,1,1,1,1,1,1,1,1,1,1,1,1,1,1,1,1,1,1,1,1,1,1,1,1,1,1,1,1,1,1,1,1,1,1,1,1,1,1,1,1,1,1,1,1,1,1,1,1,1,1,1,1,1,1,1,1,1,1,1,1,1,1,1,1,1,1,1,1,1,1,1,1,1,1,1,1,1,1,1,1,1,1,1,1,1,1,1,1,1,1,1,1,1,1,1,1,1,1,1,1,1,1,1,1],\"CoinName\":[\"Ethereum\",\"Monero\",\"Ethereum Classic\",\"ZCash\",\"Bitshares\",\"DigiByte\",\"PayCoin\",\"MyriadCoin\",\"Riecoin\",\"CasinoCoin\",\"Diamond\",\"Verge\",\"Exclusive Coin\",\"FeatherCoin\",\"MediterraneanCoin\",\"MintCoin\",\"Nautilus Coin\",\"TeslaCoin\",\"TittieCoin\",\"Vertcoin\",\"Crypti\",\"ByteCoin\",\"DigitalNote \",\"BurstCoin\",\"StorjCoin\",\"FairCoin\",\"RubyCoin\",\"Dnotes\",\"Unitus\",\"Cryptonite\",\"Crypto\",\"Diggits\",\"Expanse\",\"Siacoin\",\"Decred\",\"HOdlcoin\",\"GPU Coin\",\"SoilCoin\",\"ZeitCoin\",\"SafeExchangeCoin\",\"Nebuchadnezzar\",\"Let it Ride\",\"Karbo\",\"Circuits of Value\",\"BitCurrency\",\"Opair\",\"ZCoin\",\"CoffeeCoin\",\"TeamUP\",\"Elementrem\",\"ZClassic\",\"ARK\",\"FreeCoin\",\"Creatio\",\"Cannabis Industry Coin\",\"PandaCoin\",\"Allsafe\",\"Bikercoins\",\"HexxCoin\",\"Citadel\",\"Zilbercoin\",\"Zero\",\"Zoin\",\"RenosCoin\",\"DubaiCoin\",\"TajCoin\",\"Atmos\",\"Coinonat\",\"MacronCoin\",\"ProCurrency\",\"GrowthCoin\",\"Phreak\",\"Ultimate Secure Cash\",\"QTUM\",\"Quantum Resistant Ledger\",\"Espers\",\"Dynamic\",\"Nano\",\"ChanCoin\",\"Dinastycoin\",\"LeviarCoin\",\"SmartCash\",\"Signatum\",\"Draftcoin\",\"Stakecoin\",\"Sumokoin\",\"Obsidian\",\"Cardano\",\"BitcoinZ\",\"VIVO Coin\",\"Rupee\",\"Bitcoin Gold\",\"Pirl\",\"KekCoin\",\"Infinity Economics\",\"Innova\",\"Ellaism\",\"GoByte\",\"Lamden Tau\",\"SHIELD\",\"UltraNote\",\"BitCoal\",\"DaxxCoin\",\"Bulwark\",\"Kalkulus\",\"Lethean\",\"Photon\",\"SparksPay\",\"Digiwage\",\"GunCoin\",\"Interzone\",\"TokenPay\",\"1717 Masonic Commemorative Token\",\"Niobio Cash\",\"Travelflex\",\"KREDS\",\"BiblePay\",\"Stipend\",\"Poa Network\",\"Velox\",\"Callisto Network\",\"BitTube\",\"Aidos Kuneen\",\"Bitrolium\",\"MedicCoin\",\"Alpenschillling\",\"Bitcoin Green\",\"Deviant Coin\",\"Semux\",\"Zealium\",\"Monero Classic\",\"Jumpcoin\",\"Infinex\",\"HollyWoodCoin\",\"GINcoin\",\"PlatinCoin\",\"Loki\",\"Newton Coin\",\"Xt3ch\",\"MassGrid\",\"PluraCoin\",\"Lynx\",\"Poseidon Quark\",\"BitcoinWSpectrum\",\"Muse\",\"PlusOneCoin\",\"Dystem\",\"Peony Coin\",\"Vitae\",\"Webchain\",\"Ryo\",\"Qwertycoin\",\"MMOCoin\",\"Ketan\",\"XDNA\",\"Acute Angle Cloud\",\"CrypticCoin\",\"Actinium\",\"FREDEnergy\",\"Universal Molecule\",\"Lithium\",\"PirateCash\",\"Exosis\",\"Beam\",\"Bithereum\",\"Crypto Sports\",\"ALAX\",\"UFO Coin\",\"BlakeCoin\",\"NeosCoin\",\"Groestlcoin\",\"Radium\",\"Lisk\",\"HiCoin\",\"Fiii\",\"JoinCoin\",\"Vollar\",\"EOS\",\"Reality Clash\",\"Oxycoin\",\"TigerCash\",\"Waves\",\"Particl\",\"Nxt\",\"ZEPHYR\",\"Beldex\",\"Horizen\",\"BitcoinPlus\"],\"TotalCoinSupply\":[\"0\",\"0\",\"210000000\",\"21000000\",\"3600570502\",\"21000000000\",\"12500000\",\"2000000000\",\"84000000\",\"40000000000\",\"4380000\",\"16555000000\",\"0\",\"336000000\",\"200000000\",\"0\",\"16180000\",\"100000000\",\"2300000000\",\"84000000\",\"0\",\"184467440735\",\"10000000000\",\"2158812800\",\"500000000\",\"0\",\"0\",\"500000000\",\"0\",\"1840000000\",\"65789100\",\"100000000\",\"16906397\",\"0\",\"21000000\",\"81962100\",\"221052632\",\"30000000\",\" 99000000000\",\"2147483647\",\"20000000\",\"33500000\",\"10000000\",\"1200000000\",\"0\",\"74000000\",\"21400000\",\"39999898\",\"301000000\",\"26205539\",\"21000000\",\"125000000\",\"50000000\",\"20000000\",\"21000000\",\"32514916898\",\"15000000\",\"25000000\",\"9999999\",\"185000000\",\"55000000\",\"17000000\",\"21000000\",\"34426423\",\"2232901\",\"36900000\",\"110290030\",\"48252000\",\"400000000\",\"75000000000\",\"2000000000\",\"30000000\",\"200084200\",\"100000000\",\"105000000\",\"50000000000\",\"0\",\"340282367\",\"30000000\",\"2000000000\",\"54000000\",\"5000000000\",\"137500000\",\"17405891.19707116\",\"61599965\",\"88888888\",\"91388946\",\"45000000000\",\"21000000000\",\"27000000\",\"24000000\",\"21000000\",\"156306732.71\",\"21000000\",\"9000000000\",\"45000000\",\"280000000\",\"31800000\",\"500000000\",\"660000000\",\"85000000000\",\"12500000\",\"10000000000\",\"27716121\",\"20000000\",\"999481516\",\" 90000000000\",\"21000000\",\"120000000\",\"500000000\",\"23000000\",\"25000000\",\"1618033\",\"336000000\",\"100000000\",\"1100000000\",\"5200000000\",\"19340594\",\"252460800\",\"124000000\",\"6500000000\",\"1000000000\",\"25000000\",\"70000000\",\"500000000\",\"300000000\",\"21000000\",\"88000000\",\"100000000\",\"80000000\",\"18400000\",\"21000000\",\"26280000\",\"26000000\",\"10500000\",\"600000518\",\"150000000\",\"184000000000\",\"44000000\",\"168000000\",\"1000000000\",\"92000000000\",\"650000000 \",\"100262205\",\"18081806 \",\"21000000\",\"21000000\",\"16880000000\",\"100000000\",\"1750000000\",\"88188888\",\"184470000000\",\"260000000\",\"210000000\",\"366000000\",\"1000000000\",\"7600000000\",\"84000000\",\"8080000000\",\"105120001.44\",\"25228800\",\"105000000\",\"21000000\",\"262800000\",\"30886000\",\"13370000\",\"1000000000\",\"4000000000\",\"7000000000\",\"21000000\",\"105000000\",\"9000000\",\"159918400\",\"10008835635\",\"5000000000\",\"2800000\",\"2100000000\",\"0\",\"24487944\",\"0\",\"1000000000\",\"100000000\",\"8634140\",\"1000000000\",\"2000000000\",\"1400222610\",\"21000000\",\"1000000\"],\"TotalCoinsMined\":{\"__ndarray__\":\"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\",\"dtype\":\"float64\",\"order\":\"little\",\"shape\":[188]}},\"selected\":{\"id\":\"1544\"},\"selection_policy\":{\"id\":\"1562\"}},\"id\":\"1543\",\"type\":\"ColumnDataSource\"},{\"attributes\":{},\"id\":\"1562\",\"type\":\"UnionRenderers\"},{\"attributes\":{\"axis_label\":\"TotalCoinSupply\",\"formatter\":{\"id\":\"1521\"},\"major_label_policy\":{\"id\":\"1520\"},\"ticker\":{\"id\":\"1501\"}},\"id\":\"1500\",\"type\":\"CategoricalAxis\"},{\"attributes\":{\"active_multi\":null,\"tools\":[{\"id\":\"1484\"},{\"id\":\"1503\"},{\"id\":\"1504\"},{\"id\":\"1505\"},{\"id\":\"1506\"},{\"id\":\"1507\"}]},\"id\":\"1509\",\"type\":\"Toolbar\"},{\"attributes\":{\"axis\":{\"id\":\"1500\"},\"dimension\":1,\"grid_line_color\":null,\"ticker\":null},\"id\":\"1502\",\"type\":\"Grid\"},{\"attributes\":{},\"id\":\"1566\",\"type\":\"Selection\"},{\"attributes\":{\"fill_alpha\":{\"value\":0.2},\"fill_color\":{\"value\":\"#30a2da\"},\"line_alpha\":{\"value\":0.2},\"line_color\":{\"value\":\"#30a2da\"},\"size\":{\"value\":5.477225575051661},\"x\":{\"field\":\"TotalCoinsMined\"},\"y\":{\"field\":\"TotalCoinSupply\"}},\"id\":\"1527\",\"type\":\"Scatter\"},{\"attributes\":{\"label\":{\"value\":\"0\"},\"renderers\":[{\"id\":\"1528\"}]},\"id\":\"1541\",\"type\":\"LegendItem\"},{\"attributes\":{\"source\":{\"id\":\"1565\"}},\"id\":\"1572\",\"type\":\"CDSView\"},{\"attributes\":{\"angle\":{\"value\":0.0},\"fill_alpha\":{\"value\":1.0},\"fill_color\":{\"value\":\"#30a2da\"},\"hatch_alpha\":{\"value\":1.0},\"hatch_color\":{\"value\":\"black\"},\"hatch_scale\":{\"value\":12.0},\"hatch_weight\":{\"value\":1.0},\"line_alpha\":{\"value\":1.0},\"line_cap\":{\"value\":\"butt\"},\"line_color\":{\"value\":\"#30a2da\"},\"line_dash\":{\"value\":[]},\"line_dash_offset\":{\"value\":0},\"line_join\":{\"value\":\"bevel\"},\"line_width\":{\"value\":1},\"marker\":{\"value\":\"circle\"},\"size\":{\"value\":5.477225575051661},\"x\":{\"field\":\"TotalCoinsMined\"},\"y\":{\"field\":\"TotalCoinSupply\"}},\"id\":\"1542\",\"type\":\"Scatter\"},{\"attributes\":{\"bottom_units\":\"screen\",\"fill_alpha\":0.5,\"fill_color\":\"lightgrey\",\"left_units\":\"screen\",\"level\":\"overlay\",\"line_alpha\":1.0,\"line_color\":\"black\",\"line_dash\":[4,4],\"line_width\":2,\"right_units\":\"screen\",\"syncable\":false,\"top_units\":\"screen\"},\"id\":\"1508\",\"type\":\"BoxAnnotation\"},{\"attributes\":{\"data_source\":{\"id\":\"1543\"},\"glyph\":{\"id\":\"1546\"},\"hover_glyph\":null,\"muted_glyph\":{\"id\":\"1548\"},\"nonselection_glyph\":{\"id\":\"1547\"},\"selection_glyph\":{\"id\":\"1564\"},\"view\":{\"id\":\"1550\"}},\"id\":\"1549\",\"type\":\"GlyphRenderer\"},{\"attributes\":{\"children\":[{\"id\":\"1481\"},{\"id\":\"1487\"},{\"id\":\"1715\"}],\"margin\":[0,0,0,0],\"name\":\"Row02621\",\"tags\":[\"embedded\"]},\"id\":\"1480\",\"type\":\"Row\"},{\"attributes\":{},\"id\":\"1586\",\"type\":\"UnionRenderers\"},{\"attributes\":{\"data_source\":{\"id\":\"1522\"},\"glyph\":{\"id\":\"1525\"},\"hover_glyph\":null,\"muted_glyph\":{\"id\":\"1527\"},\"nonselection_glyph\":{\"id\":\"1526\"},\"selection_glyph\":{\"id\":\"1542\"},\"view\":{\"id\":\"1529\"}},\"id\":\"1528\",\"type\":\"GlyphRenderer\"},{\"attributes\":{},\"id\":\"1521\",\"type\":\"CategoricalTickFormatter\"},{\"attributes\":{\"callback\":null,\"renderers\":[{\"id\":\"1528\"},{\"id\":\"1549\"},{\"id\":\"1571\"}],\"tags\":[\"hv_created\"],\"tooltips\":[[\"Class\",\"@{Class}\"],[\"TotalCoinsMined\",\"@{TotalCoinsMined}\"],[\"TotalCoinSupply\",\"@{TotalCoinSupply}\"],[\"CoinName\",\"@{CoinName}\"]]},\"id\":\"1484\",\"type\":\"HoverTool\"},{\"attributes\":{\"data\":{\"Class\":[0,0,0,0,0,0,0,0,0,0,0,0,0,0,0,0,0,0,0,0,0,0,0,0,0,0,0,0,0,0,0,0,0,0,0,0,0,0,0,0,0,0,0,0,0,0,0,0,0,0,0,0,0,0,0,0,0,0,0,0,0,0,0,0,0,0,0,0,0,0,0,0,0,0,0,0,0,0,0,0,0,0,0,0,0,0,0,0,0,0,0,0,0,0,0,0,0,0,0,0,0,0,0,0,0,0,0,0,0,0,0,0,0,0,0,0,0,0,0,0,0,0,0,0,0,0,0,0,0,0,0,0,0,0,0,0,0,0,0,0,0,0,0,0,0,0,0,0,0,0,0,0,0,0,0,0,0,0,0,0,0,0,0,0,0,0,0,0,0,0,0,0,0,0,0,0,0,0,0,0,0,0,0,0,0,0,0,0,0,0,0,0,0,0,0,0,0,0,0,0,0,0,0,0,0,0,0,0,0,0,0,0,0,0,0,0,0,0,0,0,0,0,0,0,0,0,0,0,0,0,0,0,0,0,0,0,0,0,0,0,0,0,0,0,0,0,0,0,0,0,0,0,0,0,0,0,0,0,0,0,0,0,0,0,0,0,0,0,0,0,0,0,0,0,0,0,0,0,0,0,0,0,0,0,0,0,0,0,0,0,0,0,0,0,0,0,0,0,0,0,0,0,0,0,0,0,0,0,0,0,0,0,0,0,0,0,0,0,0,0,0,0,0,0,0,0,0,0,0,0,0,0,0,0,0,0,0,0,0,0,0,0,0],\"CoinName\":[\"42 Coin\",\"404Coin\",\"EliteCoin\",\"Bitcoin\",\"Litecoin\",\"Dash\",\"BitcoinDark\",\"ProsperCoin\",\"KoboCoin\",\"Spreadcoin\",\"Argentum\",\"Aurora Coin\",\"BlueCoin\",\"MoonCoin\",\"ZetaCoin\",\"SexCoin\",\"Quatloo\",\"EnergyCoin\",\"QuarkCoin\",\"Digitalcoin \",\"BitBar\",\"Catcoin\",\"CryptoBullion\",\"CannaCoin\",\"CryptCoin\",\"DevCoin\",\"EarthCoin\",\"E-Gulden\",\"Einsteinium\",\"Emerald\",\"FlutterCoin\",\"Franko\",\"GrandCoin\",\"GlobalCoin\",\"GoldCoin\",\"HoboNickels\",\"HyperStake\",\"Infinite Coin\",\"IOCoin\",\"IXcoin\",\"KrugerCoin\",\"LuckyCoin\",\"Litebar \",\"MaxCoin\",\"MegaCoin\",\"MinCoin\",\"MazaCoin\",\"NavCoin\",\"NobleCoin\",\"Namecoin\",\"NyanCoin\",\"OpalCoin\",\"Orbitcoin\",\"PotCoin\",\"PhoenixCoin\",\"Reddcoin\",\"RonPaulCoin\",\"StableCoin\",\"SmartCoin\",\"SuperCoin\",\"SyncCoin\",\"SysCoin\",\"TigerCoin\",\"TorCoin\",\"TerraCoin\",\"UnbreakableCoin\",\"Unobtanium\",\"UroCoin\",\"UnitaryStatus Dollar\",\"UltraCoin\",\"ViaCoin\",\"VeriCoin\",\"WorldCoin\",\"X11 Coin\",\"JouleCoin\",\"StealthCoin\",\"ZCC Coin\",\"MonaCoin\",\"Neutron\",\"Gulden\",\"PesetaCoin\",\"Kore\",\"Wild Beast Coin\",\"Flo\",\"8BIT Coin\",\"Sativa Coin\",\"ArtByte\",\"Folding Coin\",\"Ucoin\",\"CypherPunkCoin\",\"OmniCron\",\"Vtorrent\",\"GreenCoin\",\"MasterCoin\",\"SoonCoin\",\"1Credit\",\"IslaCoin\",\"Nexus\",\"MarsCoin \",\"Anarchists Prime\",\"Droidz\",\"BowsCoin\",\"Squall Coin\",\"Song Coin\",\"BitZeny\",\"Paycon\",\"Emercoin\",\"EverGreenCoin\",\"MindCoin\",\"I0coin\",\"Revolution VR\",\"EDRCoin\",\"Hitcoin\",\"Gamecredits\",\"DubaiCoin\",\"CarpeDiemCoin\",\"PWR Coin\",\"BillaryCoin\",\"Adzcoin\",\"YoCoin\",\"SibCoin\",\"EuropeCoin\",\"SwingCoin\",\"Francs\",\"BolivarCoin\",\"Ratecoin\",\"Revenu\",\"Clockcoin\",\"VIP Tokens\",\"BitSend\",\"Omni\",\"PutinCoin\",\"iBankCoin\",\"Frankywillcoin\",\"MudraCoin\",\"PizzaCoin\",\"Lutetium Coin\",\"Komodo\",\"GoldBlocks\",\"CarterCoin\",\"BitTokens\",\"ZayedCoin\",\"MustangCoin\",\"ZoneCoin\",\"RootCoin\",\"DopeCoin\",\"DollarCoin\",\"Swiscoin\",\"Shilling\",\"BuzzCoin\",\"PesoBit\",\"Halloween Coin\",\"RoyalCoin\",\"GanjaCoin V2\",\"LanaCoin\",\"InsaneCoin\",\"KiloCoin\",\"ArtexCoin\",\"EmberCoin\",\"XenixCoin\",\"PLNCoin\",\"AquariusCoin\",\"Kurrent\",\"Eternity\",\"Eurocoin\",\"BitcoinFast\",\"Stakenet\",\"BitConnect Coin\",\"MoneyCoin\",\"Enigma\",\"Russiacoin\",\"GameUnits\",\"GAKHcoin\",\"LiteCreed\",\"OsmiumCoin\",\"Klingon Empire Darsek\",\"Internet of People\",\"KushCoin\",\"Printerium\",\"PacCoin\",\"Impeach\",\"FirstCoin\",\"BeaverCoin\",\"FindCoin\",\"VaultCoin\",\"OpenChat\",\"Canada eCoin\",\"VirtacoinPlus\",\"Impact\",\"EB3coin\",\"HappyCoin\",\"Condensate\",\"Independent Money System\",\"ArgusCoin\",\"LomoCoin\",\"GoldReserve\",\"BenjiRolls\",\"ILCoin\",\"Degas Coin\",\"HTML5 Coin\",\"EquiTrader\",\"Denarius\",\"DigitalPrice\",\"Virta Unique Coin\",\"Bitcoin Planet\",\"Unify\",\"BritCoin\",\"SocialCoin\",\"ArcticCoin\",\"DAS\",\"Linda\",\"DeepOnion\",\"Bitcore\",\"gCn Coin\",\"Onix\",\"Cream\",\"Bitcoin Cash\",\"Monoeci\",\"Vechain\",\"Sojourn Coin\",\"NewYorkCoin\",\"FrazCoin\",\"Kronecoin\",\"AdCoin\",\"Linx\",\"CoinonatX\",\"Ethereum Dark\",\"Regalcoin\",\"TrezarCoin\",\"Elements\",\"TerraNovaCoin\",\"WomenCoin\",\"Theresa May Coin\",\"NamoCoin\",\"LUXCoin\",\"Xios\",\"Bitcloud 2.0\",\"eBoost\",\"BlackholeCoin\",\"Pura\",\"Magnet\",\"Electra\",\"Bitcoin Diamond\",\"Cash & Back Coin\",\"AC3\",\"GermanCoin\",\"LiteCoin Ultra\",\"PopularCoin\",\"PhantomX\",\"Sucre\",\"IrishCoin\",\"Trollcoin\",\"Litecoin Plus\",\"Monkey Project\",\"Pioneer Coin\",\"UnitedBitcoin\",\"My Big Coin\",\"MUNcoin\",\"Unified Society USDEX\",\"ShareChain\",\"Tokyo Coin\",\"LitecoinCash\",\"BitFlip\",\"LottoCoin\",\"Crypto Improvement Fund\",\"Pushi\",\"Ellerium\",\"Ontology\",\"Poseidon\",\"Bitspace\",\"Briacoin\",\"Ignition\",\"Abjcoin\",\"FuturoCoin\",\"Carebit\",\"Proton\",\"iDealCash\",\"Bitcoin Incognito\",\"KEYCO\",\"Swisscoin\",\"TheVig\",\"EmaratCoin\",\"Dekado\",\"Motion\",\"Axe\",\"Trivechain\",\"Giant\",\"Absolute Coin\",\"HexCoin\",\"TPCash\",\"Urals Coin\",\"ARENON\",\"EUNO\",\"Project Pai\",\"PAXEX\",\"Azart\",\"ThunderStake\",\"Kcash\",\"Xchange\",\"Bettex coin\",\"Bitcoin SV\",\"BitMoney\",\"Junson Ming Chan Coin\",\"HerbCoin\",\"Block-Logic\",\"Oduwa\",\"Galilel\",\"Credit\",\"SLICE\",\"Dash Platinum\",\"Nasdacoin\",\"Beetle Coin\",\"Titan Coin\",\"Award\",\"BLAST\",\"Bitcoin Rhodium\",\"GlobalToken\",\"Insane Coin\",\"LiteDoge\",\"SolarCoin\",\"TruckCoin\",\"OrangeCoin\",\"BitstarCoin\",\"HyperCoin\",\"PinkCoin\",\"Crypto Escudo\",\"AudioCoin\",\"IncaKoin\",\"Piggy Coin\",\"Crown Coin\",\"Genstake\",\"SmileyCoin\",\"XiaoMiCoin\",\"CapriCoin\",\" ClubCoin\",\"Bata\",\"Pakcoin\",\"Creditbit \",\"OKCash\",\"WhiteCoin\",\"FriendshipCoin\",\"Triangles Coin\",\"Gapcoin\"],\"TotalCoinSupply\":[\"42\",\"532000000\",\"314159265359\",\"21000000\",\"84000000\",\"22000000\",\"22000000\",\"21000000\",\"350000000\",\"20000000\",\"64000000\",\"16768584\",\"0\",\"384000000000\",\"169795588\",\"250000000\",\"100000000\",\"0\",\"247000000\",\"48166000\",\"500000\",\"21000000 \",\"1000000\",\"13140000\",\"18000000\",\"21000000000\",\"13500000000\",\"21000000 \",\"299792458\",\"32000000\",\"0\",\"11235813\",\"1420609614\",\"70000000\",\"72245700\",\"120000000\",\"0\",\"90600000000\",\"22000000\",\"21000000\",\"265420800\",\"20000000\",\"1350000\",\"100000000\",\"42000000\",\"10000000\",\"2419200000\",\"0\",\"15000000000\",\"21000000\",\"337000000\",\"0\",\"3770000\",\"420000000\",\"98000000\",\"0\",\"21000000\",\"250000000\",\"51200000\",\"0\",\"1000\",\"888000000\",\"47011968\",\"10000000\",\"42000000\",\"80000000\",\"250000\",\"0\",\"1600000000\",\"100000000\",\"23000000\",\"0\",\"265420800\",\"5500000\",\"45000000\",\"0\",\"1000000000\",\"105120000\",\"68000000\",\"1680000000\",\"166386000\",\"12000000\",\"2628000\",\"160000000\",\"0\",\"10000000\",\"1000000000\",\"1000000000\",\"20000000\",\"0\",\"3371337\",\"20000000\",\"10000000000\",\"619478\",\"21000000\",\"92000000000\",\"0\",\"78000000\",\"33000000\",\"53760000\",\"5060000\",\"21000000\",\"0\",\"210240000\",\"250000000\",\"50000000\",\"1000000000\",\"26298000\",\"16000000\",\"21000000\",\"210000000\",\"22000000\",\"26550000000\",\"84000000\",\"10500000\",\"21626280000 \",\"0\",\"42000000\",\"84000000\",\"168351300\",\"24000000\",\"384000000\",\"40000000\",\"20000000\",\"25000000\",\"75000000\",\"222725000\",\"525000000\",\"90000000\",\"139000000\",\"616448\",\"2000000000\",\"44333333\",\"100000000\",\"200000000\",\"25000000\",\"657000000\",\"200000000\",\"50000000\",\"90000000\",\"21000000\",\"9736000\",\"3000000\",\"21000000\",\"0\",\"200000000\",\"10638298\",\"3100000000\",\"30000000\",\"20000000000\",\"0\",\"1500000000\",\"2500124\",\"100000000\",\"7506000000\",\"30000000\",\"10000000000\",\"500000000\",\"850000000\",\"3853326.77707314\",\"38540000 \",\"42000000\",\"228000000\",\"60000000\",\"20000000\",\"33000000\",\"76500000\",\"28000000\",\"650659833\",\"5000000\",\"144000000\",\"13000000\",\"3315789\",\"78835200\",\"2714286\",\"500000000\",\"21000000\",\"9354000\",\"20000000\",\"100000000000\",\"21933333\",\"110000000\",\"3360000\",\"14524851.4827\",\"1000000000\",\"1000000000\",\"100000000 \",\"100000000\",\"110000000\",\"4000000000\",\"100000000\",\"500000000\",\"21212121\",\"28600000\",\"1000000000\",\"40000000\",\"35520400\",\"2500000000\",\"105000000\",\"90000000000\",\"72000000\",\"10000000\",\"100000000\",\"120000000\",\"100000000\",\"19276800\",\"30000000\",\" 75000000\",\"60000000\",\"18900000\",\"50000000000\",\"18898187.6216583\",\"21000000\",\"200000000000\",\"1100000000\",\"100000000\",\"21000000\",\"9507271\",\"86712634466\",\"10500000000\",\"0\",\"20000000\",\"84000000\",\"100000000\",\"100000000\",\"48252000\",\"4200000\",\"27000000\",\"400000000\",\"1800000000\",\"15733333\",\"25000000000\",\"100000000\",\"1200000000\",\"60000000\",\"21000000\",\"200000000\",\"100000000\",\"14788275.991\",\"350000000\",\"144000000\",\"30000000000\",\"210000000\",\"210000000\",\"550000000\",\"50000000000\",\"150000000\",\"4999999999\",\"50000000\",\"19800000\",\"64000000\",\"900000000\",\"4000000\",\"21000000\",\"23000000\",\"20166000\",\"30000000\",\"16600000\",\"232000000\",\"10000000000\",\"800000000\",\"840000000\",\"40000000\",\"18406979840\",\"500000000\",\"25000000\",\"60000000\",\"1000000000\",\"21000000\",\"50000000\",\"3000000\",\"5000000\",\"30000000\",\"100000000\",\"200000000\",\"45000000\",\"5121951220\",\"21000000\",\"18000000\",\"10200000000\",\"100000000\",\"84000000\",\"90000000\",\"22075700\",\"21000000\",\"82546564\",\"5151000\",\"52500000\",\"22105263\",\"1000000000\",\"210000000\",\"55000000\",\"50000000\",\"2100000000\",\"100000000\",\"25000000\",\"18000000000\",\"1000000000\",\"100000000\",\"50000000\",\"21000000\",\"70000000000\",\"0\",\"54000000\",\"120000000\",\"21000000\",\"19035999\",\"74800000000\",\"100000000\",\"19700000\",\"84000000\",\"500000000\",\"5000000000\",\"420000000\",\"64000000\",\"2100000\",\"168000000\",\"30000000\",\"35000000000\",\"98100000000\",\"0\",\"200000000\",\"54256119\",\"0\",\"500000000\",\"1000000000\",\"10500000000\",\"190000000\",\"1000000000\",\"42000000\",\"15000000\",\"50000000000\",\"400000000\",\"208000000\",\"160000000\",\"5000000\",\"182000000\",\"16504333\",\"105000000\",\"300000000\",\"60168145\",\"120000\",\"250000000\"],\"TotalCoinsMined\":{\"__ndarray__\":\"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\",\"dtype\":\"float64\",\"order\":\"little\",\"shape\":[343]}},\"selected\":{\"id\":\"1523\"},\"selection_policy\":{\"id\":\"1539\"}},\"id\":\"1522\",\"type\":\"ColumnDataSource\"},{\"attributes\":{\"fill_alpha\":{\"value\":0.1},\"fill_color\":{\"value\":\"#30a2da\"},\"line_alpha\":{\"value\":0.1},\"line_color\":{\"value\":\"#30a2da\"},\"size\":{\"value\":5.477225575051661},\"x\":{\"field\":\"TotalCoinsMined\"},\"y\":{\"field\":\"TotalCoinSupply\"}},\"id\":\"1526\",\"type\":\"Scatter\"},{\"attributes\":{\"fill_color\":{\"value\":\"#e5ae38\"},\"line_color\":{\"value\":\"#e5ae38\"},\"size\":{\"value\":5.477225575051661},\"x\":{\"field\":\"TotalCoinsMined\"},\"y\":{\"field\":\"TotalCoinSupply\"}},\"id\":\"1568\",\"type\":\"Scatter\"},{\"attributes\":{\"below\":[{\"id\":\"1496\"}],\"center\":[{\"id\":\"1499\"},{\"id\":\"1502\"}],\"height\":300,\"left\":[{\"id\":\"1500\"}],\"margin\":[5,5,5,5],\"min_border_bottom\":10,\"min_border_left\":10,\"min_border_right\":10,\"min_border_top\":10,\"renderers\":[{\"id\":\"1528\"},{\"id\":\"1549\"},{\"id\":\"1571\"}],\"right\":[{\"id\":\"1540\"}],\"sizing_mode\":\"fixed\",\"title\":{\"id\":\"1488\"},\"toolbar\":{\"id\":\"1509\"},\"width\":700,\"x_range\":{\"id\":\"1482\"},\"x_scale\":{\"id\":\"1492\"},\"y_range\":{\"id\":\"1483\"},\"y_scale\":{\"id\":\"1494\"}},\"id\":\"1487\",\"subtype\":\"Figure\",\"type\":\"Plot\"},{\"attributes\":{\"fill_alpha\":{\"value\":0.2},\"fill_color\":{\"value\":\"#fc4f30\"},\"line_alpha\":{\"value\":0.2},\"line_color\":{\"value\":\"#fc4f30\"},\"size\":{\"value\":5.477225575051661},\"x\":{\"field\":\"TotalCoinsMined\"},\"y\":{\"field\":\"TotalCoinSupply\"}},\"id\":\"1548\",\"type\":\"Scatter\"},{\"attributes\":{\"fill_alpha\":{\"value\":0.1},\"fill_color\":{\"value\":\"#fc4f30\"},\"line_alpha\":{\"value\":0.1},\"line_color\":{\"value\":\"#fc4f30\"},\"size\":{\"value\":5.477225575051661},\"x\":{\"field\":\"TotalCoinsMined\"},\"y\":{\"field\":\"TotalCoinSupply\"}},\"id\":\"1547\",\"type\":\"Scatter\"},{\"attributes\":{\"label\":{\"value\":\"2\"},\"renderers\":[{\"id\":\"1571\"}]},\"id\":\"1587\",\"type\":\"LegendItem\"},{\"attributes\":{},\"id\":\"1503\",\"type\":\"SaveTool\"},{\"attributes\":{\"fill_color\":{\"value\":\"#30a2da\"},\"line_color\":{\"value\":\"#30a2da\"},\"size\":{\"value\":5.477225575051661},\"x\":{\"field\":\"TotalCoinsMined\"},\"y\":{\"field\":\"TotalCoinSupply\"}},\"id\":\"1525\",\"type\":\"Scatter\"},{\"attributes\":{\"data\":{\"Class\":[2,2],\"CoinName\":[\"TurtleCoin\",\"BitTorrent\"],\"TotalCoinSupply\":[\"1000000000000\",\"990000000000\"],\"TotalCoinsMined\":{\"__ndarray__\":\"PYqbEsO+KELF9Hue/c9sQg==\",\"dtype\":\"float64\",\"order\":\"little\",\"shape\":[2]}},\"selected\":{\"id\":\"1566\"},\"selection_policy\":{\"id\":\"1586\"}},\"id\":\"1565\",\"type\":\"ColumnDataSource\"},{\"attributes\":{},\"id\":\"1523\",\"type\":\"Selection\"},{\"attributes\":{\"factors\":[\"42\",\"532000000\",\"314159265359\",\"21000000\",\"84000000\",\"22000000\",\"350000000\",\"20000000\",\"64000000\",\"16768584\",\"0\",\"384000000000\",\"169795588\",\"250000000\",\"100000000\",\"247000000\",\"48166000\",\"500000\",\"21000000 \",\"1000000\",\"13140000\",\"18000000\",\"21000000000\",\"13500000000\",\"299792458\",\"32000000\",\"11235813\",\"1420609614\",\"70000000\",\"72245700\",\"120000000\",\"90600000000\",\"265420800\",\"1350000\",\"42000000\",\"10000000\",\"2419200000\",\"15000000000\",\"337000000\",\"3770000\",\"420000000\",\"98000000\",\"51200000\",\"1000\",\"888000000\",\"47011968\",\"80000000\",\"250000\",\"1600000000\",\"23000000\",\"5500000\",\"45000000\",\"1000000000\",\"105120000\",\"68000000\",\"1680000000\",\"166386000\",\"12000000\",\"2628000\",\"160000000\",\"3371337\",\"10000000000\",\"619478\",\"92000000000\",\"78000000\",\"33000000\",\"53760000\",\"5060000\",\"210240000\",\"50000000\",\"26298000\",\"16000000\",\"210000000\",\"26550000000\",\"10500000\",\"21626280000 \",\"168351300\",\"24000000\",\"384000000\",\"40000000\",\"25000000\",\"75000000\",\"222725000\",\"525000000\",\"90000000\",\"139000000\",\"616448\",\"2000000000\",\"44333333\",\"200000000\",\"657000000\",\"9736000\",\"3000000\",\"10638298\",\"3100000000\",\"30000000\",\"20000000000\",\"1500000000\",\"2500124\",\"7506000000\",\"500000000\",\"850000000\",\"3853326.77707314\",\"38540000 \",\"228000000\",\"60000000\",\"76500000\",\"28000000\",\"650659833\",\"5000000\",\"144000000\",\"13000000\",\"3315789\",\"78835200\",\"2714286\",\"9354000\",\"100000000000\",\"21933333\",\"110000000\",\"3360000\",\"14524851.4827\",\"100000000 \",\"4000000000\",\"21212121\",\"28600000\",\"35520400\",\"2500000000\",\"105000000\",\"90000000000\",\"72000000\",\"19276800\",\" 75000000\",\"18900000\",\"50000000000\",\"18898187.6216583\",\"200000000000\",\"1100000000\",\"9507271\",\"86712634466\",\"10500000000\",\"48252000\",\"4200000\",\"27000000\",\"400000000\",\"1800000000\",\"15733333\",\"25000000000\",\"1200000000\",\"14788275.991\",\"30000000000\",\"550000000\",\"150000000\",\"4999999999\",\"19800000\",\"900000000\",\"4000000\",\"20166000\",\"16600000\",\"232000000\",\"800000000\",\"840000000\",\"18406979840\",\"5121951220\",\"10200000000\",\"22075700\",\"82546564\",\"5151000\",\"52500000\",\"22105263\",\"55000000\",\"2100000000\",\"18000000000\",\"70000000000\",\"54000000\",\"19035999\",\"74800000000\",\"19700000\",\"5000000000\",\"2100000\",\"168000000\",\"35000000000\",\"98100000000\",\"54256119\",\"190000000\",\"15000000\",\"208000000\",\"182000000\",\"16504333\",\"300000000\",\"60168145\",\"120000\",\"3600570502\",\"12500000\",\"40000000000\",\"4380000\",\"16555000000\",\"336000000\",\"16180000\",\"2300000000\",\"184467440735\",\"2158812800\",\"1840000000\",\"65789100\",\"16906397\",\"81962100\",\"221052632\",\" 99000000000\",\"2147483647\",\"33500000\",\"74000000\",\"21400000\",\"39999898\",\"301000000\",\"26205539\",\"125000000\",\"32514916898\",\"9999999\",\"185000000\",\"17000000\",\"34426423\",\"2232901\",\"36900000\",\"110290030\",\"75000000000\",\"200084200\",\"340282367\",\"137500000\",\"17405891.19707116\",\"61599965\",\"88888888\",\"91388946\",\"45000000000\",\"156306732.71\",\"9000000000\",\"280000000\",\"31800000\",\"660000000\",\"85000000000\",\"27716121\",\"999481516\",\" 90000000000\",\"1618033\",\"5200000000\",\"19340594\",\"252460800\",\"124000000\",\"6500000000\",\"88000000\",\"18400000\",\"26280000\",\"26000000\",\"600000518\",\"184000000000\",\"44000000\",\"650000000 \",\"100262205\",\"18081806 \",\"16880000000\",\"1750000000\",\"88188888\",\"184470000000\",\"260000000\",\"366000000\",\"7600000000\",\"8080000000\",\"105120001.44\",\"25228800\",\"262800000\",\"30886000\",\"13370000\",\"7000000000\",\"9000000\",\"159918400\",\"10008835635\",\"2800000\",\"24487944\",\"8634140\",\"1400222610\",\"1000000000000\",\"990000000000\"],\"tags\":[[[\"TotalCoinSupply\",\"TotalCoinSupply\",null]]]},\"id\":\"1483\",\"type\":\"FactorRange\"},{\"attributes\":{\"data_source\":{\"id\":\"1565\"},\"glyph\":{\"id\":\"1568\"},\"hover_glyph\":null,\"muted_glyph\":{\"id\":\"1570\"},\"nonselection_glyph\":{\"id\":\"1569\"},\"selection_glyph\":{\"id\":\"1588\"},\"view\":{\"id\":\"1572\"}},\"id\":\"1571\",\"type\":\"GlyphRenderer\"},{\"attributes\":{\"end\":1032670428767.6898,\"reset_end\":1032670428767.6898,\"reset_start\":-48599692876.008446,\"start\":-48599692876.008446,\"tags\":[[[\"TotalCoinsMined\",\"TotalCoinsMined\",null]]]},\"id\":\"1482\",\"type\":\"Range1d\"}],\"root_ids\":[\"1480\"]},\"title\":\"Bokeh Application\",\"version\":\"2.3.2\"}};\n",
       "    var render_items = [{\"docid\":\"14a885f0-c5fa-4fb6-ac6e-c4c7636ab5a0\",\"root_ids\":[\"1480\"],\"roots\":{\"1480\":\"d1addf2e-ee12-4017-83d0-306db5f2fc24\"}}];\n",
       "    root.Bokeh.embed.embed_items_notebook(docs_json, render_items);\n",
       "  }\n",
       "  if (root.Bokeh !== undefined && root.Bokeh.Panel !== undefined) {\n",
       "    embed_document(root);\n",
       "  } else {\n",
       "    var attempts = 0;\n",
       "    var timer = setInterval(function(root) {\n",
       "      if (root.Bokeh !== undefined && root.Bokeh.Panel !== undefined) {\n",
       "        clearInterval(timer);\n",
       "        embed_document(root);\n",
       "      } else if (document.readyState == \"complete\") {\n",
       "        attempts++;\n",
       "        if (attempts > 200) {\n",
       "          clearInterval(timer);\n",
       "          console.log(\"Bokeh: ERROR: Unable to run BokehJS code because BokehJS library is missing\");\n",
       "        }\n",
       "      }\n",
       "    }, 25, root)\n",
       "  }\n",
       "})(window);</script>"
      ],
      "text/plain": [
       ":NdOverlay   [Class]\n",
       "   :Scatter   [TotalCoinsMined]   (TotalCoinSupply,CoinName)"
      ]
     },
     "execution_count": 93,
     "metadata": {
      "application/vnd.holoviews_exec.v0+json": {
       "id": "1480"
      }
     },
     "output_type": "execute_result"
    }
   ],
   "source": [
    "# Plot the scatter with x=\"TotalCoinsMined\" and y=\"TotalCoinSupply\"\n",
    "clustered_df.hvplot.scatter(\n",
    "    x=\"TotalCoinsMined\",\n",
    "    y=\"TotalCoinSupply\",\n",
    "    hover_cols=[\"CoinName\"],\n",
    "    by=\"Class\",\n",
    ")"
   ]
  },
  {
   "cell_type": "code",
   "execution_count": null,
   "metadata": {},
   "outputs": [],
   "source": []
  }
 ],
 "metadata": {
  "file_extension": ".py",
  "kernelspec": {
   "display_name": "Python 3",
   "language": "python",
   "name": "python3"
  },
  "language_info": {
   "codemirror_mode": {
    "name": "ipython",
    "version": 3
   },
   "file_extension": ".py",
   "mimetype": "text/x-python",
   "name": "python",
   "nbconvert_exporter": "python",
   "pygments_lexer": "ipython3",
   "version": "3.7.10"
  },
  "mimetype": "text/x-python",
  "name": "python",
  "npconvert_exporter": "python",
  "pygments_lexer": "ipython3",
  "version": 3
 },
 "nbformat": 4,
 "nbformat_minor": 4
}
